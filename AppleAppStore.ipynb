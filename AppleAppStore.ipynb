{
 "cells": [
  {
   "cell_type": "markdown",
   "id": "2bfefab3",
   "metadata": {},
   "source": [
   ![Apple App Store EDA](https://github.com/ZahidforAI/Python_Apple_AppStore_Analysis/blob/main/AppleAppStoreEDA.png)
   ]
  },
  {
   "cell_type": "markdown",
   "id": "d1007174",
   "metadata": {},
   "source": [
    "# 1.0 About Author\n",
    "- Author: **Zahid Ali**\n",
    "- Project: Apple App Store Data\n",
    "- Author's Contact Info:\\\n",
    "[Email](zahidali852004@gmail.com)\\\n",
    "[Github](https://github.com/ZahidforAI)\\\n",
    "[kaggle](https://www.kaggle.com/zahidaliai)\\\n",
    "[Linkedin](https://www.linkedin.com/in/zahidaliai/)"
   ]
  },
  {
   "cell_type": "markdown",
   "id": "666d6f27",
   "metadata": {},
   "source": [
    "# 2.0 About Data\n",
    "- Data: Apple AppStore\n",
    "- Data Age: The data was collected in the month of October 2021.\n",
    "- **Dataset:** 🔗 [*link*](https://www.kaggle.com/datasets/gauthamp10/apple-appstore-apps)\n",
    "## 2.1 Task:\n",
    "We're going to take a close look at the dataset to understand it better. This will help us clean and organize the data properly. As we write the code, we'll note down any interesting things we find. Finally, we'll put together a summary and draw conclusions based on what we discovered.\n",
    "\n",
    "## 2.2 Objectives:\n",
    "The main goal of this project is to carefully examine the dataset to find important information. We want to highlight customer behaviors and needs to developers and other important people involved. This information will help attract more business to their upcoming applications.\n",
    "\n",
    "## 2.3 Kernel Version Used:\n",
    "- Python 3.11.4"
   ]
  },
  {
   "cell_type": "markdown",
   "id": "fbfc882f",
   "metadata": {},
   "source": [
    "## 3.0 *Import Libraries*\n",
    "- We will use the follwoing libraries\n",
    "    1. Pandas: Data manipulation and analysis library.\n",
    "    2. Numpy: Numerical computing library.\n",
    "    3. Matplotlib: Data visualization library.\n",
    "    4. Seaborn: Statistical data visualization library.\n",
    "    5. Plotl: For creating interactive plots\n"
   ]
  },
  {
   "cell_type": "code",
   "execution_count": 2,
   "id": "643216ca",
   "metadata": {},
   "outputs": [],
   "source": [
    "import pandas as pd \n",
    "import numpy as np \n",
    "\n",
    "# visualization libraries\n",
    "import matplotlib.pyplot as plt \n",
    "import seaborn as sns \n",
    "import plotly.express as px \n",
    "%matplotlib inline\n"
   ]
  },
  {
   "cell_type": "markdown",
   "id": "50eb5ffe",
   "metadata": {},
   "source": [
    "## 4.0  Data Loading, Exploration & Wrangling\n",
    "\n",
    "We will proceed as follow:\n",
    "### 4.1 Load the csv file using pandas\n",
    " \n",
    "### 4.2 Creating the dataframe and understanding the data present in the dataset\n",
    " \n",
    "### 4.3 Dealing with the missing data and the incorrect records\n"
   ]
  },
  {
   "cell_type": "code",
   "execution_count": 3,
   "id": "d340f06b",
   "metadata": {},
   "outputs": [],
   "source": [
    "#Load dataset\n",
    "df = pd.read_csv(\"appleAppData.csv\")"
   ]
  },
  {
   "cell_type": "markdown",
   "id": "a4d75878",
   "metadata": {},
   "source": [
    "### 4.4 Analysing & describing the dataset\n",
    "\n",
    "This code snippet helps you get a complete overview of your data by adjusting a key display setting in Pandas. By setting the option to show all columns, you can ensure that no valuable information is overlooked when working with dataframes."
   ]
  },
  {
   "cell_type": "code",
   "execution_count": 4,
   "id": "15eb340c",
   "metadata": {},
   "outputs": [],
   "source": [
    "pd.set_option(\"display.max_columns\", None)"
   ]
  },
  {
   "cell_type": "markdown",
   "id": "f0ababe8",
   "metadata": {},
   "source": [
    "### 4.5 Get a sneak peek of your data \n",
    "With just a single line of code! Quickly view the top rows of your dataset to get a sense of what you're working with, without having to scroll through the entire file."
   ]
  },
  {
   "cell_type": "code",
   "execution_count": 5,
   "id": "20c73065",
   "metadata": {},
   "outputs": [
    {
     "data": {
      "text/html": [
       "<div>\n",
       "<style scoped>\n",
       "    .dataframe tbody tr th:only-of-type {\n",
       "        vertical-align: middle;\n",
       "    }\n",
       "\n",
       "    .dataframe tbody tr th {\n",
       "        vertical-align: top;\n",
       "    }\n",
       "\n",
       "    .dataframe thead th {\n",
       "        text-align: right;\n",
       "    }\n",
       "</style>\n",
       "<table border=\"1\" class=\"dataframe\">\n",
       "  <thead>\n",
       "    <tr style=\"text-align: right;\">\n",
       "      <th></th>\n",
       "      <th>App_Id</th>\n",
       "      <th>App_Name</th>\n",
       "      <th>AppStore_Url</th>\n",
       "      <th>Primary_Genre</th>\n",
       "      <th>Content_Rating</th>\n",
       "      <th>Size_Bytes</th>\n",
       "      <th>Required_IOS_Version</th>\n",
       "      <th>Released</th>\n",
       "      <th>Updated</th>\n",
       "      <th>Version</th>\n",
       "      <th>Price</th>\n",
       "      <th>Currency</th>\n",
       "      <th>Free</th>\n",
       "      <th>DeveloperId</th>\n",
       "      <th>Developer</th>\n",
       "      <th>Developer_Url</th>\n",
       "      <th>Developer_Website</th>\n",
       "      <th>Average_User_Rating</th>\n",
       "      <th>Reviews</th>\n",
       "      <th>Current_Version_Score</th>\n",
       "      <th>Current_Version_Reviews</th>\n",
       "    </tr>\n",
       "  </thead>\n",
       "  <tbody>\n",
       "    <tr>\n",
       "      <th>0</th>\n",
       "      <td>com.hkbu.arc.apaper</td>\n",
       "      <td>A+ Paper Guide</td>\n",
       "      <td>https://apps.apple.com/us/app/a-paper-guide/id...</td>\n",
       "      <td>Education</td>\n",
       "      <td>4+</td>\n",
       "      <td>21993472.0</td>\n",
       "      <td>8.0</td>\n",
       "      <td>2017-09-28T03:02:41Z</td>\n",
       "      <td>2018-12-21T21:30:36Z</td>\n",
       "      <td>1.1.2</td>\n",
       "      <td>0.00</td>\n",
       "      <td>USD</td>\n",
       "      <td>True</td>\n",
       "      <td>1375410542</td>\n",
       "      <td>HKBU ARC</td>\n",
       "      <td>https://apps.apple.com/us/developer/hkbu-arc/i...</td>\n",
       "      <td>NaN</td>\n",
       "      <td>0.0</td>\n",
       "      <td>0</td>\n",
       "      <td>0.0</td>\n",
       "      <td>0</td>\n",
       "    </tr>\n",
       "    <tr>\n",
       "      <th>1</th>\n",
       "      <td>com.dmitriev.abooks</td>\n",
       "      <td>A-Books</td>\n",
       "      <td>https://apps.apple.com/us/app/a-books/id103157...</td>\n",
       "      <td>Book</td>\n",
       "      <td>4+</td>\n",
       "      <td>13135872.0</td>\n",
       "      <td>10.0</td>\n",
       "      <td>2015-08-31T19:31:32Z</td>\n",
       "      <td>2019-07-23T20:31:09Z</td>\n",
       "      <td>1.3</td>\n",
       "      <td>0.00</td>\n",
       "      <td>USD</td>\n",
       "      <td>True</td>\n",
       "      <td>1031572001</td>\n",
       "      <td>Roman Dmitriev</td>\n",
       "      <td>https://apps.apple.com/us/developer/roman-dmit...</td>\n",
       "      <td>NaN</td>\n",
       "      <td>5.0</td>\n",
       "      <td>1</td>\n",
       "      <td>5.0</td>\n",
       "      <td>1</td>\n",
       "    </tr>\n",
       "    <tr>\n",
       "      <th>2</th>\n",
       "      <td>no.terp.abooks</td>\n",
       "      <td>A-books</td>\n",
       "      <td>https://apps.apple.com/us/app/a-books/id145702...</td>\n",
       "      <td>Book</td>\n",
       "      <td>4+</td>\n",
       "      <td>21943296.0</td>\n",
       "      <td>9.0</td>\n",
       "      <td>2021-04-14T07:00:00Z</td>\n",
       "      <td>2021-05-30T21:08:54Z</td>\n",
       "      <td>1.3.1</td>\n",
       "      <td>0.00</td>\n",
       "      <td>USD</td>\n",
       "      <td>True</td>\n",
       "      <td>1457024163</td>\n",
       "      <td>Terp AS</td>\n",
       "      <td>https://apps.apple.com/us/developer/terp-as/id...</td>\n",
       "      <td>NaN</td>\n",
       "      <td>0.0</td>\n",
       "      <td>0</td>\n",
       "      <td>0.0</td>\n",
       "      <td>0</td>\n",
       "    </tr>\n",
       "    <tr>\n",
       "      <th>3</th>\n",
       "      <td>fr.antoinettefleur.Book1</td>\n",
       "      <td>A-F Book #1</td>\n",
       "      <td>https://apps.apple.com/us/app/a-f-book-1/id500...</td>\n",
       "      <td>Book</td>\n",
       "      <td>4+</td>\n",
       "      <td>81851392.0</td>\n",
       "      <td>8.0</td>\n",
       "      <td>2012-02-10T03:40:07Z</td>\n",
       "      <td>2019-10-29T12:40:37Z</td>\n",
       "      <td>1.2</td>\n",
       "      <td>2.99</td>\n",
       "      <td>USD</td>\n",
       "      <td>False</td>\n",
       "      <td>439568839</td>\n",
       "      <td>i-editeur.com</td>\n",
       "      <td>https://apps.apple.com/us/developer/i-editeur-...</td>\n",
       "      <td>NaN</td>\n",
       "      <td>0.0</td>\n",
       "      <td>0</td>\n",
       "      <td>0.0</td>\n",
       "      <td>0</td>\n",
       "    </tr>\n",
       "    <tr>\n",
       "      <th>4</th>\n",
       "      <td>com.imonstersoft.azdictionaryios</td>\n",
       "      <td>A-Z Synonyms Dictionary</td>\n",
       "      <td>https://apps.apple.com/us/app/a-z-synonyms-dic...</td>\n",
       "      <td>Reference</td>\n",
       "      <td>4+</td>\n",
       "      <td>64692224.0</td>\n",
       "      <td>9.0</td>\n",
       "      <td>2020-12-16T08:00:00Z</td>\n",
       "      <td>2020-12-18T21:36:11Z</td>\n",
       "      <td>1.0.1</td>\n",
       "      <td>0.00</td>\n",
       "      <td>USD</td>\n",
       "      <td>True</td>\n",
       "      <td>656731821</td>\n",
       "      <td>Ngov chiheang</td>\n",
       "      <td>https://apps.apple.com/us/developer/ngov-chihe...</td>\n",
       "      <td>http://imonstersoft.com</td>\n",
       "      <td>0.0</td>\n",
       "      <td>0</td>\n",
       "      <td>0.0</td>\n",
       "      <td>0</td>\n",
       "    </tr>\n",
       "  </tbody>\n",
       "</table>\n",
       "</div>"
      ],
      "text/plain": [
       "                             App_Id                 App_Name  \\\n",
       "0               com.hkbu.arc.apaper           A+ Paper Guide   \n",
       "1               com.dmitriev.abooks                  A-Books   \n",
       "2                    no.terp.abooks                  A-books   \n",
       "3          fr.antoinettefleur.Book1              A-F Book #1   \n",
       "4  com.imonstersoft.azdictionaryios  A-Z Synonyms Dictionary   \n",
       "\n",
       "                                        AppStore_Url Primary_Genre  \\\n",
       "0  https://apps.apple.com/us/app/a-paper-guide/id...     Education   \n",
       "1  https://apps.apple.com/us/app/a-books/id103157...          Book   \n",
       "2  https://apps.apple.com/us/app/a-books/id145702...          Book   \n",
       "3  https://apps.apple.com/us/app/a-f-book-1/id500...          Book   \n",
       "4  https://apps.apple.com/us/app/a-z-synonyms-dic...     Reference   \n",
       "\n",
       "  Content_Rating  Size_Bytes Required_IOS_Version              Released  \\\n",
       "0             4+  21993472.0                  8.0  2017-09-28T03:02:41Z   \n",
       "1             4+  13135872.0                 10.0  2015-08-31T19:31:32Z   \n",
       "2             4+  21943296.0                  9.0  2021-04-14T07:00:00Z   \n",
       "3             4+  81851392.0                  8.0  2012-02-10T03:40:07Z   \n",
       "4             4+  64692224.0                  9.0  2020-12-16T08:00:00Z   \n",
       "\n",
       "                Updated Version  Price Currency   Free  DeveloperId  \\\n",
       "0  2018-12-21T21:30:36Z   1.1.2   0.00      USD   True   1375410542   \n",
       "1  2019-07-23T20:31:09Z     1.3   0.00      USD   True   1031572001   \n",
       "2  2021-05-30T21:08:54Z   1.3.1   0.00      USD   True   1457024163   \n",
       "3  2019-10-29T12:40:37Z     1.2   2.99      USD  False    439568839   \n",
       "4  2020-12-18T21:36:11Z   1.0.1   0.00      USD   True    656731821   \n",
       "\n",
       "        Developer                                      Developer_Url  \\\n",
       "0        HKBU ARC  https://apps.apple.com/us/developer/hkbu-arc/i...   \n",
       "1  Roman Dmitriev  https://apps.apple.com/us/developer/roman-dmit...   \n",
       "2         Terp AS  https://apps.apple.com/us/developer/terp-as/id...   \n",
       "3   i-editeur.com  https://apps.apple.com/us/developer/i-editeur-...   \n",
       "4   Ngov chiheang  https://apps.apple.com/us/developer/ngov-chihe...   \n",
       "\n",
       "         Developer_Website  Average_User_Rating  Reviews  \\\n",
       "0                      NaN                  0.0        0   \n",
       "1                      NaN                  5.0        1   \n",
       "2                      NaN                  0.0        0   \n",
       "3                      NaN                  0.0        0   \n",
       "4  http://imonstersoft.com                  0.0        0   \n",
       "\n",
       "   Current_Version_Score  Current_Version_Reviews  \n",
       "0                    0.0                        0  \n",
       "1                    5.0                        1  \n",
       "2                    0.0                        0  \n",
       "3                    0.0                        0  \n",
       "4                    0.0                        0  "
      ]
     },
     "execution_count": 5,
     "metadata": {},
     "output_type": "execute_result"
    }
   ],
   "source": [
    "df.head()"
   ]
  },
  {
   "cell_type": "markdown",
   "id": "1ede155b",
   "metadata": {},
   "source": [
    "### 4.6 View the column names"
   ]
  },
  {
   "cell_type": "code",
   "execution_count": 6,
   "id": "3d5c9261",
   "metadata": {},
   "outputs": [
    {
     "data": {
      "text/plain": [
       "Index(['App_Id', 'App_Name', 'AppStore_Url', 'Primary_Genre', 'Content_Rating',\n",
       "       'Size_Bytes', 'Required_IOS_Version', 'Released', 'Updated', 'Version',\n",
       "       'Price', 'Currency', 'Free', 'DeveloperId', 'Developer',\n",
       "       'Developer_Url', 'Developer_Website', 'Average_User_Rating', 'Reviews',\n",
       "       'Current_Version_Score', 'Current_Version_Reviews'],\n",
       "      dtype='object')"
      ]
     },
     "execution_count": 6,
     "metadata": {},
     "output_type": "execute_result"
    }
   ],
   "source": [
    "df.columns"
   ]
  },
  {
   "cell_type": "markdown",
   "id": "068077c9",
   "metadata": {},
   "source": [
    "### 4.7 View the shape of the dataset\n"
   ]
  },
  {
   "cell_type": "code",
   "execution_count": 7,
   "id": "d0f307f7",
   "metadata": {},
   "outputs": [
    {
     "name": "stdout",
     "output_type": "stream",
     "text": [
      "The dataframe has 1230376 rows and 21 columns\n"
     ]
    }
   ],
   "source": [
    "print(f\"The dataframe has {df.shape[0]} rows and {df.shape[1]} columns\")"
   ]
  },
  {
   "cell_type": "markdown",
   "id": "bee702fe",
   "metadata": {},
   "source": [
    "#### Observation Set 1:\n",
    "> Attributes Released, in Updated column date & time are present which has data in UTC format.\n",
    "\n",
    "- The T doesn’t really stand for anything. It is just the separator that the ISO 8601 combined date-time format requires. \n",
    "- You can read it as an abbreviation for Time. The Z stands for the Zero timezone, as it is offset by 0 from the Coordinated Universal Time (UTC)."
   ]
  },
  {
   "cell_type": "code",
   "execution_count": 8,
   "id": "0767c498",
   "metadata": {},
   "outputs": [
    {
     "name": "stdout",
     "output_type": "stream",
     "text": [
      "<class 'pandas.core.frame.DataFrame'>\n",
      "RangeIndex: 1230376 entries, 0 to 1230375\n",
      "Data columns (total 21 columns):\n",
      " #   Column                   Non-Null Count    Dtype  \n",
      "---  ------                   --------------    -----  \n",
      " 0   App_Id                   1230376 non-null  object \n",
      " 1   App_Name                 1230375 non-null  object \n",
      " 2   AppStore_Url             1230376 non-null  object \n",
      " 3   Primary_Genre            1230376 non-null  object \n",
      " 4   Content_Rating           1230376 non-null  object \n",
      " 5   Size_Bytes               1230152 non-null  float64\n",
      " 6   Required_IOS_Version     1230376 non-null  object \n",
      " 7   Released                 1230373 non-null  object \n",
      " 8   Updated                  1230376 non-null  object \n",
      " 9   Version                  1230376 non-null  object \n",
      " 10  Price                    1229886 non-null  float64\n",
      " 11  Currency                 1230376 non-null  object \n",
      " 12  Free                     1230376 non-null  bool   \n",
      " 13  DeveloperId              1230376 non-null  int64  \n",
      " 14  Developer                1230376 non-null  object \n",
      " 15  Developer_Url            1229267 non-null  object \n",
      " 16  Developer_Website        586388 non-null   object \n",
      " 17  Average_User_Rating      1230376 non-null  float64\n",
      " 18  Reviews                  1230376 non-null  int64  \n",
      " 19  Current_Version_Score    1230376 non-null  float64\n",
      " 20  Current_Version_Reviews  1230376 non-null  int64  \n",
      "dtypes: bool(1), float64(4), int64(3), object(13)\n",
      "memory usage: 188.9+ MB\n"
     ]
    }
   ],
   "source": [
    "df.info()"
   ]
  },
  {
   "cell_type": "markdown",
   "id": "0d162e1f",
   "metadata": {},
   "source": [
    "### 4.8 Descriptive Statistics\n",
    "We use descriptive statistics to summarize and understand the key features of dataset."
   ]
  },
  {
   "cell_type": "code",
   "execution_count": 9,
   "id": "b14e1941",
   "metadata": {},
   "outputs": [
    {
     "data": {
      "text/html": [
       "<div>\n",
       "<style scoped>\n",
       "    .dataframe tbody tr th:only-of-type {\n",
       "        vertical-align: middle;\n",
       "    }\n",
       "\n",
       "    .dataframe tbody tr th {\n",
       "        vertical-align: top;\n",
       "    }\n",
       "\n",
       "    .dataframe thead th {\n",
       "        text-align: right;\n",
       "    }\n",
       "</style>\n",
       "<table border=\"1\" class=\"dataframe\">\n",
       "  <thead>\n",
       "    <tr style=\"text-align: right;\">\n",
       "      <th></th>\n",
       "      <th>Size_Bytes</th>\n",
       "      <th>Price</th>\n",
       "      <th>DeveloperId</th>\n",
       "      <th>Average_User_Rating</th>\n",
       "      <th>Reviews</th>\n",
       "      <th>Current_Version_Score</th>\n",
       "      <th>Current_Version_Reviews</th>\n",
       "    </tr>\n",
       "  </thead>\n",
       "  <tbody>\n",
       "    <tr>\n",
       "      <th>count</th>\n",
       "      <td>1.230152e+06</td>\n",
       "      <td>1.229886e+06</td>\n",
       "      <td>1.230376e+06</td>\n",
       "      <td>1.230376e+06</td>\n",
       "      <td>1.230376e+06</td>\n",
       "      <td>1.230376e+06</td>\n",
       "      <td>1.230376e+06</td>\n",
       "    </tr>\n",
       "    <tr>\n",
       "      <th>mean</th>\n",
       "      <td>7.510857e+07</td>\n",
       "      <td>5.041264e-01</td>\n",
       "      <td>1.092869e+09</td>\n",
       "      <td>1.788387e+00</td>\n",
       "      <td>8.259478e+02</td>\n",
       "      <td>1.788387e+00</td>\n",
       "      <td>8.259478e+02</td>\n",
       "    </tr>\n",
       "    <tr>\n",
       "      <th>std</th>\n",
       "      <td>2.318726e+08</td>\n",
       "      <td>6.869674e+00</td>\n",
       "      <td>4.090897e+08</td>\n",
       "      <td>2.154105e+00</td>\n",
       "      <td>5.016051e+04</td>\n",
       "      <td>2.154105e+00</td>\n",
       "      <td>5.016051e+04</td>\n",
       "    </tr>\n",
       "    <tr>\n",
       "      <th>min</th>\n",
       "      <td>2.762800e+04</td>\n",
       "      <td>0.000000e+00</td>\n",
       "      <td>2.816565e+08</td>\n",
       "      <td>0.000000e+00</td>\n",
       "      <td>0.000000e+00</td>\n",
       "      <td>0.000000e+00</td>\n",
       "      <td>0.000000e+00</td>\n",
       "    </tr>\n",
       "    <tr>\n",
       "      <th>25%</th>\n",
       "      <td>2.041344e+07</td>\n",
       "      <td>0.000000e+00</td>\n",
       "      <td>7.381109e+08</td>\n",
       "      <td>0.000000e+00</td>\n",
       "      <td>0.000000e+00</td>\n",
       "      <td>0.000000e+00</td>\n",
       "      <td>0.000000e+00</td>\n",
       "    </tr>\n",
       "    <tr>\n",
       "      <th>50%</th>\n",
       "      <td>4.333158e+07</td>\n",
       "      <td>0.000000e+00</td>\n",
       "      <td>1.179711e+09</td>\n",
       "      <td>0.000000e+00</td>\n",
       "      <td>0.000000e+00</td>\n",
       "      <td>0.000000e+00</td>\n",
       "      <td>0.000000e+00</td>\n",
       "    </tr>\n",
       "    <tr>\n",
       "      <th>75%</th>\n",
       "      <td>8.365466e+07</td>\n",
       "      <td>0.000000e+00</td>\n",
       "      <td>1.471960e+09</td>\n",
       "      <td>4.333330e+00</td>\n",
       "      <td>3.000000e+00</td>\n",
       "      <td>4.333330e+00</td>\n",
       "      <td>3.000000e+00</td>\n",
       "    </tr>\n",
       "    <tr>\n",
       "      <th>max</th>\n",
       "      <td>7.677945e+10</td>\n",
       "      <td>9.999900e+02</td>\n",
       "      <td>1.590233e+09</td>\n",
       "      <td>5.000000e+00</td>\n",
       "      <td>2.268533e+07</td>\n",
       "      <td>5.000000e+00</td>\n",
       "      <td>2.268533e+07</td>\n",
       "    </tr>\n",
       "  </tbody>\n",
       "</table>\n",
       "</div>"
      ],
      "text/plain": [
       "         Size_Bytes         Price   DeveloperId  Average_User_Rating  \\\n",
       "count  1.230152e+06  1.229886e+06  1.230376e+06         1.230376e+06   \n",
       "mean   7.510857e+07  5.041264e-01  1.092869e+09         1.788387e+00   \n",
       "std    2.318726e+08  6.869674e+00  4.090897e+08         2.154105e+00   \n",
       "min    2.762800e+04  0.000000e+00  2.816565e+08         0.000000e+00   \n",
       "25%    2.041344e+07  0.000000e+00  7.381109e+08         0.000000e+00   \n",
       "50%    4.333158e+07  0.000000e+00  1.179711e+09         0.000000e+00   \n",
       "75%    8.365466e+07  0.000000e+00  1.471960e+09         4.333330e+00   \n",
       "max    7.677945e+10  9.999900e+02  1.590233e+09         5.000000e+00   \n",
       "\n",
       "            Reviews  Current_Version_Score  Current_Version_Reviews  \n",
       "count  1.230376e+06           1.230376e+06             1.230376e+06  \n",
       "mean   8.259478e+02           1.788387e+00             8.259478e+02  \n",
       "std    5.016051e+04           2.154105e+00             5.016051e+04  \n",
       "min    0.000000e+00           0.000000e+00             0.000000e+00  \n",
       "25%    0.000000e+00           0.000000e+00             0.000000e+00  \n",
       "50%    0.000000e+00           0.000000e+00             0.000000e+00  \n",
       "75%    3.000000e+00           4.333330e+00             3.000000e+00  \n",
       "max    2.268533e+07           5.000000e+00             2.268533e+07  "
      ]
     },
     "execution_count": 9,
     "metadata": {},
     "output_type": "execute_result"
    }
   ],
   "source": [
    "df.describe()"
   ]
  },
  {
   "cell_type": "markdown",
   "id": "c4fec253",
   "metadata": {},
   "source": [
    "#### Observation Set 2:\n",
    "> We have 7 numeric columns in the original dataset\n",
    "##### Approach:\n",
    "> Column Size_bytes contains data in Bytes. --> We will add one column to hold the size_bytes data in MB format"
   ]
  },
  {
   "cell_type": "markdown",
   "id": "1d9b451f",
   "metadata": {},
   "source": [
    "### 4.9 Missing Values in the Data"
   ]
  },
  {
   "cell_type": "code",
   "execution_count": 10,
   "id": "a40a3d7d",
   "metadata": {},
   "outputs": [
    {
     "data": {
      "text/plain": [
       "Developer_Website          643988\n",
       "Developer_Url                1109\n",
       "Price                         490\n",
       "Size_Bytes                    224\n",
       "Released                        3\n",
       "App_Name                        1\n",
       "Free                            0\n",
       "Current_Version_Score           0\n",
       "Reviews                         0\n",
       "Average_User_Rating             0\n",
       "Developer                       0\n",
       "DeveloperId                     0\n",
       "App_Id                          0\n",
       "Currency                        0\n",
       "Version                         0\n",
       "Updated                         0\n",
       "Required_IOS_Version            0\n",
       "Content_Rating                  0\n",
       "Primary_Genre                   0\n",
       "AppStore_Url                    0\n",
       "Current_Version_Reviews         0\n",
       "dtype: int64"
      ]
     },
     "execution_count": 10,
     "metadata": {},
     "output_type": "execute_result"
    }
   ],
   "source": [
    "df.isnull().sum().sort_values(ascending=False)"
   ]
  },
  {
   "cell_type": "markdown",
   "id": "a6b73b4f",
   "metadata": {},
   "source": [
    "## 5.0 **Exploratory Analysis and Visualization**"
   ]
  },
  {
   "cell_type": "code",
   "execution_count": 11,
   "id": "57add8c1",
   "metadata": {},
   "outputs": [
    {
     "data": {
      "text/plain": [
       "Text(0.5, 1.0, 'Missing null values')"
      ]
     },
     "execution_count": 11,
     "metadata": {},
     "output_type": "execute_result"
    },
    {
     "data": {
      "image/png": "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",
      "text/plain": [
       "<Figure size 1500x600 with 1 Axes>"
      ]
     },
     "metadata": {},
     "output_type": "display_data"
    }
   ],
   "source": [
    "plt.figure(figsize=(15, 6))\n",
    "sns.heatmap(df.isnull(),yticklabels = False, cbar = False , cmap = 'viridis')\n",
    "plt.title(\"Missing null values\")"
   ]
  },
  {
   "cell_type": "markdown",
   "id": "a9a763ae",
   "metadata": {},
   "source": [
    "> **Figure-1:** Provide us the visual on the missing values in a dataframe 'df'"
   ]
  },
  {
   "cell_type": "markdown",
   "id": "9aa66818",
   "metadata": {},
   "source": [
    "#### Get a clearer picture of missing data with this nifty code snippet! See the percentage of null values in your dataset sorted in ascending order, making it easy to identify which features have the most missing data."
   ]
  },
  {
   "cell_type": "code",
   "execution_count": 12,
   "id": "5b1201cc",
   "metadata": {},
   "outputs": [
    {
     "data": {
      "text/plain": [
       "Developer_Website          52.340748\n",
       "Developer_Url               0.090135\n",
       "Price                       0.039825\n",
       "Size_Bytes                  0.018206\n",
       "Released                    0.000244\n",
       "App_Name                    0.000081\n",
       "Free                        0.000000\n",
       "Current_Version_Score       0.000000\n",
       "Reviews                     0.000000\n",
       "Average_User_Rating         0.000000\n",
       "Developer                   0.000000\n",
       "DeveloperId                 0.000000\n",
       "App_Id                      0.000000\n",
       "Currency                    0.000000\n",
       "Version                     0.000000\n",
       "Updated                     0.000000\n",
       "Required_IOS_Version        0.000000\n",
       "Content_Rating              0.000000\n",
       "Primary_Genre               0.000000\n",
       "AppStore_Url                0.000000\n",
       "Current_Version_Reviews     0.000000\n",
       "dtype: float64"
      ]
     },
     "execution_count": 12,
     "metadata": {},
     "output_type": "execute_result"
    }
   ],
   "source": [
    "missing_percentage = (df.isnull().sum().sort_values(ascending = False)/len(df))*100\n",
    "missing_percentage"
   ]
  },
  {
   "cell_type": "markdown",
   "id": "d454ad7e",
   "metadata": {},
   "source": [
    "### 5.1 We will generate a graphical representation of the percentage of null values by plotting the data using an appropriate charting technique."
   ]
  },
  {
   "cell_type": "code",
   "execution_count": 13,
   "id": "fa1bb3e0",
   "metadata": {},
   "outputs": [
    {
     "data": {
      "text/plain": [
       "Text(0.5, 1.0, 'Percentage of null values')"
      ]
     },
     "execution_count": 13,
     "metadata": {},
     "output_type": "execute_result"
    },
    {
     "data": {
      "image/png": "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",
      "text/plain": [
       "<Figure size 2000x600 with 1 Axes>"
      ]
     },
     "metadata": {},
     "output_type": "display_data"
    }
   ],
   "source": [
    "missing_percentage = missing_percentage[missing_percentage != 0] # Only the missing data\n",
    "plt.figure(figsize=(20,6))\n",
    "missing_percentage.plot(kind = 'barh')\n",
    "plt.title(\"Percentage of null values\")"
   ]
  },
  {
   "cell_type": "markdown",
   "id": "46ab4a8f",
   "metadata": {},
   "source": [
    "> **Figure-2:** It is obvious that due to high presence of null values iside Developer Website column, all other null values are not visible"
   ]
  },
  {
   "cell_type": "markdown",
   "id": "e4c240bd",
   "metadata": {},
   "source": [
    "#### Observation Set 3: \n",
    "\n",
    "> The column having highest percentage of null values is :\\\n",
    "**Developer Website**\n",
    "\n",
    "##### Approach:\n",
    "Based on its lack of relevance and the high number of NULL values associated with it, we have made the decision to drop this attribute from the dataset."
   ]
  },
  {
   "cell_type": "code",
   "execution_count": 14,
   "id": "2c69bdee",
   "metadata": {},
   "outputs": [
    {
     "name": "stdout",
     "output_type": "stream",
     "text": [
      "<class 'pandas.core.frame.DataFrame'>\n",
      "RangeIndex: 1230376 entries, 0 to 1230375\n",
      "Data columns (total 20 columns):\n",
      " #   Column                   Non-Null Count    Dtype  \n",
      "---  ------                   --------------    -----  \n",
      " 0   App_Id                   1230376 non-null  object \n",
      " 1   App_Name                 1230375 non-null  object \n",
      " 2   AppStore_Url             1230376 non-null  object \n",
      " 3   Primary_Genre            1230376 non-null  object \n",
      " 4   Content_Rating           1230376 non-null  object \n",
      " 5   Size_Bytes               1230152 non-null  float64\n",
      " 6   Required_IOS_Version     1230376 non-null  object \n",
      " 7   Released                 1230373 non-null  object \n",
      " 8   Updated                  1230376 non-null  object \n",
      " 9   Version                  1230376 non-null  object \n",
      " 10  Price                    1229886 non-null  float64\n",
      " 11  Currency                 1230376 non-null  object \n",
      " 12  Free                     1230376 non-null  bool   \n",
      " 13  DeveloperId              1230376 non-null  int64  \n",
      " 14  Developer                1230376 non-null  object \n",
      " 15  Developer_Url            1229267 non-null  object \n",
      " 16  Average_User_Rating      1230376 non-null  float64\n",
      " 17  Reviews                  1230376 non-null  int64  \n",
      " 18  Current_Version_Score    1230376 non-null  float64\n",
      " 19  Current_Version_Reviews  1230376 non-null  int64  \n",
      "dtypes: bool(1), float64(4), int64(3), object(12)\n",
      "memory usage: 179.5+ MB\n"
     ]
    }
   ],
   "source": [
    "df.drop('Developer_Website',axis=1,inplace=True)\n",
    "df.info()"
   ]
  },
  {
   "cell_type": "markdown",
   "id": "7f6ccdbd",
   "metadata": {},
   "source": [
    "#### Approach:\n",
    "Price and Size_Bytes are important columns so it will be helpful to fill the null values in it."
   ]
  },
  {
   "cell_type": "code",
   "execution_count": 15,
   "id": "4bbe1de0",
   "metadata": {},
   "outputs": [
    {
     "data": {
      "text/plain": [
       "Developer_Url              1109\n",
       "Released                      3\n",
       "App_Name                      1\n",
       "App_Id                        0\n",
       "Currency                      0\n",
       "Current_Version_Score         0\n",
       "Reviews                       0\n",
       "Average_User_Rating           0\n",
       "Developer                     0\n",
       "DeveloperId                   0\n",
       "Free                          0\n",
       "Price                         0\n",
       "Version                       0\n",
       "Updated                       0\n",
       "Required_IOS_Version          0\n",
       "Size_Bytes                    0\n",
       "Content_Rating                0\n",
       "Primary_Genre                 0\n",
       "AppStore_Url                  0\n",
       "Current_Version_Reviews       0\n",
       "dtype: int64"
      ]
     },
     "execution_count": 15,
     "metadata": {},
     "output_type": "execute_result"
    }
   ],
   "source": [
    "#filling null values with mean value of Price and Size_Bytes column\n",
    "df['Price'] = df['Price'].fillna(df['Price'].mean())\n",
    "df['Size_Bytes'] = df['Size_Bytes'].fillna(df['Size_Bytes'].mean())\n",
    "\n",
    "##have a view of refreshed dataset again\n",
    "df.isnull().sum().sort_values(ascending = False)"
   ]
  },
  {
   "cell_type": "markdown",
   "id": "5244a18c",
   "metadata": {},
   "source": [
    "### 5.2 To view  only those rows where a column has null values"
   ]
  },
  {
   "cell_type": "code",
   "execution_count": 16,
   "id": "8a28397a",
   "metadata": {},
   "outputs": [
    {
     "data": {
      "text/html": [
       "<div>\n",
       "<style scoped>\n",
       "    .dataframe tbody tr th:only-of-type {\n",
       "        vertical-align: middle;\n",
       "    }\n",
       "\n",
       "    .dataframe tbody tr th {\n",
       "        vertical-align: top;\n",
       "    }\n",
       "\n",
       "    .dataframe thead th {\n",
       "        text-align: right;\n",
       "    }\n",
       "</style>\n",
       "<table border=\"1\" class=\"dataframe\">\n",
       "  <thead>\n",
       "    <tr style=\"text-align: right;\">\n",
       "      <th></th>\n",
       "      <th>App_Id</th>\n",
       "      <th>App_Name</th>\n",
       "      <th>AppStore_Url</th>\n",
       "      <th>Primary_Genre</th>\n",
       "      <th>Content_Rating</th>\n",
       "      <th>Size_Bytes</th>\n",
       "      <th>Required_IOS_Version</th>\n",
       "      <th>Released</th>\n",
       "      <th>Updated</th>\n",
       "      <th>Version</th>\n",
       "      <th>Price</th>\n",
       "      <th>Currency</th>\n",
       "      <th>Free</th>\n",
       "      <th>DeveloperId</th>\n",
       "      <th>Developer</th>\n",
       "      <th>Developer_Url</th>\n",
       "      <th>Average_User_Rating</th>\n",
       "      <th>Reviews</th>\n",
       "      <th>Current_Version_Score</th>\n",
       "      <th>Current_Version_Reviews</th>\n",
       "    </tr>\n",
       "  </thead>\n",
       "  <tbody>\n",
       "    <tr>\n",
       "      <th>264853</th>\n",
       "      <td>com.ironhidegames.frontiers.universal.premium</td>\n",
       "      <td>Kingdom Rush Frontiers TD+</td>\n",
       "      <td>https://apps.apple.com/us/app/kingdom-rush-fro...</td>\n",
       "      <td>Games</td>\n",
       "      <td>12+</td>\n",
       "      <td>7.510857e+07</td>\n",
       "      <td>13.0</td>\n",
       "      <td>NaN</td>\n",
       "      <td>2021-11-12T08:00:00Z</td>\n",
       "      <td>5.4.15</td>\n",
       "      <td>0.504126</td>\n",
       "      <td>USD</td>\n",
       "      <td>False</td>\n",
       "      <td>1542047256</td>\n",
       "      <td>Ironhide Irl</td>\n",
       "      <td>https://apps.apple.com/us/developer/ironhide-i...</td>\n",
       "      <td>0.0</td>\n",
       "      <td>0</td>\n",
       "      <td>0.0</td>\n",
       "      <td>0</td>\n",
       "    </tr>\n",
       "    <tr>\n",
       "      <th>836858</th>\n",
       "      <td>com.redgamesco.transformers</td>\n",
       "      <td>Transformers: Tactical Arena</td>\n",
       "      <td>https://apps.apple.com/us/app/transformers-tac...</td>\n",
       "      <td>Games</td>\n",
       "      <td>9+</td>\n",
       "      <td>7.510857e+07</td>\n",
       "      <td>13.5.0</td>\n",
       "      <td>NaN</td>\n",
       "      <td>2021-11-05T07:00:00Z</td>\n",
       "      <td>0.1</td>\n",
       "      <td>0.504126</td>\n",
       "      <td>USD</td>\n",
       "      <td>False</td>\n",
       "      <td>1456007507</td>\n",
       "      <td>RED GAMES CO, LLC</td>\n",
       "      <td>https://apps.apple.com/us/developer/red-games-...</td>\n",
       "      <td>0.0</td>\n",
       "      <td>0</td>\n",
       "      <td>0.0</td>\n",
       "      <td>0</td>\n",
       "    </tr>\n",
       "    <tr>\n",
       "      <th>919513</th>\n",
       "      <td>com.crayolallc.crayola-create-and-play-plus</td>\n",
       "      <td>Crayola Create and Play+</td>\n",
       "      <td>https://apps.apple.com/us/app/crayola-create-a...</td>\n",
       "      <td>Games</td>\n",
       "      <td>4+</td>\n",
       "      <td>7.510857e+07</td>\n",
       "      <td>13</td>\n",
       "      <td>NaN</td>\n",
       "      <td>2021-10-29T07:00:00Z</td>\n",
       "      <td>1.52</td>\n",
       "      <td>0.504126</td>\n",
       "      <td>USD</td>\n",
       "      <td>False</td>\n",
       "      <td>1456007507</td>\n",
       "      <td>RED GAMES CO, LLC</td>\n",
       "      <td>https://apps.apple.com/us/developer/red-games-...</td>\n",
       "      <td>0.0</td>\n",
       "      <td>0</td>\n",
       "      <td>0.0</td>\n",
       "      <td>0</td>\n",
       "    </tr>\n",
       "  </tbody>\n",
       "</table>\n",
       "</div>"
      ],
      "text/plain": [
       "                                               App_Id  \\\n",
       "264853  com.ironhidegames.frontiers.universal.premium   \n",
       "836858                    com.redgamesco.transformers   \n",
       "919513    com.crayolallc.crayola-create-and-play-plus   \n",
       "\n",
       "                            App_Name  \\\n",
       "264853    Kingdom Rush Frontiers TD+   \n",
       "836858  Transformers: Tactical Arena   \n",
       "919513      Crayola Create and Play+   \n",
       "\n",
       "                                             AppStore_Url Primary_Genre  \\\n",
       "264853  https://apps.apple.com/us/app/kingdom-rush-fro...         Games   \n",
       "836858  https://apps.apple.com/us/app/transformers-tac...         Games   \n",
       "919513  https://apps.apple.com/us/app/crayola-create-a...         Games   \n",
       "\n",
       "       Content_Rating    Size_Bytes Required_IOS_Version Released  \\\n",
       "264853            12+  7.510857e+07                 13.0      NaN   \n",
       "836858             9+  7.510857e+07               13.5.0      NaN   \n",
       "919513             4+  7.510857e+07                   13      NaN   \n",
       "\n",
       "                     Updated Version     Price Currency   Free  DeveloperId  \\\n",
       "264853  2021-11-12T08:00:00Z  5.4.15  0.504126      USD  False   1542047256   \n",
       "836858  2021-11-05T07:00:00Z     0.1  0.504126      USD  False   1456007507   \n",
       "919513  2021-10-29T07:00:00Z    1.52  0.504126      USD  False   1456007507   \n",
       "\n",
       "                Developer                                      Developer_Url  \\\n",
       "264853       Ironhide Irl  https://apps.apple.com/us/developer/ironhide-i...   \n",
       "836858  RED GAMES CO, LLC  https://apps.apple.com/us/developer/red-games-...   \n",
       "919513  RED GAMES CO, LLC  https://apps.apple.com/us/developer/red-games-...   \n",
       "\n",
       "        Average_User_Rating  Reviews  Current_Version_Score  \\\n",
       "264853                  0.0        0                    0.0   \n",
       "836858                  0.0        0                    0.0   \n",
       "919513                  0.0        0                    0.0   \n",
       "\n",
       "        Current_Version_Reviews  \n",
       "264853                        0  \n",
       "836858                        0  \n",
       "919513                        0  "
      ]
     },
     "execution_count": 16,
     "metadata": {},
     "output_type": "execute_result"
    }
   ],
   "source": [
    "df[df['Released'].isnull()].head()"
   ]
  },
  {
   "cell_type": "code",
   "execution_count": 17,
   "id": "94849e6c",
   "metadata": {},
   "outputs": [
    {
     "data": {
      "text/html": [
       "<div>\n",
       "<style scoped>\n",
       "    .dataframe tbody tr th:only-of-type {\n",
       "        vertical-align: middle;\n",
       "    }\n",
       "\n",
       "    .dataframe tbody tr th {\n",
       "        vertical-align: top;\n",
       "    }\n",
       "\n",
       "    .dataframe thead th {\n",
       "        text-align: right;\n",
       "    }\n",
       "</style>\n",
       "<table border=\"1\" class=\"dataframe\">\n",
       "  <thead>\n",
       "    <tr style=\"text-align: right;\">\n",
       "      <th></th>\n",
       "      <th>App_Id</th>\n",
       "      <th>App_Name</th>\n",
       "      <th>AppStore_Url</th>\n",
       "      <th>Primary_Genre</th>\n",
       "      <th>Content_Rating</th>\n",
       "      <th>Size_Bytes</th>\n",
       "      <th>Required_IOS_Version</th>\n",
       "      <th>Released</th>\n",
       "      <th>Updated</th>\n",
       "      <th>Version</th>\n",
       "      <th>Price</th>\n",
       "      <th>Currency</th>\n",
       "      <th>Free</th>\n",
       "      <th>DeveloperId</th>\n",
       "      <th>Developer</th>\n",
       "      <th>Developer_Url</th>\n",
       "      <th>Average_User_Rating</th>\n",
       "      <th>Reviews</th>\n",
       "      <th>Current_Version_Score</th>\n",
       "      <th>Current_Version_Reviews</th>\n",
       "    </tr>\n",
       "  </thead>\n",
       "  <tbody>\n",
       "    <tr>\n",
       "      <th>2382</th>\n",
       "      <td>com.TroopAdmin2</td>\n",
       "      <td>C&amp;S Troop Admin</td>\n",
       "      <td>https://apps.apple.com/us/app/c-s-troop-admin/...</td>\n",
       "      <td>Business</td>\n",
       "      <td>4+</td>\n",
       "      <td>87355392.0</td>\n",
       "      <td>10.0</td>\n",
       "      <td>2021-06-04T07:00:00Z</td>\n",
       "      <td>2021-06-05T03:40:31Z</td>\n",
       "      <td>1.0</td>\n",
       "      <td>0.0</td>\n",
       "      <td>USD</td>\n",
       "      <td>True</td>\n",
       "      <td>1569780624</td>\n",
       "      <td>Hunter Biscuit &amp; Wolf Limited</td>\n",
       "      <td>NaN</td>\n",
       "      <td>0.00000</td>\n",
       "      <td>0</td>\n",
       "      <td>0.00000</td>\n",
       "      <td>0</td>\n",
       "    </tr>\n",
       "    <tr>\n",
       "      <th>2827</th>\n",
       "      <td>com.dhrubajyoti.bangla</td>\n",
       "      <td>Bangla Rhymes</td>\n",
       "      <td>https://apps.apple.com/us/app/bangla-rhymes/id...</td>\n",
       "      <td>Education</td>\n",
       "      <td>4+</td>\n",
       "      <td>56445952.0</td>\n",
       "      <td>9.1</td>\n",
       "      <td>2019-03-23T18:27:49Z</td>\n",
       "      <td>2019-03-23T18:27:49Z</td>\n",
       "      <td>1.0.1</td>\n",
       "      <td>0.0</td>\n",
       "      <td>USD</td>\n",
       "      <td>True</td>\n",
       "      <td>1452131894</td>\n",
       "      <td>Dhrubajyoti Dey</td>\n",
       "      <td>NaN</td>\n",
       "      <td>5.00000</td>\n",
       "      <td>5</td>\n",
       "      <td>5.00000</td>\n",
       "      <td>5</td>\n",
       "    </tr>\n",
       "    <tr>\n",
       "      <th>3498</th>\n",
       "      <td>com.f1rstmotors.f1rstmotors</td>\n",
       "      <td>F1RST MOTORS</td>\n",
       "      <td>https://apps.apple.com/us/app/f1rst-motors/id1...</td>\n",
       "      <td>Business</td>\n",
       "      <td>4+</td>\n",
       "      <td>77185024.0</td>\n",
       "      <td>13.0</td>\n",
       "      <td>2021-10-06T07:00:00Z</td>\n",
       "      <td>2021-10-06T12:15:27Z</td>\n",
       "      <td>1.0</td>\n",
       "      <td>0.0</td>\n",
       "      <td>USD</td>\n",
       "      <td>True</td>\n",
       "      <td>1588267041</td>\n",
       "      <td>F1RST MOTORS LLC</td>\n",
       "      <td>NaN</td>\n",
       "      <td>0.00000</td>\n",
       "      <td>0</td>\n",
       "      <td>0.00000</td>\n",
       "      <td>0</td>\n",
       "    </tr>\n",
       "    <tr>\n",
       "      <th>5820</th>\n",
       "      <td>tr.com.okuvaryum.mobil</td>\n",
       "      <td>Okuvaryum</td>\n",
       "      <td>https://apps.apple.com/us/app/okuvaryum/id1493...</td>\n",
       "      <td>Education</td>\n",
       "      <td>4+</td>\n",
       "      <td>79869952.0</td>\n",
       "      <td>11.0</td>\n",
       "      <td>2020-01-17T08:00:00Z</td>\n",
       "      <td>2021-05-29T15:20:58Z</td>\n",
       "      <td>1.0.21</td>\n",
       "      <td>0.0</td>\n",
       "      <td>USD</td>\n",
       "      <td>True</td>\n",
       "      <td>1589915483</td>\n",
       "      <td>OKUVARYUM EGITIM VE TEKNOLOJI ANONIM SIRKETI</td>\n",
       "      <td>NaN</td>\n",
       "      <td>4.44444</td>\n",
       "      <td>9</td>\n",
       "      <td>4.44444</td>\n",
       "      <td>9</td>\n",
       "    </tr>\n",
       "    <tr>\n",
       "      <th>5821</th>\n",
       "      <td>tr.com.okuvaryum.okul</td>\n",
       "      <td>Okuvaryum Okul</td>\n",
       "      <td>https://apps.apple.com/us/app/okuvaryum-okul/i...</td>\n",
       "      <td>Education</td>\n",
       "      <td>4+</td>\n",
       "      <td>39526400.0</td>\n",
       "      <td>11.0</td>\n",
       "      <td>2021-08-25T07:00:00Z</td>\n",
       "      <td>2021-10-08T17:07:59Z</td>\n",
       "      <td>1.0.2</td>\n",
       "      <td>0.0</td>\n",
       "      <td>USD</td>\n",
       "      <td>True</td>\n",
       "      <td>1589915483</td>\n",
       "      <td>OKUVARYUM EGITIM VE TEKNOLOJI ANONIM SIRKETI</td>\n",
       "      <td>NaN</td>\n",
       "      <td>0.00000</td>\n",
       "      <td>0</td>\n",
       "      <td>0.00000</td>\n",
       "      <td>0</td>\n",
       "    </tr>\n",
       "  </tbody>\n",
       "</table>\n",
       "</div>"
      ],
      "text/plain": [
       "                           App_Id         App_Name  \\\n",
       "2382              com.TroopAdmin2  C&S Troop Admin   \n",
       "2827       com.dhrubajyoti.bangla    Bangla Rhymes   \n",
       "3498  com.f1rstmotors.f1rstmotors     F1RST MOTORS   \n",
       "5820       tr.com.okuvaryum.mobil        Okuvaryum   \n",
       "5821        tr.com.okuvaryum.okul   Okuvaryum Okul   \n",
       "\n",
       "                                           AppStore_Url Primary_Genre  \\\n",
       "2382  https://apps.apple.com/us/app/c-s-troop-admin/...      Business   \n",
       "2827  https://apps.apple.com/us/app/bangla-rhymes/id...     Education   \n",
       "3498  https://apps.apple.com/us/app/f1rst-motors/id1...      Business   \n",
       "5820  https://apps.apple.com/us/app/okuvaryum/id1493...     Education   \n",
       "5821  https://apps.apple.com/us/app/okuvaryum-okul/i...     Education   \n",
       "\n",
       "     Content_Rating  Size_Bytes Required_IOS_Version              Released  \\\n",
       "2382             4+  87355392.0                 10.0  2021-06-04T07:00:00Z   \n",
       "2827             4+  56445952.0                  9.1  2019-03-23T18:27:49Z   \n",
       "3498             4+  77185024.0                 13.0  2021-10-06T07:00:00Z   \n",
       "5820             4+  79869952.0                 11.0  2020-01-17T08:00:00Z   \n",
       "5821             4+  39526400.0                 11.0  2021-08-25T07:00:00Z   \n",
       "\n",
       "                   Updated Version  Price Currency  Free  DeveloperId  \\\n",
       "2382  2021-06-05T03:40:31Z     1.0    0.0      USD  True   1569780624   \n",
       "2827  2019-03-23T18:27:49Z   1.0.1    0.0      USD  True   1452131894   \n",
       "3498  2021-10-06T12:15:27Z     1.0    0.0      USD  True   1588267041   \n",
       "5820  2021-05-29T15:20:58Z  1.0.21    0.0      USD  True   1589915483   \n",
       "5821  2021-10-08T17:07:59Z   1.0.2    0.0      USD  True   1589915483   \n",
       "\n",
       "                                         Developer Developer_Url  \\\n",
       "2382                 Hunter Biscuit & Wolf Limited           NaN   \n",
       "2827                               Dhrubajyoti Dey           NaN   \n",
       "3498                              F1RST MOTORS LLC           NaN   \n",
       "5820  OKUVARYUM EGITIM VE TEKNOLOJI ANONIM SIRKETI           NaN   \n",
       "5821  OKUVARYUM EGITIM VE TEKNOLOJI ANONIM SIRKETI           NaN   \n",
       "\n",
       "      Average_User_Rating  Reviews  Current_Version_Score  \\\n",
       "2382              0.00000        0                0.00000   \n",
       "2827              5.00000        5                5.00000   \n",
       "3498              0.00000        0                0.00000   \n",
       "5820              4.44444        9                4.44444   \n",
       "5821              0.00000        0                0.00000   \n",
       "\n",
       "      Current_Version_Reviews  \n",
       "2382                        0  \n",
       "2827                        5  \n",
       "3498                        0  \n",
       "5820                        9  \n",
       "5821                        0  "
      ]
     },
     "execution_count": 17,
     "metadata": {},
     "output_type": "execute_result"
    }
   ],
   "source": [
    "df[df['Developer_Url'].isnull()].head()"
   ]
  },
  {
   "cell_type": "code",
   "execution_count": 18,
   "id": "c6344958",
   "metadata": {},
   "outputs": [
    {
     "data": {
      "text/html": [
       "<div>\n",
       "<style scoped>\n",
       "    .dataframe tbody tr th:only-of-type {\n",
       "        vertical-align: middle;\n",
       "    }\n",
       "\n",
       "    .dataframe tbody tr th {\n",
       "        vertical-align: top;\n",
       "    }\n",
       "\n",
       "    .dataframe thead th {\n",
       "        text-align: right;\n",
       "    }\n",
       "</style>\n",
       "<table border=\"1\" class=\"dataframe\">\n",
       "  <thead>\n",
       "    <tr style=\"text-align: right;\">\n",
       "      <th></th>\n",
       "      <th>App_Id</th>\n",
       "      <th>App_Name</th>\n",
       "      <th>AppStore_Url</th>\n",
       "      <th>Primary_Genre</th>\n",
       "      <th>Content_Rating</th>\n",
       "      <th>Size_Bytes</th>\n",
       "      <th>Required_IOS_Version</th>\n",
       "      <th>Released</th>\n",
       "      <th>Updated</th>\n",
       "      <th>Version</th>\n",
       "      <th>Price</th>\n",
       "      <th>Currency</th>\n",
       "      <th>Free</th>\n",
       "      <th>DeveloperId</th>\n",
       "      <th>Developer</th>\n",
       "      <th>Developer_Url</th>\n",
       "      <th>Average_User_Rating</th>\n",
       "      <th>Reviews</th>\n",
       "      <th>Current_Version_Score</th>\n",
       "      <th>Current_Version_Reviews</th>\n",
       "    </tr>\n",
       "  </thead>\n",
       "  <tbody>\n",
       "    <tr>\n",
       "      <th>964888</th>\n",
       "      <td>se.promedia.NA</td>\n",
       "      <td>NaN</td>\n",
       "      <td>https://apps.apple.com/us/app/na/id449134868?uo=4</td>\n",
       "      <td>News</td>\n",
       "      <td>4+</td>\n",
       "      <td>19528704.0</td>\n",
       "      <td>9.0</td>\n",
       "      <td>2011-08-08T11:45:30Z</td>\n",
       "      <td>2020-12-21T14:08:02Z</td>\n",
       "      <td>8.1.2</td>\n",
       "      <td>0.0</td>\n",
       "      <td>USD</td>\n",
       "      <td>True</td>\n",
       "      <td>449134871</td>\n",
       "      <td>Promedia</td>\n",
       "      <td>https://apps.apple.com/us/developer/promedia/i...</td>\n",
       "      <td>5.0</td>\n",
       "      <td>1</td>\n",
       "      <td>5.0</td>\n",
       "      <td>1</td>\n",
       "    </tr>\n",
       "  </tbody>\n",
       "</table>\n",
       "</div>"
      ],
      "text/plain": [
       "                App_Id App_Name  \\\n",
       "964888  se.promedia.NA      NaN   \n",
       "\n",
       "                                             AppStore_Url Primary_Genre  \\\n",
       "964888  https://apps.apple.com/us/app/na/id449134868?uo=4          News   \n",
       "\n",
       "       Content_Rating  Size_Bytes Required_IOS_Version              Released  \\\n",
       "964888             4+  19528704.0                  9.0  2011-08-08T11:45:30Z   \n",
       "\n",
       "                     Updated Version  Price Currency  Free  DeveloperId  \\\n",
       "964888  2020-12-21T14:08:02Z   8.1.2    0.0      USD  True    449134871   \n",
       "\n",
       "       Developer                                      Developer_Url  \\\n",
       "964888  Promedia  https://apps.apple.com/us/developer/promedia/i...   \n",
       "\n",
       "        Average_User_Rating  Reviews  Current_Version_Score  \\\n",
       "964888                  5.0        1                    5.0   \n",
       "\n",
       "        Current_Version_Reviews  \n",
       "964888                        1  "
      ]
     },
     "execution_count": 18,
     "metadata": {},
     "output_type": "execute_result"
    }
   ],
   "source": [
    "df[df['App_Name'].isnull()].head()"
   ]
  },
  {
   "cell_type": "markdown",
   "id": "d6e8586d",
   "metadata": {},
   "source": [
    "1. We can try to write a code to replace the null value in the column *app_name* by looking for same app_ID of the null row in other row with valid app_name value and sme app_ID\n",
    "2. We can try to write a code to replace the null value in the column *Developer_Url* by looking for same app_ID of the null row in other row with valid app_name value and sme app_ID\n",
    "3. We can try to write a code to replace the null value in the column *Released* by looking for same app_name of the null row in other row with valid app_name value and sme app_ID"
   ]
  },
  {
   "cell_type": "markdown",
   "id": "7323558c",
   "metadata": {},
   "source": [
    "### 5.2 Null Handling: Filling Null Values Approach\n",
    "\n",
    "Fill null values with caution! Unique values associated with specific features, such as AppID and AppName, in rows where Released is null, can make filling null values tricky. Instead, consider dropping only those rows where Developer_URL, Released, and appName are null to ensure data integrity."
   ]
  },
  {
   "cell_type": "code",
   "execution_count": 19,
   "id": "fe95df18",
   "metadata": {},
   "outputs": [],
   "source": [
    "df.dropna(subset=['Developer_Url'], inplace=True)\n",
    "\n",
    "df.dropna(subset=['Released'], inplace=True)\n",
    "\n",
    "df.dropna(subset=['App_Name'], inplace=True)"
   ]
  },
  {
   "cell_type": "code",
   "execution_count": 20,
   "id": "781eeed6",
   "metadata": {},
   "outputs": [
    {
     "data": {
      "text/plain": [
       "App_Id                     0\n",
       "App_Name                   0\n",
       "Current_Version_Score      0\n",
       "Reviews                    0\n",
       "Average_User_Rating        0\n",
       "Developer_Url              0\n",
       "Developer                  0\n",
       "DeveloperId                0\n",
       "Free                       0\n",
       "Currency                   0\n",
       "Price                      0\n",
       "Version                    0\n",
       "Updated                    0\n",
       "Released                   0\n",
       "Required_IOS_Version       0\n",
       "Size_Bytes                 0\n",
       "Content_Rating             0\n",
       "Primary_Genre              0\n",
       "AppStore_Url               0\n",
       "Current_Version_Reviews    0\n",
       "dtype: int64"
      ]
     },
     "execution_count": 20,
     "metadata": {},
     "output_type": "execute_result"
    }
   ],
   "source": [
    "##have a view of refreshed dataset again\n",
    "df.isnull().sum().sort_values(ascending = False)"
   ]
  },
  {
   "cell_type": "markdown",
   "id": "75cd41f3",
   "metadata": {},
   "source": [
    "### Milestone 1: We have cleaned the dataset from null values 🙂\n",
    "\n",
    "> Next,We will Find duplications and Analyse them if it's a valid DUPLICATION"
   ]
  },
  {
   "cell_type": "code",
   "execution_count": 21,
   "id": "e572fce8",
   "metadata": {},
   "outputs": [
    {
     "data": {
      "text/plain": [
       "False"
      ]
     },
     "execution_count": 21,
     "metadata": {},
     "output_type": "execute_result"
    }
   ],
   "source": [
    "df.duplicated().any()"
   ]
  },
  {
   "cell_type": "code",
   "execution_count": 22,
   "id": "7049de06",
   "metadata": {},
   "outputs": [
    {
     "data": {
      "text/plain": [
       "Index(['App_Id', 'App_Name', 'AppStore_Url', 'Primary_Genre', 'Content_Rating',\n",
       "       'Size_Bytes', 'Required_IOS_Version', 'Released', 'Updated', 'Version',\n",
       "       'Price', 'Currency', 'Free', 'DeveloperId', 'Developer',\n",
       "       'Developer_Url', 'Average_User_Rating', 'Reviews',\n",
       "       'Current_Version_Score', 'Current_Version_Reviews'],\n",
       "      dtype='object')"
      ]
     },
     "execution_count": 22,
     "metadata": {},
     "output_type": "execute_result"
    }
   ],
   "source": [
    "df.columns"
   ]
  },
  {
   "cell_type": "code",
   "execution_count": 23,
   "id": "ce2be08c",
   "metadata": {},
   "outputs": [],
   "source": [
    "any_duplicates = df.duplicated(subset=['App_Id', 'App_Name', 'AppStore_Url', 'Primary_Genre', 'Content_Rating',\n",
    "       'Size_Bytes', 'Required_IOS_Version', 'Released', 'Updated', 'Version',\n",
    "       'Price', 'Currency', 'Free', 'DeveloperId', 'Developer',\n",
    "       'Developer_Url', 'Average_User_Rating', 'Reviews',\n",
    "       'Current_Version_Score', 'Current_Version_Reviews']).any()"
   ]
  },
  {
   "cell_type": "code",
   "execution_count": 24,
   "id": "bcc4594c",
   "metadata": {},
   "outputs": [
    {
     "data": {
      "text/plain": [
       "True"
      ]
     },
     "execution_count": 24,
     "metadata": {},
     "output_type": "execute_result"
    }
   ],
   "source": [
    "df['App_Name'].duplicated().any()"
   ]
  },
  {
   "cell_type": "code",
   "execution_count": 25,
   "id": "07b06923",
   "metadata": {},
   "outputs": [
    {
     "data": {
      "text/plain": [
       "App_Name\n",
       "Vanguard              6\n",
       "Linker                5\n",
       "Bloom                 5\n",
       "Currency Converter    4\n",
       "Awaken                4\n",
       "                     ..\n",
       "TwoFactor             1\n",
       "TWOTOO                1\n",
       "TwoWayStreaming       1\n",
       "TWSpeed Telecom       1\n",
       "Sổ Điểm Thông Minh    1\n",
       "Name: count, Length: 1222413, dtype: int64"
      ]
     },
     "execution_count": 25,
     "metadata": {},
     "output_type": "execute_result"
    }
   ],
   "source": [
    "df['App_Name'].value_counts().sort_values(ascending=False)"
   ]
  },
  {
   "cell_type": "markdown",
   "id": "82a97773",
   "metadata": {},
   "source": [
    "> From the above cell output we can see that App Name column has multiple rows. Let's check out that data in those rows is identical or not"
   ]
  },
  {
   "cell_type": "code",
   "execution_count": 26,
   "id": "51daff01",
   "metadata": {},
   "outputs": [
    {
     "data": {
      "text/html": [
       "<div>\n",
       "<style scoped>\n",
       "    .dataframe tbody tr th:only-of-type {\n",
       "        vertical-align: middle;\n",
       "    }\n",
       "\n",
       "    .dataframe tbody tr th {\n",
       "        vertical-align: top;\n",
       "    }\n",
       "\n",
       "    .dataframe thead th {\n",
       "        text-align: right;\n",
       "    }\n",
       "</style>\n",
       "<table border=\"1\" class=\"dataframe\">\n",
       "  <thead>\n",
       "    <tr style=\"text-align: right;\">\n",
       "      <th></th>\n",
       "      <th>App_Id</th>\n",
       "      <th>App_Name</th>\n",
       "      <th>AppStore_Url</th>\n",
       "      <th>Primary_Genre</th>\n",
       "      <th>Content_Rating</th>\n",
       "      <th>Size_Bytes</th>\n",
       "      <th>Required_IOS_Version</th>\n",
       "      <th>Released</th>\n",
       "      <th>Updated</th>\n",
       "      <th>Version</th>\n",
       "      <th>Price</th>\n",
       "      <th>Currency</th>\n",
       "      <th>Free</th>\n",
       "      <th>DeveloperId</th>\n",
       "      <th>Developer</th>\n",
       "      <th>Developer_Url</th>\n",
       "      <th>Average_User_Rating</th>\n",
       "      <th>Reviews</th>\n",
       "      <th>Current_Version_Score</th>\n",
       "      <th>Current_Version_Reviews</th>\n",
       "    </tr>\n",
       "  </thead>\n",
       "  <tbody>\n",
       "    <tr>\n",
       "      <th>139096</th>\n",
       "      <td>com.cheerg.LinkerTest</td>\n",
       "      <td>Linker</td>\n",
       "      <td>https://apps.apple.com/us/app/linker/id1208886...</td>\n",
       "      <td>Lifestyle</td>\n",
       "      <td>4+</td>\n",
       "      <td>21876736.0</td>\n",
       "      <td>10.0</td>\n",
       "      <td>2017-03-30T20:08:27Z</td>\n",
       "      <td>2018-06-14T20:39:23Z</td>\n",
       "      <td>1.0.14</td>\n",
       "      <td>0.0</td>\n",
       "      <td>USD</td>\n",
       "      <td>True</td>\n",
       "      <td>1208886054</td>\n",
       "      <td>Chun Hsiang Hsieh</td>\n",
       "      <td>https://apps.apple.com/us/developer/chun-hsian...</td>\n",
       "      <td>0.0</td>\n",
       "      <td>0</td>\n",
       "      <td>0.0</td>\n",
       "      <td>0</td>\n",
       "    </tr>\n",
       "    <tr>\n",
       "      <th>462132</th>\n",
       "      <td>br.com.linker</td>\n",
       "      <td>Linker</td>\n",
       "      <td>https://apps.apple.com/us/app/linker/id1472621...</td>\n",
       "      <td>Finance</td>\n",
       "      <td>4+</td>\n",
       "      <td>169309184.0</td>\n",
       "      <td>12.0</td>\n",
       "      <td>2019-08-22T07:00:00Z</td>\n",
       "      <td>2021-10-01T16:08:21Z</td>\n",
       "      <td>2.0.3</td>\n",
       "      <td>0.0</td>\n",
       "      <td>USD</td>\n",
       "      <td>True</td>\n",
       "      <td>1472621726</td>\n",
       "      <td>BEMP SOLUCOES DE PAGAMENTO LTDA</td>\n",
       "      <td>https://apps.apple.com/us/developer/bemp-soluc...</td>\n",
       "      <td>4.4</td>\n",
       "      <td>5</td>\n",
       "      <td>4.4</td>\n",
       "      <td>5</td>\n",
       "    </tr>\n",
       "    <tr>\n",
       "      <th>745039</th>\n",
       "      <td>team.linker.linker</td>\n",
       "      <td>Linker</td>\n",
       "      <td>https://apps.apple.com/us/app/linker/id1558364...</td>\n",
       "      <td>Health &amp; Fitness</td>\n",
       "      <td>4+</td>\n",
       "      <td>97497088.0</td>\n",
       "      <td>10.0</td>\n",
       "      <td>2021-03-30T07:00:00Z</td>\n",
       "      <td>2021-08-23T11:16:44Z</td>\n",
       "      <td>1.0.7</td>\n",
       "      <td>0.0</td>\n",
       "      <td>USD</td>\n",
       "      <td>True</td>\n",
       "      <td>1558364892</td>\n",
       "      <td>Linker ApS</td>\n",
       "      <td>https://apps.apple.com/us/developer/linker-aps...</td>\n",
       "      <td>0.0</td>\n",
       "      <td>0</td>\n",
       "      <td>0.0</td>\n",
       "      <td>0</td>\n",
       "    </tr>\n",
       "    <tr>\n",
       "      <th>954862</th>\n",
       "      <td>com.kubo.Linker</td>\n",
       "      <td>Linker</td>\n",
       "      <td>https://apps.apple.com/us/app/linker/id1169163...</td>\n",
       "      <td>Travel</td>\n",
       "      <td>4+</td>\n",
       "      <td>34196480.0</td>\n",
       "      <td>7.0</td>\n",
       "      <td>2017-05-16T11:32:18Z</td>\n",
       "      <td>2017-10-10T01:56:27Z</td>\n",
       "      <td>39.2</td>\n",
       "      <td>0.0</td>\n",
       "      <td>USD</td>\n",
       "      <td>True</td>\n",
       "      <td>370982422</td>\n",
       "      <td>Kubo Mobile Applications SA</td>\n",
       "      <td>https://apps.apple.com/us/developer/kubo-mobil...</td>\n",
       "      <td>0.0</td>\n",
       "      <td>0</td>\n",
       "      <td>0.0</td>\n",
       "      <td>0</td>\n",
       "    </tr>\n",
       "    <tr>\n",
       "      <th>1206501</th>\n",
       "      <td>com.tilon.elcloud.rdc</td>\n",
       "      <td>Linker</td>\n",
       "      <td>https://apps.apple.com/us/app/linker/id1215552...</td>\n",
       "      <td>Utilities</td>\n",
       "      <td>4+</td>\n",
       "      <td>58948209.0</td>\n",
       "      <td>10.6.6</td>\n",
       "      <td>2017-05-30T19:54:25Z</td>\n",
       "      <td>2017-05-30T19:54:25Z</td>\n",
       "      <td>3.3.1</td>\n",
       "      <td>0.0</td>\n",
       "      <td>USD</td>\n",
       "      <td>True</td>\n",
       "      <td>355652681</td>\n",
       "      <td>TILON CO., LTD.</td>\n",
       "      <td>https://apps.apple.com/us/developer/tilon-co-l...</td>\n",
       "      <td>0.0</td>\n",
       "      <td>0</td>\n",
       "      <td>0.0</td>\n",
       "      <td>0</td>\n",
       "    </tr>\n",
       "  </tbody>\n",
       "</table>\n",
       "</div>"
      ],
      "text/plain": [
       "                        App_Id App_Name  \\\n",
       "139096   com.cheerg.LinkerTest   Linker   \n",
       "462132           br.com.linker   Linker   \n",
       "745039      team.linker.linker   Linker   \n",
       "954862         com.kubo.Linker   Linker   \n",
       "1206501  com.tilon.elcloud.rdc   Linker   \n",
       "\n",
       "                                              AppStore_Url     Primary_Genre  \\\n",
       "139096   https://apps.apple.com/us/app/linker/id1208886...         Lifestyle   \n",
       "462132   https://apps.apple.com/us/app/linker/id1472621...           Finance   \n",
       "745039   https://apps.apple.com/us/app/linker/id1558364...  Health & Fitness   \n",
       "954862   https://apps.apple.com/us/app/linker/id1169163...            Travel   \n",
       "1206501  https://apps.apple.com/us/app/linker/id1215552...         Utilities   \n",
       "\n",
       "        Content_Rating   Size_Bytes Required_IOS_Version  \\\n",
       "139096              4+   21876736.0                 10.0   \n",
       "462132              4+  169309184.0                 12.0   \n",
       "745039              4+   97497088.0                 10.0   \n",
       "954862              4+   34196480.0                  7.0   \n",
       "1206501             4+   58948209.0               10.6.6   \n",
       "\n",
       "                     Released               Updated Version  Price Currency  \\\n",
       "139096   2017-03-30T20:08:27Z  2018-06-14T20:39:23Z  1.0.14    0.0      USD   \n",
       "462132   2019-08-22T07:00:00Z  2021-10-01T16:08:21Z   2.0.3    0.0      USD   \n",
       "745039   2021-03-30T07:00:00Z  2021-08-23T11:16:44Z   1.0.7    0.0      USD   \n",
       "954862   2017-05-16T11:32:18Z  2017-10-10T01:56:27Z    39.2    0.0      USD   \n",
       "1206501  2017-05-30T19:54:25Z  2017-05-30T19:54:25Z   3.3.1    0.0      USD   \n",
       "\n",
       "         Free  DeveloperId                        Developer  \\\n",
       "139096   True   1208886054                Chun Hsiang Hsieh   \n",
       "462132   True   1472621726  BEMP SOLUCOES DE PAGAMENTO LTDA   \n",
       "745039   True   1558364892                       Linker ApS   \n",
       "954862   True    370982422      Kubo Mobile Applications SA   \n",
       "1206501  True    355652681                  TILON CO., LTD.   \n",
       "\n",
       "                                             Developer_Url  \\\n",
       "139096   https://apps.apple.com/us/developer/chun-hsian...   \n",
       "462132   https://apps.apple.com/us/developer/bemp-soluc...   \n",
       "745039   https://apps.apple.com/us/developer/linker-aps...   \n",
       "954862   https://apps.apple.com/us/developer/kubo-mobil...   \n",
       "1206501  https://apps.apple.com/us/developer/tilon-co-l...   \n",
       "\n",
       "         Average_User_Rating  Reviews  Current_Version_Score  \\\n",
       "139096                   0.0        0                    0.0   \n",
       "462132                   4.4        5                    4.4   \n",
       "745039                   0.0        0                    0.0   \n",
       "954862                   0.0        0                    0.0   \n",
       "1206501                  0.0        0                    0.0   \n",
       "\n",
       "         Current_Version_Reviews  \n",
       "139096                         0  \n",
       "462132                         5  \n",
       "745039                         0  \n",
       "954862                         0  \n",
       "1206501                        0  "
      ]
     },
     "execution_count": 26,
     "metadata": {},
     "output_type": "execute_result"
    }
   ],
   "source": [
    "df[df['App_Name']=='Linker']"
   ]
  },
  {
   "cell_type": "markdown",
   "id": "700839e8",
   "metadata": {},
   "source": [
    "### Milestone 2: *Hence no duplicates found* 👥\n",
    "\n",
    "Although App_name may have duplications, the records are unique as a whole, with varying versions, AppIds, and release dates."
   ]
  },
  {
   "cell_type": "markdown",
   "id": "fc955366",
   "metadata": {},
   "source": [
    "### 5.4 Now exploring Numeric columns of the dataset:\n",
    "Size_Bytes, Price, DeveloperId, Average_User_Rating, Reviews, Current_Version_Score, Current_Version_Reviews"
   ]
  },
  {
   "cell_type": "code",
   "execution_count": 27,
   "id": "0416f0df",
   "metadata": {},
   "outputs": [
    {
     "data": {
      "text/plain": [
       "array([2.19934720e+07, 1.31358720e+07, 2.19432960e+07, ...,\n",
       "       1.19404544e+08, 5.96570000e+05, 5.06896000e+05])"
      ]
     },
     "execution_count": 27,
     "metadata": {},
     "output_type": "execute_result"
    }
   ],
   "source": [
    "df['Size_Bytes'].unique()"
   ]
  },
  {
   "cell_type": "code",
   "execution_count": 28,
   "id": "6e3e20a3",
   "metadata": {},
   "outputs": [
    {
     "data": {
      "text/plain": [
       "array([0.00000000e+00, 2.99000000e+00, 1.99000000e+00, 9.90000000e-01,\n",
       "       4.99000000e+00, 9.99000000e+00, 5.99000000e+00, 6.99000000e+00,\n",
       "       1.69900000e+01, 1.99900000e+01, 3.99900000e+01, 5.99900000e+01,\n",
       "       8.99000000e+00, 7.99000000e+00, 1.89900000e+01, 3.99000000e+00,\n",
       "       2.49900000e+01, 1.49900000e+01, 2.89900000e+01, 2.19900000e+01,\n",
       "       1.39900000e+01, 1.09900000e+01, 1.19900000e+01, 1.29990000e+02,\n",
       "       2.29900000e+01, 1.39990000e+02, 2.59900000e+01, 1.29900000e+01,\n",
       "       4.99900000e+01, 2.39900000e+01, 1.19990000e+02, 7.99900000e+01,\n",
       "       1.79900000e+01, 4.99990000e+02, 2.49990000e+02, 1.99990000e+02,\n",
       "       2.29990000e+02, 3.49900000e+01, 2.09900000e+01, 9.99900000e+01,\n",
       "       3.39900000e+01, 5.49900000e+01, 4.59900000e+01, 4.49900000e+01,\n",
       "       2.99900000e+01, 6.99900000e+01, 2.79900000e+01, 8.49900000e+01,\n",
       "       6.49900000e+01, 1.59900000e+01, 2.69900000e+01, 3.59900000e+01,\n",
       "       4.09900000e+01, 1.74990000e+02, 1.49990000e+02, 9.49900000e+01,\n",
       "       7.49900000e+01, 3.49990000e+02, 4.89900000e+01, 1.09990000e+02,\n",
       "       3.89900000e+01, 3.19900000e+01, 3.69900000e+01, 8.99900000e+01,\n",
       "       1.69990000e+02, 1.24990000e+02, 5.04126382e-01, 3.99990000e+02,\n",
       "       2.19990000e+02, 4.39900000e+01, 6.99990000e+02, 4.29900000e+01,\n",
       "       3.79900000e+01, 2.99990000e+02, 4.49990000e+02, 1.59990000e+02,\n",
       "       4.19900000e+01, 3.29900000e+01, 3.09900000e+01, 7.99990000e+02,\n",
       "       9.99990000e+02, 4.79900000e+01, 1.79990000e+02, 2.09990000e+02,\n",
       "       2.39990000e+02, 5.99990000e+02, 4.69900000e+01, 8.99990000e+02,\n",
       "       1.89990000e+02])"
      ]
     },
     "execution_count": 28,
     "metadata": {},
     "output_type": "execute_result"
    }
   ],
   "source": [
    "df['Price'].unique()"
   ]
  },
  {
   "cell_type": "code",
   "execution_count": 29,
   "id": "8ed34bc8",
   "metadata": {},
   "outputs": [
    {
     "data": {
      "text/plain": [
       "array([0.     , 5.     , 4.78132, ..., 4.00352, 3.91608, 4.82733])"
      ]
     },
     "execution_count": 29,
     "metadata": {},
     "output_type": "execute_result"
    }
   ],
   "source": [
    "df['Average_User_Rating'].unique()"
   ]
  },
  {
   "cell_type": "code",
   "execution_count": 30,
   "id": "3623c12f",
   "metadata": {},
   "outputs": [
    {
     "data": {
      "text/plain": [
       "array([    0,     1,  1285, ..., 12691, 35476, 10481], dtype=int64)"
      ]
     },
     "execution_count": 30,
     "metadata": {},
     "output_type": "execute_result"
    }
   ],
   "source": [
    "df['Reviews'].unique()"
   ]
  },
  {
   "cell_type": "code",
   "execution_count": 31,
   "id": "13c898f7",
   "metadata": {},
   "outputs": [
    {
     "data": {
      "text/plain": [
       "array([0.     , 5.     , 4.78132, ..., 4.00352, 3.91608, 4.82733])"
      ]
     },
     "execution_count": 31,
     "metadata": {},
     "output_type": "execute_result"
    }
   ],
   "source": [
    "df['Current_Version_Score'].unique()"
   ]
  },
  {
   "cell_type": "code",
   "execution_count": 32,
   "id": "788dbf28",
   "metadata": {},
   "outputs": [
    {
     "data": {
      "text/plain": [
       "array(['USD'], dtype=object)"
      ]
     },
     "execution_count": 32,
     "metadata": {},
     "output_type": "execute_result"
    }
   ],
   "source": [
    "df['Currency'].unique()\n"
   ]
  },
  {
   "cell_type": "markdown",
   "id": "e89776a7",
   "metadata": {},
   "source": [
    "> The currency used is standard US Dollar 💵💵💵 across the dataset"
   ]
  },
  {
   "cell_type": "code",
   "execution_count": 33,
   "id": "6e0770b7",
   "metadata": {},
   "outputs": [
    {
     "data": {
      "text/plain": [
       "array(['4+', '17+', '9+', '12+', 'Not yet rated'], dtype=object)"
      ]
     },
     "execution_count": 33,
     "metadata": {},
     "output_type": "execute_result"
    }
   ],
   "source": [
    "df['Content_Rating'].unique()"
   ]
  },
  {
   "cell_type": "code",
   "execution_count": 34,
   "id": "7ab3ad47",
   "metadata": {},
   "outputs": [
    {
     "data": {
      "text/html": [
       "<div>\n",
       "<style scoped>\n",
       "    .dataframe tbody tr th:only-of-type {\n",
       "        vertical-align: middle;\n",
       "    }\n",
       "\n",
       "    .dataframe tbody tr th {\n",
       "        vertical-align: top;\n",
       "    }\n",
       "\n",
       "    .dataframe thead th {\n",
       "        text-align: right;\n",
       "    }\n",
       "</style>\n",
       "<table border=\"1\" class=\"dataframe\">\n",
       "  <thead>\n",
       "    <tr style=\"text-align: right;\">\n",
       "      <th></th>\n",
       "      <th>App_Id</th>\n",
       "      <th>App_Name</th>\n",
       "      <th>AppStore_Url</th>\n",
       "      <th>Primary_Genre</th>\n",
       "      <th>Content_Rating</th>\n",
       "      <th>Size_Bytes</th>\n",
       "      <th>Required_IOS_Version</th>\n",
       "      <th>Released</th>\n",
       "      <th>Updated</th>\n",
       "      <th>Version</th>\n",
       "      <th>Price</th>\n",
       "      <th>Currency</th>\n",
       "      <th>Free</th>\n",
       "      <th>DeveloperId</th>\n",
       "      <th>Developer</th>\n",
       "      <th>Developer_Url</th>\n",
       "      <th>Average_User_Rating</th>\n",
       "      <th>Reviews</th>\n",
       "      <th>Current_Version_Score</th>\n",
       "      <th>Current_Version_Reviews</th>\n",
       "    </tr>\n",
       "  </thead>\n",
       "  <tbody>\n",
       "    <tr>\n",
       "      <th>0</th>\n",
       "      <td>com.hkbu.arc.apaper</td>\n",
       "      <td>A+ Paper Guide</td>\n",
       "      <td>https://apps.apple.com/us/app/a-paper-guide/id...</td>\n",
       "      <td>Education</td>\n",
       "      <td>4+</td>\n",
       "      <td>21993472.0</td>\n",
       "      <td>8.0</td>\n",
       "      <td>2017-09-28T03:02:41Z</td>\n",
       "      <td>2018-12-21T21:30:36Z</td>\n",
       "      <td>1.1.2</td>\n",
       "      <td>0.00</td>\n",
       "      <td>USD</td>\n",
       "      <td>True</td>\n",
       "      <td>1375410542</td>\n",
       "      <td>HKBU ARC</td>\n",
       "      <td>https://apps.apple.com/us/developer/hkbu-arc/i...</td>\n",
       "      <td>0.0</td>\n",
       "      <td>0</td>\n",
       "      <td>0.0</td>\n",
       "      <td>0</td>\n",
       "    </tr>\n",
       "    <tr>\n",
       "      <th>1</th>\n",
       "      <td>com.dmitriev.abooks</td>\n",
       "      <td>A-Books</td>\n",
       "      <td>https://apps.apple.com/us/app/a-books/id103157...</td>\n",
       "      <td>Book</td>\n",
       "      <td>4+</td>\n",
       "      <td>13135872.0</td>\n",
       "      <td>10.0</td>\n",
       "      <td>2015-08-31T19:31:32Z</td>\n",
       "      <td>2019-07-23T20:31:09Z</td>\n",
       "      <td>1.3</td>\n",
       "      <td>0.00</td>\n",
       "      <td>USD</td>\n",
       "      <td>True</td>\n",
       "      <td>1031572001</td>\n",
       "      <td>Roman Dmitriev</td>\n",
       "      <td>https://apps.apple.com/us/developer/roman-dmit...</td>\n",
       "      <td>5.0</td>\n",
       "      <td>1</td>\n",
       "      <td>5.0</td>\n",
       "      <td>1</td>\n",
       "    </tr>\n",
       "    <tr>\n",
       "      <th>2</th>\n",
       "      <td>no.terp.abooks</td>\n",
       "      <td>A-books</td>\n",
       "      <td>https://apps.apple.com/us/app/a-books/id145702...</td>\n",
       "      <td>Book</td>\n",
       "      <td>4+</td>\n",
       "      <td>21943296.0</td>\n",
       "      <td>9.0</td>\n",
       "      <td>2021-04-14T07:00:00Z</td>\n",
       "      <td>2021-05-30T21:08:54Z</td>\n",
       "      <td>1.3.1</td>\n",
       "      <td>0.00</td>\n",
       "      <td>USD</td>\n",
       "      <td>True</td>\n",
       "      <td>1457024163</td>\n",
       "      <td>Terp AS</td>\n",
       "      <td>https://apps.apple.com/us/developer/terp-as/id...</td>\n",
       "      <td>0.0</td>\n",
       "      <td>0</td>\n",
       "      <td>0.0</td>\n",
       "      <td>0</td>\n",
       "    </tr>\n",
       "    <tr>\n",
       "      <th>3</th>\n",
       "      <td>fr.antoinettefleur.Book1</td>\n",
       "      <td>A-F Book #1</td>\n",
       "      <td>https://apps.apple.com/us/app/a-f-book-1/id500...</td>\n",
       "      <td>Book</td>\n",
       "      <td>4+</td>\n",
       "      <td>81851392.0</td>\n",
       "      <td>8.0</td>\n",
       "      <td>2012-02-10T03:40:07Z</td>\n",
       "      <td>2019-10-29T12:40:37Z</td>\n",
       "      <td>1.2</td>\n",
       "      <td>2.99</td>\n",
       "      <td>USD</td>\n",
       "      <td>False</td>\n",
       "      <td>439568839</td>\n",
       "      <td>i-editeur.com</td>\n",
       "      <td>https://apps.apple.com/us/developer/i-editeur-...</td>\n",
       "      <td>0.0</td>\n",
       "      <td>0</td>\n",
       "      <td>0.0</td>\n",
       "      <td>0</td>\n",
       "    </tr>\n",
       "    <tr>\n",
       "      <th>4</th>\n",
       "      <td>com.imonstersoft.azdictionaryios</td>\n",
       "      <td>A-Z Synonyms Dictionary</td>\n",
       "      <td>https://apps.apple.com/us/app/a-z-synonyms-dic...</td>\n",
       "      <td>Reference</td>\n",
       "      <td>4+</td>\n",
       "      <td>64692224.0</td>\n",
       "      <td>9.0</td>\n",
       "      <td>2020-12-16T08:00:00Z</td>\n",
       "      <td>2020-12-18T21:36:11Z</td>\n",
       "      <td>1.0.1</td>\n",
       "      <td>0.00</td>\n",
       "      <td>USD</td>\n",
       "      <td>True</td>\n",
       "      <td>656731821</td>\n",
       "      <td>Ngov chiheang</td>\n",
       "      <td>https://apps.apple.com/us/developer/ngov-chihe...</td>\n",
       "      <td>0.0</td>\n",
       "      <td>0</td>\n",
       "      <td>0.0</td>\n",
       "      <td>0</td>\n",
       "    </tr>\n",
       "  </tbody>\n",
       "</table>\n",
       "</div>"
      ],
      "text/plain": [
       "                             App_Id                 App_Name  \\\n",
       "0               com.hkbu.arc.apaper           A+ Paper Guide   \n",
       "1               com.dmitriev.abooks                  A-Books   \n",
       "2                    no.terp.abooks                  A-books   \n",
       "3          fr.antoinettefleur.Book1              A-F Book #1   \n",
       "4  com.imonstersoft.azdictionaryios  A-Z Synonyms Dictionary   \n",
       "\n",
       "                                        AppStore_Url Primary_Genre  \\\n",
       "0  https://apps.apple.com/us/app/a-paper-guide/id...     Education   \n",
       "1  https://apps.apple.com/us/app/a-books/id103157...          Book   \n",
       "2  https://apps.apple.com/us/app/a-books/id145702...          Book   \n",
       "3  https://apps.apple.com/us/app/a-f-book-1/id500...          Book   \n",
       "4  https://apps.apple.com/us/app/a-z-synonyms-dic...     Reference   \n",
       "\n",
       "  Content_Rating  Size_Bytes Required_IOS_Version              Released  \\\n",
       "0             4+  21993472.0                  8.0  2017-09-28T03:02:41Z   \n",
       "1             4+  13135872.0                 10.0  2015-08-31T19:31:32Z   \n",
       "2             4+  21943296.0                  9.0  2021-04-14T07:00:00Z   \n",
       "3             4+  81851392.0                  8.0  2012-02-10T03:40:07Z   \n",
       "4             4+  64692224.0                  9.0  2020-12-16T08:00:00Z   \n",
       "\n",
       "                Updated Version  Price Currency   Free  DeveloperId  \\\n",
       "0  2018-12-21T21:30:36Z   1.1.2   0.00      USD   True   1375410542   \n",
       "1  2019-07-23T20:31:09Z     1.3   0.00      USD   True   1031572001   \n",
       "2  2021-05-30T21:08:54Z   1.3.1   0.00      USD   True   1457024163   \n",
       "3  2019-10-29T12:40:37Z     1.2   2.99      USD  False    439568839   \n",
       "4  2020-12-18T21:36:11Z   1.0.1   0.00      USD   True    656731821   \n",
       "\n",
       "        Developer                                      Developer_Url  \\\n",
       "0        HKBU ARC  https://apps.apple.com/us/developer/hkbu-arc/i...   \n",
       "1  Roman Dmitriev  https://apps.apple.com/us/developer/roman-dmit...   \n",
       "2         Terp AS  https://apps.apple.com/us/developer/terp-as/id...   \n",
       "3   i-editeur.com  https://apps.apple.com/us/developer/i-editeur-...   \n",
       "4   Ngov chiheang  https://apps.apple.com/us/developer/ngov-chihe...   \n",
       "\n",
       "   Average_User_Rating  Reviews  Current_Version_Score  \\\n",
       "0                  0.0        0                    0.0   \n",
       "1                  5.0        1                    5.0   \n",
       "2                  0.0        0                    0.0   \n",
       "3                  0.0        0                    0.0   \n",
       "4                  0.0        0                    0.0   \n",
       "\n",
       "   Current_Version_Reviews  \n",
       "0                        0  \n",
       "1                        1  \n",
       "2                        0  \n",
       "3                        0  \n",
       "4                        0  "
      ]
     },
     "execution_count": 34,
     "metadata": {},
     "output_type": "execute_result"
    }
   ],
   "source": [
    "df.head()"
   ]
  },
  {
   "cell_type": "markdown",
   "id": "be2626ac",
   "metadata": {},
   "source": [
    "### 5.5 Adding column to hold Size_Bytes in MBs"
   ]
  },
  {
   "cell_type": "code",
   "execution_count": 35,
   "id": "55ea0b1c",
   "metadata": {},
   "outputs": [],
   "source": [
    "df['Size_MB'] = 0\n"
   ]
  },
  {
   "cell_type": "code",
   "execution_count": 36,
   "id": "c1d15ddf",
   "metadata": {},
   "outputs": [
    {
     "data": {
      "text/plain": [
       "Index(['App_Id', 'App_Name', 'AppStore_Url', 'Primary_Genre', 'Content_Rating',\n",
       "       'Size_Bytes', 'Required_IOS_Version', 'Released', 'Updated', 'Version',\n",
       "       'Price', 'Currency', 'Free', 'DeveloperId', 'Developer',\n",
       "       'Developer_Url', 'Average_User_Rating', 'Reviews',\n",
       "       'Current_Version_Score', 'Current_Version_Reviews', 'Size_MB'],\n",
       "      dtype='object')"
      ]
     },
     "execution_count": 36,
     "metadata": {},
     "output_type": "execute_result"
    }
   ],
   "source": [
    "df.columns"
   ]
  },
  {
   "cell_type": "code",
   "execution_count": 37,
   "id": "ebf1f957",
   "metadata": {},
   "outputs": [],
   "source": [
    "df['Size_MB'] = df['Size_Bytes'].apply(lambda x: (float(x)/1024)/1024)"
   ]
  },
  {
   "cell_type": "code",
   "execution_count": 38,
   "id": "1d3fe86f",
   "metadata": {},
   "outputs": [
    {
     "data": {
      "text/html": [
       "<div>\n",
       "<style scoped>\n",
       "    .dataframe tbody tr th:only-of-type {\n",
       "        vertical-align: middle;\n",
       "    }\n",
       "\n",
       "    .dataframe tbody tr th {\n",
       "        vertical-align: top;\n",
       "    }\n",
       "\n",
       "    .dataframe thead th {\n",
       "        text-align: right;\n",
       "    }\n",
       "</style>\n",
       "<table border=\"1\" class=\"dataframe\">\n",
       "  <thead>\n",
       "    <tr style=\"text-align: right;\">\n",
       "      <th></th>\n",
       "      <th>App_Id</th>\n",
       "      <th>App_Name</th>\n",
       "      <th>AppStore_Url</th>\n",
       "      <th>Primary_Genre</th>\n",
       "      <th>Content_Rating</th>\n",
       "      <th>Size_Bytes</th>\n",
       "      <th>Required_IOS_Version</th>\n",
       "      <th>Released</th>\n",
       "      <th>Updated</th>\n",
       "      <th>Version</th>\n",
       "      <th>Price</th>\n",
       "      <th>Currency</th>\n",
       "      <th>Free</th>\n",
       "      <th>DeveloperId</th>\n",
       "      <th>Developer</th>\n",
       "      <th>Developer_Url</th>\n",
       "      <th>Average_User_Rating</th>\n",
       "      <th>Reviews</th>\n",
       "      <th>Current_Version_Score</th>\n",
       "      <th>Current_Version_Reviews</th>\n",
       "      <th>Size_MB</th>\n",
       "    </tr>\n",
       "  </thead>\n",
       "  <tbody>\n",
       "    <tr>\n",
       "      <th>0</th>\n",
       "      <td>com.hkbu.arc.apaper</td>\n",
       "      <td>A+ Paper Guide</td>\n",
       "      <td>https://apps.apple.com/us/app/a-paper-guide/id...</td>\n",
       "      <td>Education</td>\n",
       "      <td>4+</td>\n",
       "      <td>21993472.0</td>\n",
       "      <td>8.0</td>\n",
       "      <td>2017-09-28T03:02:41Z</td>\n",
       "      <td>2018-12-21T21:30:36Z</td>\n",
       "      <td>1.1.2</td>\n",
       "      <td>0.00</td>\n",
       "      <td>USD</td>\n",
       "      <td>True</td>\n",
       "      <td>1375410542</td>\n",
       "      <td>HKBU ARC</td>\n",
       "      <td>https://apps.apple.com/us/developer/hkbu-arc/i...</td>\n",
       "      <td>0.0</td>\n",
       "      <td>0</td>\n",
       "      <td>0.0</td>\n",
       "      <td>0</td>\n",
       "      <td>20.974609</td>\n",
       "    </tr>\n",
       "    <tr>\n",
       "      <th>1</th>\n",
       "      <td>com.dmitriev.abooks</td>\n",
       "      <td>A-Books</td>\n",
       "      <td>https://apps.apple.com/us/app/a-books/id103157...</td>\n",
       "      <td>Book</td>\n",
       "      <td>4+</td>\n",
       "      <td>13135872.0</td>\n",
       "      <td>10.0</td>\n",
       "      <td>2015-08-31T19:31:32Z</td>\n",
       "      <td>2019-07-23T20:31:09Z</td>\n",
       "      <td>1.3</td>\n",
       "      <td>0.00</td>\n",
       "      <td>USD</td>\n",
       "      <td>True</td>\n",
       "      <td>1031572001</td>\n",
       "      <td>Roman Dmitriev</td>\n",
       "      <td>https://apps.apple.com/us/developer/roman-dmit...</td>\n",
       "      <td>5.0</td>\n",
       "      <td>1</td>\n",
       "      <td>5.0</td>\n",
       "      <td>1</td>\n",
       "      <td>12.527344</td>\n",
       "    </tr>\n",
       "    <tr>\n",
       "      <th>2</th>\n",
       "      <td>no.terp.abooks</td>\n",
       "      <td>A-books</td>\n",
       "      <td>https://apps.apple.com/us/app/a-books/id145702...</td>\n",
       "      <td>Book</td>\n",
       "      <td>4+</td>\n",
       "      <td>21943296.0</td>\n",
       "      <td>9.0</td>\n",
       "      <td>2021-04-14T07:00:00Z</td>\n",
       "      <td>2021-05-30T21:08:54Z</td>\n",
       "      <td>1.3.1</td>\n",
       "      <td>0.00</td>\n",
       "      <td>USD</td>\n",
       "      <td>True</td>\n",
       "      <td>1457024163</td>\n",
       "      <td>Terp AS</td>\n",
       "      <td>https://apps.apple.com/us/developer/terp-as/id...</td>\n",
       "      <td>0.0</td>\n",
       "      <td>0</td>\n",
       "      <td>0.0</td>\n",
       "      <td>0</td>\n",
       "      <td>20.926758</td>\n",
       "    </tr>\n",
       "    <tr>\n",
       "      <th>3</th>\n",
       "      <td>fr.antoinettefleur.Book1</td>\n",
       "      <td>A-F Book #1</td>\n",
       "      <td>https://apps.apple.com/us/app/a-f-book-1/id500...</td>\n",
       "      <td>Book</td>\n",
       "      <td>4+</td>\n",
       "      <td>81851392.0</td>\n",
       "      <td>8.0</td>\n",
       "      <td>2012-02-10T03:40:07Z</td>\n",
       "      <td>2019-10-29T12:40:37Z</td>\n",
       "      <td>1.2</td>\n",
       "      <td>2.99</td>\n",
       "      <td>USD</td>\n",
       "      <td>False</td>\n",
       "      <td>439568839</td>\n",
       "      <td>i-editeur.com</td>\n",
       "      <td>https://apps.apple.com/us/developer/i-editeur-...</td>\n",
       "      <td>0.0</td>\n",
       "      <td>0</td>\n",
       "      <td>0.0</td>\n",
       "      <td>0</td>\n",
       "      <td>78.059570</td>\n",
       "    </tr>\n",
       "    <tr>\n",
       "      <th>4</th>\n",
       "      <td>com.imonstersoft.azdictionaryios</td>\n",
       "      <td>A-Z Synonyms Dictionary</td>\n",
       "      <td>https://apps.apple.com/us/app/a-z-synonyms-dic...</td>\n",
       "      <td>Reference</td>\n",
       "      <td>4+</td>\n",
       "      <td>64692224.0</td>\n",
       "      <td>9.0</td>\n",
       "      <td>2020-12-16T08:00:00Z</td>\n",
       "      <td>2020-12-18T21:36:11Z</td>\n",
       "      <td>1.0.1</td>\n",
       "      <td>0.00</td>\n",
       "      <td>USD</td>\n",
       "      <td>True</td>\n",
       "      <td>656731821</td>\n",
       "      <td>Ngov chiheang</td>\n",
       "      <td>https://apps.apple.com/us/developer/ngov-chihe...</td>\n",
       "      <td>0.0</td>\n",
       "      <td>0</td>\n",
       "      <td>0.0</td>\n",
       "      <td>0</td>\n",
       "      <td>61.695312</td>\n",
       "    </tr>\n",
       "  </tbody>\n",
       "</table>\n",
       "</div>"
      ],
      "text/plain": [
       "                             App_Id                 App_Name  \\\n",
       "0               com.hkbu.arc.apaper           A+ Paper Guide   \n",
       "1               com.dmitriev.abooks                  A-Books   \n",
       "2                    no.terp.abooks                  A-books   \n",
       "3          fr.antoinettefleur.Book1              A-F Book #1   \n",
       "4  com.imonstersoft.azdictionaryios  A-Z Synonyms Dictionary   \n",
       "\n",
       "                                        AppStore_Url Primary_Genre  \\\n",
       "0  https://apps.apple.com/us/app/a-paper-guide/id...     Education   \n",
       "1  https://apps.apple.com/us/app/a-books/id103157...          Book   \n",
       "2  https://apps.apple.com/us/app/a-books/id145702...          Book   \n",
       "3  https://apps.apple.com/us/app/a-f-book-1/id500...          Book   \n",
       "4  https://apps.apple.com/us/app/a-z-synonyms-dic...     Reference   \n",
       "\n",
       "  Content_Rating  Size_Bytes Required_IOS_Version              Released  \\\n",
       "0             4+  21993472.0                  8.0  2017-09-28T03:02:41Z   \n",
       "1             4+  13135872.0                 10.0  2015-08-31T19:31:32Z   \n",
       "2             4+  21943296.0                  9.0  2021-04-14T07:00:00Z   \n",
       "3             4+  81851392.0                  8.0  2012-02-10T03:40:07Z   \n",
       "4             4+  64692224.0                  9.0  2020-12-16T08:00:00Z   \n",
       "\n",
       "                Updated Version  Price Currency   Free  DeveloperId  \\\n",
       "0  2018-12-21T21:30:36Z   1.1.2   0.00      USD   True   1375410542   \n",
       "1  2019-07-23T20:31:09Z     1.3   0.00      USD   True   1031572001   \n",
       "2  2021-05-30T21:08:54Z   1.3.1   0.00      USD   True   1457024163   \n",
       "3  2019-10-29T12:40:37Z     1.2   2.99      USD  False    439568839   \n",
       "4  2020-12-18T21:36:11Z   1.0.1   0.00      USD   True    656731821   \n",
       "\n",
       "        Developer                                      Developer_Url  \\\n",
       "0        HKBU ARC  https://apps.apple.com/us/developer/hkbu-arc/i...   \n",
       "1  Roman Dmitriev  https://apps.apple.com/us/developer/roman-dmit...   \n",
       "2         Terp AS  https://apps.apple.com/us/developer/terp-as/id...   \n",
       "3   i-editeur.com  https://apps.apple.com/us/developer/i-editeur-...   \n",
       "4   Ngov chiheang  https://apps.apple.com/us/developer/ngov-chihe...   \n",
       "\n",
       "   Average_User_Rating  Reviews  Current_Version_Score  \\\n",
       "0                  0.0        0                    0.0   \n",
       "1                  5.0        1                    5.0   \n",
       "2                  0.0        0                    0.0   \n",
       "3                  0.0        0                    0.0   \n",
       "4                  0.0        0                    0.0   \n",
       "\n",
       "   Current_Version_Reviews    Size_MB  \n",
       "0                        0  20.974609  \n",
       "1                        1  12.527344  \n",
       "2                        0  20.926758  \n",
       "3                        0  78.059570  \n",
       "4                        0  61.695312  "
      ]
     },
     "execution_count": 38,
     "metadata": {},
     "output_type": "execute_result"
    }
   ],
   "source": [
    "df.head()"
   ]
  },
  {
   "cell_type": "markdown",
   "id": "25ef1d83",
   "metadata": {},
   "source": [
    "### 5.6 Creataing the column type for free and paid Apps\n",
    "Using the Free column, it's helpfull while dealing with the paid and Free Apps from data readability perspective 🤓"
   ]
  },
  {
   "cell_type": "code",
   "execution_count": 39,
   "id": "eb2645a8",
   "metadata": {},
   "outputs": [],
   "source": [
    "df['Type'] = np.where(df['Free']==True,\"Free\",\"Paid\")\n",
    "df.drop(\"Free\",axis=1,inplace=True)"
   ]
  },
  {
   "cell_type": "code",
   "execution_count": 40,
   "id": "e2b1a5c6",
   "metadata": {},
   "outputs": [
    {
     "data": {
      "text/html": [
       "<div>\n",
       "<style scoped>\n",
       "    .dataframe tbody tr th:only-of-type {\n",
       "        vertical-align: middle;\n",
       "    }\n",
       "\n",
       "    .dataframe tbody tr th {\n",
       "        vertical-align: top;\n",
       "    }\n",
       "\n",
       "    .dataframe thead th {\n",
       "        text-align: right;\n",
       "    }\n",
       "</style>\n",
       "<table border=\"1\" class=\"dataframe\">\n",
       "  <thead>\n",
       "    <tr style=\"text-align: right;\">\n",
       "      <th></th>\n",
       "      <th>App_Id</th>\n",
       "      <th>App_Name</th>\n",
       "      <th>AppStore_Url</th>\n",
       "      <th>Primary_Genre</th>\n",
       "      <th>Content_Rating</th>\n",
       "      <th>Size_Bytes</th>\n",
       "      <th>Required_IOS_Version</th>\n",
       "      <th>Released</th>\n",
       "      <th>Updated</th>\n",
       "      <th>Version</th>\n",
       "      <th>Price</th>\n",
       "      <th>Currency</th>\n",
       "      <th>DeveloperId</th>\n",
       "      <th>Developer</th>\n",
       "      <th>Developer_Url</th>\n",
       "      <th>Average_User_Rating</th>\n",
       "      <th>Reviews</th>\n",
       "      <th>Current_Version_Score</th>\n",
       "      <th>Current_Version_Reviews</th>\n",
       "      <th>Size_MB</th>\n",
       "      <th>Type</th>\n",
       "    </tr>\n",
       "  </thead>\n",
       "  <tbody>\n",
       "    <tr>\n",
       "      <th>0</th>\n",
       "      <td>com.hkbu.arc.apaper</td>\n",
       "      <td>A+ Paper Guide</td>\n",
       "      <td>https://apps.apple.com/us/app/a-paper-guide/id...</td>\n",
       "      <td>Education</td>\n",
       "      <td>4+</td>\n",
       "      <td>21993472.0</td>\n",
       "      <td>8.0</td>\n",
       "      <td>2017-09-28T03:02:41Z</td>\n",
       "      <td>2018-12-21T21:30:36Z</td>\n",
       "      <td>1.1.2</td>\n",
       "      <td>0.00</td>\n",
       "      <td>USD</td>\n",
       "      <td>1375410542</td>\n",
       "      <td>HKBU ARC</td>\n",
       "      <td>https://apps.apple.com/us/developer/hkbu-arc/i...</td>\n",
       "      <td>0.0</td>\n",
       "      <td>0</td>\n",
       "      <td>0.0</td>\n",
       "      <td>0</td>\n",
       "      <td>20.974609</td>\n",
       "      <td>Free</td>\n",
       "    </tr>\n",
       "    <tr>\n",
       "      <th>1</th>\n",
       "      <td>com.dmitriev.abooks</td>\n",
       "      <td>A-Books</td>\n",
       "      <td>https://apps.apple.com/us/app/a-books/id103157...</td>\n",
       "      <td>Book</td>\n",
       "      <td>4+</td>\n",
       "      <td>13135872.0</td>\n",
       "      <td>10.0</td>\n",
       "      <td>2015-08-31T19:31:32Z</td>\n",
       "      <td>2019-07-23T20:31:09Z</td>\n",
       "      <td>1.3</td>\n",
       "      <td>0.00</td>\n",
       "      <td>USD</td>\n",
       "      <td>1031572001</td>\n",
       "      <td>Roman Dmitriev</td>\n",
       "      <td>https://apps.apple.com/us/developer/roman-dmit...</td>\n",
       "      <td>5.0</td>\n",
       "      <td>1</td>\n",
       "      <td>5.0</td>\n",
       "      <td>1</td>\n",
       "      <td>12.527344</td>\n",
       "      <td>Free</td>\n",
       "    </tr>\n",
       "    <tr>\n",
       "      <th>2</th>\n",
       "      <td>no.terp.abooks</td>\n",
       "      <td>A-books</td>\n",
       "      <td>https://apps.apple.com/us/app/a-books/id145702...</td>\n",
       "      <td>Book</td>\n",
       "      <td>4+</td>\n",
       "      <td>21943296.0</td>\n",
       "      <td>9.0</td>\n",
       "      <td>2021-04-14T07:00:00Z</td>\n",
       "      <td>2021-05-30T21:08:54Z</td>\n",
       "      <td>1.3.1</td>\n",
       "      <td>0.00</td>\n",
       "      <td>USD</td>\n",
       "      <td>1457024163</td>\n",
       "      <td>Terp AS</td>\n",
       "      <td>https://apps.apple.com/us/developer/terp-as/id...</td>\n",
       "      <td>0.0</td>\n",
       "      <td>0</td>\n",
       "      <td>0.0</td>\n",
       "      <td>0</td>\n",
       "      <td>20.926758</td>\n",
       "      <td>Free</td>\n",
       "    </tr>\n",
       "    <tr>\n",
       "      <th>3</th>\n",
       "      <td>fr.antoinettefleur.Book1</td>\n",
       "      <td>A-F Book #1</td>\n",
       "      <td>https://apps.apple.com/us/app/a-f-book-1/id500...</td>\n",
       "      <td>Book</td>\n",
       "      <td>4+</td>\n",
       "      <td>81851392.0</td>\n",
       "      <td>8.0</td>\n",
       "      <td>2012-02-10T03:40:07Z</td>\n",
       "      <td>2019-10-29T12:40:37Z</td>\n",
       "      <td>1.2</td>\n",
       "      <td>2.99</td>\n",
       "      <td>USD</td>\n",
       "      <td>439568839</td>\n",
       "      <td>i-editeur.com</td>\n",
       "      <td>https://apps.apple.com/us/developer/i-editeur-...</td>\n",
       "      <td>0.0</td>\n",
       "      <td>0</td>\n",
       "      <td>0.0</td>\n",
       "      <td>0</td>\n",
       "      <td>78.059570</td>\n",
       "      <td>Paid</td>\n",
       "    </tr>\n",
       "    <tr>\n",
       "      <th>4</th>\n",
       "      <td>com.imonstersoft.azdictionaryios</td>\n",
       "      <td>A-Z Synonyms Dictionary</td>\n",
       "      <td>https://apps.apple.com/us/app/a-z-synonyms-dic...</td>\n",
       "      <td>Reference</td>\n",
       "      <td>4+</td>\n",
       "      <td>64692224.0</td>\n",
       "      <td>9.0</td>\n",
       "      <td>2020-12-16T08:00:00Z</td>\n",
       "      <td>2020-12-18T21:36:11Z</td>\n",
       "      <td>1.0.1</td>\n",
       "      <td>0.00</td>\n",
       "      <td>USD</td>\n",
       "      <td>656731821</td>\n",
       "      <td>Ngov chiheang</td>\n",
       "      <td>https://apps.apple.com/us/developer/ngov-chihe...</td>\n",
       "      <td>0.0</td>\n",
       "      <td>0</td>\n",
       "      <td>0.0</td>\n",
       "      <td>0</td>\n",
       "      <td>61.695312</td>\n",
       "      <td>Free</td>\n",
       "    </tr>\n",
       "  </tbody>\n",
       "</table>\n",
       "</div>"
      ],
      "text/plain": [
       "                             App_Id                 App_Name  \\\n",
       "0               com.hkbu.arc.apaper           A+ Paper Guide   \n",
       "1               com.dmitriev.abooks                  A-Books   \n",
       "2                    no.terp.abooks                  A-books   \n",
       "3          fr.antoinettefleur.Book1              A-F Book #1   \n",
       "4  com.imonstersoft.azdictionaryios  A-Z Synonyms Dictionary   \n",
       "\n",
       "                                        AppStore_Url Primary_Genre  \\\n",
       "0  https://apps.apple.com/us/app/a-paper-guide/id...     Education   \n",
       "1  https://apps.apple.com/us/app/a-books/id103157...          Book   \n",
       "2  https://apps.apple.com/us/app/a-books/id145702...          Book   \n",
       "3  https://apps.apple.com/us/app/a-f-book-1/id500...          Book   \n",
       "4  https://apps.apple.com/us/app/a-z-synonyms-dic...     Reference   \n",
       "\n",
       "  Content_Rating  Size_Bytes Required_IOS_Version              Released  \\\n",
       "0             4+  21993472.0                  8.0  2017-09-28T03:02:41Z   \n",
       "1             4+  13135872.0                 10.0  2015-08-31T19:31:32Z   \n",
       "2             4+  21943296.0                  9.0  2021-04-14T07:00:00Z   \n",
       "3             4+  81851392.0                  8.0  2012-02-10T03:40:07Z   \n",
       "4             4+  64692224.0                  9.0  2020-12-16T08:00:00Z   \n",
       "\n",
       "                Updated Version  Price Currency  DeveloperId       Developer  \\\n",
       "0  2018-12-21T21:30:36Z   1.1.2   0.00      USD   1375410542        HKBU ARC   \n",
       "1  2019-07-23T20:31:09Z     1.3   0.00      USD   1031572001  Roman Dmitriev   \n",
       "2  2021-05-30T21:08:54Z   1.3.1   0.00      USD   1457024163         Terp AS   \n",
       "3  2019-10-29T12:40:37Z     1.2   2.99      USD    439568839   i-editeur.com   \n",
       "4  2020-12-18T21:36:11Z   1.0.1   0.00      USD    656731821   Ngov chiheang   \n",
       "\n",
       "                                       Developer_Url  Average_User_Rating  \\\n",
       "0  https://apps.apple.com/us/developer/hkbu-arc/i...                  0.0   \n",
       "1  https://apps.apple.com/us/developer/roman-dmit...                  5.0   \n",
       "2  https://apps.apple.com/us/developer/terp-as/id...                  0.0   \n",
       "3  https://apps.apple.com/us/developer/i-editeur-...                  0.0   \n",
       "4  https://apps.apple.com/us/developer/ngov-chihe...                  0.0   \n",
       "\n",
       "   Reviews  Current_Version_Score  Current_Version_Reviews    Size_MB  Type  \n",
       "0        0                    0.0                        0  20.974609  Free  \n",
       "1        1                    5.0                        1  12.527344  Free  \n",
       "2        0                    0.0                        0  20.926758  Free  \n",
       "3        0                    0.0                        0  78.059570  Paid  \n",
       "4        0                    0.0                        0  61.695312  Free  "
      ]
     },
     "execution_count": 40,
     "metadata": {},
     "output_type": "execute_result"
    }
   ],
   "source": [
    "df.head()"
   ]
  },
  {
   "cell_type": "markdown",
   "id": "b5c8244d",
   "metadata": {},
   "source": [
    "### 5.7 Viewing the content of the column 'Content_Rating'\n",
    "- First we will view the unique values present in this column"
   ]
  },
  {
   "cell_type": "code",
   "execution_count": 41,
   "id": "93bdd677",
   "metadata": {},
   "outputs": [
    {
     "data": {
      "text/plain": [
       "array(['4+', '17+', '9+', '12+', 'Not yet rated'], dtype=object)"
      ]
     },
     "execution_count": 41,
     "metadata": {},
     "output_type": "execute_result"
    }
   ],
   "source": [
    "df['Content_Rating'].unique()"
   ]
  },
  {
   "cell_type": "markdown",
   "id": "2147c2a6",
   "metadata": {},
   "source": [
    "#### Observation Set 6:     \n",
    "1. We have various Categories in the content Rating column:    \n",
    "- 4+\n",
    "- 17+\n",
    "- 9+\n",
    "- 12+\n",
    "- Not yet rated            \n",
    "\n",
    "#### Approach:\n",
    "Now, we make these categories to a simple 4 Categories for better understanding:     \n",
    "   >**Children, Teens, Adults & Everyone**\n",
    "    \n",
    "- 4+: Children\n",
    "- 17+: Adults\n",
    "- 9+: Children\n",
    "- 12+: Teens\n",
    "- Not yet rated : Everyone"
   ]
  },
  {
   "cell_type": "code",
   "execution_count": 42,
   "id": "0400e203",
   "metadata": {},
   "outputs": [],
   "source": [
    "df[\"Content_Rating\"]=df[\"Content_Rating\"].replace(\"4+\",\"Children\")\n",
    "df[\"Content_Rating\"]=df[\"Content_Rating\"].replace(\"9+\",\"Children\")\n",
    "df[\"Content_Rating\"]=df[\"Content_Rating\"].replace(\"12+\",\"Teens\")\n",
    "df[\"Content_Rating\"]=df[\"Content_Rating\"].replace(\"17+\",\"Adults\")\n",
    "df[\"Content_Rating\"]=df[\"Content_Rating\"].replace(\"Not yet rated\",\"Everyone\")"
   ]
  },
  {
   "cell_type": "code",
   "execution_count": 43,
   "id": "42ceec5a",
   "metadata": {},
   "outputs": [
    {
     "data": {
      "text/html": [
       "<div>\n",
       "<style scoped>\n",
       "    .dataframe tbody tr th:only-of-type {\n",
       "        vertical-align: middle;\n",
       "    }\n",
       "\n",
       "    .dataframe tbody tr th {\n",
       "        vertical-align: top;\n",
       "    }\n",
       "\n",
       "    .dataframe thead th {\n",
       "        text-align: right;\n",
       "    }\n",
       "</style>\n",
       "<table border=\"1\" class=\"dataframe\">\n",
       "  <thead>\n",
       "    <tr style=\"text-align: right;\">\n",
       "      <th></th>\n",
       "      <th>App_Id</th>\n",
       "      <th>App_Name</th>\n",
       "      <th>AppStore_Url</th>\n",
       "      <th>Primary_Genre</th>\n",
       "      <th>Content_Rating</th>\n",
       "      <th>Size_Bytes</th>\n",
       "      <th>Required_IOS_Version</th>\n",
       "      <th>Released</th>\n",
       "      <th>Updated</th>\n",
       "      <th>Version</th>\n",
       "      <th>Price</th>\n",
       "      <th>Currency</th>\n",
       "      <th>DeveloperId</th>\n",
       "      <th>Developer</th>\n",
       "      <th>Developer_Url</th>\n",
       "      <th>Average_User_Rating</th>\n",
       "      <th>Reviews</th>\n",
       "      <th>Current_Version_Score</th>\n",
       "      <th>Current_Version_Reviews</th>\n",
       "      <th>Size_MB</th>\n",
       "      <th>Type</th>\n",
       "    </tr>\n",
       "  </thead>\n",
       "  <tbody>\n",
       "    <tr>\n",
       "      <th>0</th>\n",
       "      <td>com.hkbu.arc.apaper</td>\n",
       "      <td>A+ Paper Guide</td>\n",
       "      <td>https://apps.apple.com/us/app/a-paper-guide/id...</td>\n",
       "      <td>Education</td>\n",
       "      <td>Children</td>\n",
       "      <td>21993472.0</td>\n",
       "      <td>8.0</td>\n",
       "      <td>2017-09-28T03:02:41Z</td>\n",
       "      <td>2018-12-21T21:30:36Z</td>\n",
       "      <td>1.1.2</td>\n",
       "      <td>0.00</td>\n",
       "      <td>USD</td>\n",
       "      <td>1375410542</td>\n",
       "      <td>HKBU ARC</td>\n",
       "      <td>https://apps.apple.com/us/developer/hkbu-arc/i...</td>\n",
       "      <td>0.0</td>\n",
       "      <td>0</td>\n",
       "      <td>0.0</td>\n",
       "      <td>0</td>\n",
       "      <td>20.974609</td>\n",
       "      <td>Free</td>\n",
       "    </tr>\n",
       "    <tr>\n",
       "      <th>1</th>\n",
       "      <td>com.dmitriev.abooks</td>\n",
       "      <td>A-Books</td>\n",
       "      <td>https://apps.apple.com/us/app/a-books/id103157...</td>\n",
       "      <td>Book</td>\n",
       "      <td>Children</td>\n",
       "      <td>13135872.0</td>\n",
       "      <td>10.0</td>\n",
       "      <td>2015-08-31T19:31:32Z</td>\n",
       "      <td>2019-07-23T20:31:09Z</td>\n",
       "      <td>1.3</td>\n",
       "      <td>0.00</td>\n",
       "      <td>USD</td>\n",
       "      <td>1031572001</td>\n",
       "      <td>Roman Dmitriev</td>\n",
       "      <td>https://apps.apple.com/us/developer/roman-dmit...</td>\n",
       "      <td>5.0</td>\n",
       "      <td>1</td>\n",
       "      <td>5.0</td>\n",
       "      <td>1</td>\n",
       "      <td>12.527344</td>\n",
       "      <td>Free</td>\n",
       "    </tr>\n",
       "    <tr>\n",
       "      <th>2</th>\n",
       "      <td>no.terp.abooks</td>\n",
       "      <td>A-books</td>\n",
       "      <td>https://apps.apple.com/us/app/a-books/id145702...</td>\n",
       "      <td>Book</td>\n",
       "      <td>Children</td>\n",
       "      <td>21943296.0</td>\n",
       "      <td>9.0</td>\n",
       "      <td>2021-04-14T07:00:00Z</td>\n",
       "      <td>2021-05-30T21:08:54Z</td>\n",
       "      <td>1.3.1</td>\n",
       "      <td>0.00</td>\n",
       "      <td>USD</td>\n",
       "      <td>1457024163</td>\n",
       "      <td>Terp AS</td>\n",
       "      <td>https://apps.apple.com/us/developer/terp-as/id...</td>\n",
       "      <td>0.0</td>\n",
       "      <td>0</td>\n",
       "      <td>0.0</td>\n",
       "      <td>0</td>\n",
       "      <td>20.926758</td>\n",
       "      <td>Free</td>\n",
       "    </tr>\n",
       "    <tr>\n",
       "      <th>3</th>\n",
       "      <td>fr.antoinettefleur.Book1</td>\n",
       "      <td>A-F Book #1</td>\n",
       "      <td>https://apps.apple.com/us/app/a-f-book-1/id500...</td>\n",
       "      <td>Book</td>\n",
       "      <td>Children</td>\n",
       "      <td>81851392.0</td>\n",
       "      <td>8.0</td>\n",
       "      <td>2012-02-10T03:40:07Z</td>\n",
       "      <td>2019-10-29T12:40:37Z</td>\n",
       "      <td>1.2</td>\n",
       "      <td>2.99</td>\n",
       "      <td>USD</td>\n",
       "      <td>439568839</td>\n",
       "      <td>i-editeur.com</td>\n",
       "      <td>https://apps.apple.com/us/developer/i-editeur-...</td>\n",
       "      <td>0.0</td>\n",
       "      <td>0</td>\n",
       "      <td>0.0</td>\n",
       "      <td>0</td>\n",
       "      <td>78.059570</td>\n",
       "      <td>Paid</td>\n",
       "    </tr>\n",
       "    <tr>\n",
       "      <th>4</th>\n",
       "      <td>com.imonstersoft.azdictionaryios</td>\n",
       "      <td>A-Z Synonyms Dictionary</td>\n",
       "      <td>https://apps.apple.com/us/app/a-z-synonyms-dic...</td>\n",
       "      <td>Reference</td>\n",
       "      <td>Children</td>\n",
       "      <td>64692224.0</td>\n",
       "      <td>9.0</td>\n",
       "      <td>2020-12-16T08:00:00Z</td>\n",
       "      <td>2020-12-18T21:36:11Z</td>\n",
       "      <td>1.0.1</td>\n",
       "      <td>0.00</td>\n",
       "      <td>USD</td>\n",
       "      <td>656731821</td>\n",
       "      <td>Ngov chiheang</td>\n",
       "      <td>https://apps.apple.com/us/developer/ngov-chihe...</td>\n",
       "      <td>0.0</td>\n",
       "      <td>0</td>\n",
       "      <td>0.0</td>\n",
       "      <td>0</td>\n",
       "      <td>61.695312</td>\n",
       "      <td>Free</td>\n",
       "    </tr>\n",
       "  </tbody>\n",
       "</table>\n",
       "</div>"
      ],
      "text/plain": [
       "                             App_Id                 App_Name  \\\n",
       "0               com.hkbu.arc.apaper           A+ Paper Guide   \n",
       "1               com.dmitriev.abooks                  A-Books   \n",
       "2                    no.terp.abooks                  A-books   \n",
       "3          fr.antoinettefleur.Book1              A-F Book #1   \n",
       "4  com.imonstersoft.azdictionaryios  A-Z Synonyms Dictionary   \n",
       "\n",
       "                                        AppStore_Url Primary_Genre  \\\n",
       "0  https://apps.apple.com/us/app/a-paper-guide/id...     Education   \n",
       "1  https://apps.apple.com/us/app/a-books/id103157...          Book   \n",
       "2  https://apps.apple.com/us/app/a-books/id145702...          Book   \n",
       "3  https://apps.apple.com/us/app/a-f-book-1/id500...          Book   \n",
       "4  https://apps.apple.com/us/app/a-z-synonyms-dic...     Reference   \n",
       "\n",
       "  Content_Rating  Size_Bytes Required_IOS_Version              Released  \\\n",
       "0       Children  21993472.0                  8.0  2017-09-28T03:02:41Z   \n",
       "1       Children  13135872.0                 10.0  2015-08-31T19:31:32Z   \n",
       "2       Children  21943296.0                  9.0  2021-04-14T07:00:00Z   \n",
       "3       Children  81851392.0                  8.0  2012-02-10T03:40:07Z   \n",
       "4       Children  64692224.0                  9.0  2020-12-16T08:00:00Z   \n",
       "\n",
       "                Updated Version  Price Currency  DeveloperId       Developer  \\\n",
       "0  2018-12-21T21:30:36Z   1.1.2   0.00      USD   1375410542        HKBU ARC   \n",
       "1  2019-07-23T20:31:09Z     1.3   0.00      USD   1031572001  Roman Dmitriev   \n",
       "2  2021-05-30T21:08:54Z   1.3.1   0.00      USD   1457024163         Terp AS   \n",
       "3  2019-10-29T12:40:37Z     1.2   2.99      USD    439568839   i-editeur.com   \n",
       "4  2020-12-18T21:36:11Z   1.0.1   0.00      USD    656731821   Ngov chiheang   \n",
       "\n",
       "                                       Developer_Url  Average_User_Rating  \\\n",
       "0  https://apps.apple.com/us/developer/hkbu-arc/i...                  0.0   \n",
       "1  https://apps.apple.com/us/developer/roman-dmit...                  5.0   \n",
       "2  https://apps.apple.com/us/developer/terp-as/id...                  0.0   \n",
       "3  https://apps.apple.com/us/developer/i-editeur-...                  0.0   \n",
       "4  https://apps.apple.com/us/developer/ngov-chihe...                  0.0   \n",
       "\n",
       "   Reviews  Current_Version_Score  Current_Version_Reviews    Size_MB  Type  \n",
       "0        0                    0.0                        0  20.974609  Free  \n",
       "1        1                    5.0                        1  12.527344  Free  \n",
       "2        0                    0.0                        0  20.926758  Free  \n",
       "3        0                    0.0                        0  78.059570  Paid  \n",
       "4        0                    0.0                        0  61.695312  Free  "
      ]
     },
     "execution_count": 43,
     "metadata": {},
     "output_type": "execute_result"
    }
   ],
   "source": [
    "df.head()"
   ]
  },
  {
   "cell_type": "markdown",
   "id": "7697567b",
   "metadata": {},
   "source": [
    "### 5.8 Changing the Reviews to certain ranges for the better understanding of the data"
   ]
  },
  {
   "cell_type": "code",
   "execution_count": 44,
   "id": "b98a389a",
   "metadata": {},
   "outputs": [
    {
     "data": {
      "text/plain": [
       "0"
      ]
     },
     "execution_count": 44,
     "metadata": {},
     "output_type": "execute_result"
    }
   ],
   "source": [
    "df['Reviews'].min()"
   ]
  },
  {
   "cell_type": "code",
   "execution_count": 45,
   "id": "cb2d15f5",
   "metadata": {},
   "outputs": [
    {
     "data": {
      "text/plain": [
       "22685334"
      ]
     },
     "execution_count": 45,
     "metadata": {},
     "output_type": "execute_result"
    }
   ],
   "source": [
    "df['Reviews'].max()"
   ]
  },
  {
   "cell_type": "code",
   "execution_count": 46,
   "id": "4ee28b93",
   "metadata": {},
   "outputs": [
    {
     "data": {
      "text/plain": [
       "count    1.229263e+06\n",
       "mean     8.266250e+02\n",
       "std      5.018320e+04\n",
       "min      0.000000e+00\n",
       "25%      0.000000e+00\n",
       "50%      0.000000e+00\n",
       "75%      3.000000e+00\n",
       "max      2.268533e+07\n",
       "Name: Reviews, dtype: float64"
      ]
     },
     "execution_count": 46,
     "metadata": {},
     "output_type": "execute_result"
    }
   ],
   "source": [
    "df['Reviews'].describe()"
   ]
  },
  {
   "cell_type": "markdown",
   "id": "66f9aef8",
   "metadata": {},
   "source": [
    "#### Observation Set 7:   \n",
    "Review column is  numeric column that holds information about the number fo reviews users left while dowloading /using the app  \n",
    "> We have a long sequence of data when it comes to  Reviews column :    \n",
    "\n",
    "minimum reviews:      0\n",
    "maxaximum reviews:    22685334       \n",
    "\n",
    "#### Approach:\n",
    "We can club this long sequence into a compressed form and presentation. In another column called ReviewCategory\n",
    "    \n",
    "- if an app has reviews between 0 and 10000 --> Less than 10K\n",
    "- if an app has reviews between 10000 and 500000 --> Between 10K and 500K\n",
    "- if an app has reviews between 500000 and 1000000 --> Between 500K and 1Mil\n",
    "- if an app has reviews between 1000000 and 22685334 --> Million Plus"
   ]
  },
  {
   "cell_type": "code",
   "execution_count": 47,
   "id": "fae2eb5e",
   "metadata": {},
   "outputs": [
    {
     "data": {
      "text/plain": [
       "ReviewCategory\n",
       "NoReviews                683549\n",
       "Less than 10K            538691\n",
       "Between 10K and 500K       6725\n",
       "Million Plus                152\n",
       "Between 500K and 1Mil       146\n",
       "Name: count, dtype: int64"
      ]
     },
     "execution_count": 47,
     "metadata": {},
     "output_type": "execute_result"
    }
   ],
   "source": [
    "df['ReviewCategory'] = 'NoReviews'\n",
    "df.loc[(df['Reviews'] > 0) & (df['Reviews'] <= 10000.0),'ReviewCategory'] = 'Less than 10K'\n",
    "df.loc[(df['Reviews'] > 10000) & (df['Reviews'] <= 500000.0),'ReviewCategory'] = 'Between 10K and 500K'\n",
    "df.loc[(df['Reviews'] > 500000) & (df['Reviews'] <= 1000000),'ReviewCategory'] = 'Between 500K and 1Mil'\n",
    "df.loc[(df['Reviews'] > 1000000) & (df['Reviews'] <= 22685334),'ReviewCategory'] = 'Million Plus'\n",
    "df['ReviewCategory'].value_counts()\n"
   ]
  },
  {
   "cell_type": "code",
   "execution_count": 48,
   "id": "466ecb4b",
   "metadata": {},
   "outputs": [
    {
     "name": "stdout",
     "output_type": "stream",
     "text": [
      "<class 'pandas.core.frame.DataFrame'>\n",
      "Index: 1229263 entries, 0 to 1230375\n",
      "Data columns (total 22 columns):\n",
      " #   Column                   Non-Null Count    Dtype  \n",
      "---  ------                   --------------    -----  \n",
      " 0   App_Id                   1229263 non-null  object \n",
      " 1   App_Name                 1229263 non-null  object \n",
      " 2   AppStore_Url             1229263 non-null  object \n",
      " 3   Primary_Genre            1229263 non-null  object \n",
      " 4   Content_Rating           1229263 non-null  object \n",
      " 5   Size_Bytes               1229263 non-null  float64\n",
      " 6   Required_IOS_Version     1229263 non-null  object \n",
      " 7   Released                 1229263 non-null  object \n",
      " 8   Updated                  1229263 non-null  object \n",
      " 9   Version                  1229263 non-null  object \n",
      " 10  Price                    1229263 non-null  float64\n",
      " 11  Currency                 1229263 non-null  object \n",
      " 12  DeveloperId              1229263 non-null  int64  \n",
      " 13  Developer                1229263 non-null  object \n",
      " 14  Developer_Url            1229263 non-null  object \n",
      " 15  Average_User_Rating      1229263 non-null  float64\n",
      " 16  Reviews                  1229263 non-null  int64  \n",
      " 17  Current_Version_Score    1229263 non-null  float64\n",
      " 18  Current_Version_Reviews  1229263 non-null  int64  \n",
      " 19  Size_MB                  1229263 non-null  float64\n",
      " 20  Type                     1229263 non-null  object \n",
      " 21  ReviewCategory           1229263 non-null  object \n",
      "dtypes: float64(5), int64(3), object(14)\n",
      "memory usage: 215.7+ MB\n"
     ]
    }
   ],
   "source": [
    "df.info()"
   ]
  },
  {
   "cell_type": "markdown",
   "id": "e132a5ff",
   "metadata": {},
   "source": [
    "### 5.9 Cleaning Average_User_Rating column\n"
   ]
  },
  {
   "cell_type": "code",
   "execution_count": 49,
   "id": "70982314",
   "metadata": {},
   "outputs": [
    {
     "data": {
      "text/plain": [
       "array([0.     , 5.     , 4.78132, ..., 4.00352, 3.91608, 4.82733])"
      ]
     },
     "execution_count": 49,
     "metadata": {},
     "output_type": "execute_result"
    }
   ],
   "source": [
    "df['Average_User_Rating'].unique()"
   ]
  },
  {
   "cell_type": "markdown",
   "id": "9f8a6886",
   "metadata": {},
   "source": [
    "Let's round off and store the float decimal values in the df.Average_User_Rating column, which are currently in the range of 0 to 5."
   ]
  },
  {
   "cell_type": "code",
   "execution_count": 50,
   "id": "4000937d",
   "metadata": {},
   "outputs": [],
   "source": [
    "df['Average_User_Rating'] = df['Average_User_Rating'].round().astype(int)"
   ]
  },
  {
   "cell_type": "code",
   "execution_count": 51,
   "id": "84318c71",
   "metadata": {},
   "outputs": [
    {
     "data": {
      "text/html": [
       "<div>\n",
       "<style scoped>\n",
       "    .dataframe tbody tr th:only-of-type {\n",
       "        vertical-align: middle;\n",
       "    }\n",
       "\n",
       "    .dataframe tbody tr th {\n",
       "        vertical-align: top;\n",
       "    }\n",
       "\n",
       "    .dataframe thead th {\n",
       "        text-align: right;\n",
       "    }\n",
       "</style>\n",
       "<table border=\"1\" class=\"dataframe\">\n",
       "  <thead>\n",
       "    <tr style=\"text-align: right;\">\n",
       "      <th></th>\n",
       "      <th>App_Id</th>\n",
       "      <th>App_Name</th>\n",
       "      <th>AppStore_Url</th>\n",
       "      <th>Primary_Genre</th>\n",
       "      <th>Content_Rating</th>\n",
       "      <th>Size_Bytes</th>\n",
       "      <th>Required_IOS_Version</th>\n",
       "      <th>Released</th>\n",
       "      <th>Updated</th>\n",
       "      <th>Version</th>\n",
       "      <th>Price</th>\n",
       "      <th>Currency</th>\n",
       "      <th>DeveloperId</th>\n",
       "      <th>Developer</th>\n",
       "      <th>Developer_Url</th>\n",
       "      <th>Average_User_Rating</th>\n",
       "      <th>Reviews</th>\n",
       "      <th>Current_Version_Score</th>\n",
       "      <th>Current_Version_Reviews</th>\n",
       "      <th>Size_MB</th>\n",
       "      <th>Type</th>\n",
       "      <th>ReviewCategory</th>\n",
       "    </tr>\n",
       "  </thead>\n",
       "  <tbody>\n",
       "    <tr>\n",
       "      <th>0</th>\n",
       "      <td>com.hkbu.arc.apaper</td>\n",
       "      <td>A+ Paper Guide</td>\n",
       "      <td>https://apps.apple.com/us/app/a-paper-guide/id...</td>\n",
       "      <td>Education</td>\n",
       "      <td>Children</td>\n",
       "      <td>21993472.0</td>\n",
       "      <td>8.0</td>\n",
       "      <td>2017-09-28T03:02:41Z</td>\n",
       "      <td>2018-12-21T21:30:36Z</td>\n",
       "      <td>1.1.2</td>\n",
       "      <td>0.00</td>\n",
       "      <td>USD</td>\n",
       "      <td>1375410542</td>\n",
       "      <td>HKBU ARC</td>\n",
       "      <td>https://apps.apple.com/us/developer/hkbu-arc/i...</td>\n",
       "      <td>0</td>\n",
       "      <td>0</td>\n",
       "      <td>0.0</td>\n",
       "      <td>0</td>\n",
       "      <td>20.974609</td>\n",
       "      <td>Free</td>\n",
       "      <td>NoReviews</td>\n",
       "    </tr>\n",
       "    <tr>\n",
       "      <th>1</th>\n",
       "      <td>com.dmitriev.abooks</td>\n",
       "      <td>A-Books</td>\n",
       "      <td>https://apps.apple.com/us/app/a-books/id103157...</td>\n",
       "      <td>Book</td>\n",
       "      <td>Children</td>\n",
       "      <td>13135872.0</td>\n",
       "      <td>10.0</td>\n",
       "      <td>2015-08-31T19:31:32Z</td>\n",
       "      <td>2019-07-23T20:31:09Z</td>\n",
       "      <td>1.3</td>\n",
       "      <td>0.00</td>\n",
       "      <td>USD</td>\n",
       "      <td>1031572001</td>\n",
       "      <td>Roman Dmitriev</td>\n",
       "      <td>https://apps.apple.com/us/developer/roman-dmit...</td>\n",
       "      <td>5</td>\n",
       "      <td>1</td>\n",
       "      <td>5.0</td>\n",
       "      <td>1</td>\n",
       "      <td>12.527344</td>\n",
       "      <td>Free</td>\n",
       "      <td>Less than 10K</td>\n",
       "    </tr>\n",
       "    <tr>\n",
       "      <th>2</th>\n",
       "      <td>no.terp.abooks</td>\n",
       "      <td>A-books</td>\n",
       "      <td>https://apps.apple.com/us/app/a-books/id145702...</td>\n",
       "      <td>Book</td>\n",
       "      <td>Children</td>\n",
       "      <td>21943296.0</td>\n",
       "      <td>9.0</td>\n",
       "      <td>2021-04-14T07:00:00Z</td>\n",
       "      <td>2021-05-30T21:08:54Z</td>\n",
       "      <td>1.3.1</td>\n",
       "      <td>0.00</td>\n",
       "      <td>USD</td>\n",
       "      <td>1457024163</td>\n",
       "      <td>Terp AS</td>\n",
       "      <td>https://apps.apple.com/us/developer/terp-as/id...</td>\n",
       "      <td>0</td>\n",
       "      <td>0</td>\n",
       "      <td>0.0</td>\n",
       "      <td>0</td>\n",
       "      <td>20.926758</td>\n",
       "      <td>Free</td>\n",
       "      <td>NoReviews</td>\n",
       "    </tr>\n",
       "    <tr>\n",
       "      <th>3</th>\n",
       "      <td>fr.antoinettefleur.Book1</td>\n",
       "      <td>A-F Book #1</td>\n",
       "      <td>https://apps.apple.com/us/app/a-f-book-1/id500...</td>\n",
       "      <td>Book</td>\n",
       "      <td>Children</td>\n",
       "      <td>81851392.0</td>\n",
       "      <td>8.0</td>\n",
       "      <td>2012-02-10T03:40:07Z</td>\n",
       "      <td>2019-10-29T12:40:37Z</td>\n",
       "      <td>1.2</td>\n",
       "      <td>2.99</td>\n",
       "      <td>USD</td>\n",
       "      <td>439568839</td>\n",
       "      <td>i-editeur.com</td>\n",
       "      <td>https://apps.apple.com/us/developer/i-editeur-...</td>\n",
       "      <td>0</td>\n",
       "      <td>0</td>\n",
       "      <td>0.0</td>\n",
       "      <td>0</td>\n",
       "      <td>78.059570</td>\n",
       "      <td>Paid</td>\n",
       "      <td>NoReviews</td>\n",
       "    </tr>\n",
       "    <tr>\n",
       "      <th>4</th>\n",
       "      <td>com.imonstersoft.azdictionaryios</td>\n",
       "      <td>A-Z Synonyms Dictionary</td>\n",
       "      <td>https://apps.apple.com/us/app/a-z-synonyms-dic...</td>\n",
       "      <td>Reference</td>\n",
       "      <td>Children</td>\n",
       "      <td>64692224.0</td>\n",
       "      <td>9.0</td>\n",
       "      <td>2020-12-16T08:00:00Z</td>\n",
       "      <td>2020-12-18T21:36:11Z</td>\n",
       "      <td>1.0.1</td>\n",
       "      <td>0.00</td>\n",
       "      <td>USD</td>\n",
       "      <td>656731821</td>\n",
       "      <td>Ngov chiheang</td>\n",
       "      <td>https://apps.apple.com/us/developer/ngov-chihe...</td>\n",
       "      <td>0</td>\n",
       "      <td>0</td>\n",
       "      <td>0.0</td>\n",
       "      <td>0</td>\n",
       "      <td>61.695312</td>\n",
       "      <td>Free</td>\n",
       "      <td>NoReviews</td>\n",
       "    </tr>\n",
       "  </tbody>\n",
       "</table>\n",
       "</div>"
      ],
      "text/plain": [
       "                             App_Id                 App_Name  \\\n",
       "0               com.hkbu.arc.apaper           A+ Paper Guide   \n",
       "1               com.dmitriev.abooks                  A-Books   \n",
       "2                    no.terp.abooks                  A-books   \n",
       "3          fr.antoinettefleur.Book1              A-F Book #1   \n",
       "4  com.imonstersoft.azdictionaryios  A-Z Synonyms Dictionary   \n",
       "\n",
       "                                        AppStore_Url Primary_Genre  \\\n",
       "0  https://apps.apple.com/us/app/a-paper-guide/id...     Education   \n",
       "1  https://apps.apple.com/us/app/a-books/id103157...          Book   \n",
       "2  https://apps.apple.com/us/app/a-books/id145702...          Book   \n",
       "3  https://apps.apple.com/us/app/a-f-book-1/id500...          Book   \n",
       "4  https://apps.apple.com/us/app/a-z-synonyms-dic...     Reference   \n",
       "\n",
       "  Content_Rating  Size_Bytes Required_IOS_Version              Released  \\\n",
       "0       Children  21993472.0                  8.0  2017-09-28T03:02:41Z   \n",
       "1       Children  13135872.0                 10.0  2015-08-31T19:31:32Z   \n",
       "2       Children  21943296.0                  9.0  2021-04-14T07:00:00Z   \n",
       "3       Children  81851392.0                  8.0  2012-02-10T03:40:07Z   \n",
       "4       Children  64692224.0                  9.0  2020-12-16T08:00:00Z   \n",
       "\n",
       "                Updated Version  Price Currency  DeveloperId       Developer  \\\n",
       "0  2018-12-21T21:30:36Z   1.1.2   0.00      USD   1375410542        HKBU ARC   \n",
       "1  2019-07-23T20:31:09Z     1.3   0.00      USD   1031572001  Roman Dmitriev   \n",
       "2  2021-05-30T21:08:54Z   1.3.1   0.00      USD   1457024163         Terp AS   \n",
       "3  2019-10-29T12:40:37Z     1.2   2.99      USD    439568839   i-editeur.com   \n",
       "4  2020-12-18T21:36:11Z   1.0.1   0.00      USD    656731821   Ngov chiheang   \n",
       "\n",
       "                                       Developer_Url  Average_User_Rating  \\\n",
       "0  https://apps.apple.com/us/developer/hkbu-arc/i...                    0   \n",
       "1  https://apps.apple.com/us/developer/roman-dmit...                    5   \n",
       "2  https://apps.apple.com/us/developer/terp-as/id...                    0   \n",
       "3  https://apps.apple.com/us/developer/i-editeur-...                    0   \n",
       "4  https://apps.apple.com/us/developer/ngov-chihe...                    0   \n",
       "\n",
       "   Reviews  Current_Version_Score  Current_Version_Reviews    Size_MB  Type  \\\n",
       "0        0                    0.0                        0  20.974609  Free   \n",
       "1        1                    5.0                        1  12.527344  Free   \n",
       "2        0                    0.0                        0  20.926758  Free   \n",
       "3        0                    0.0                        0  78.059570  Paid   \n",
       "4        0                    0.0                        0  61.695312  Free   \n",
       "\n",
       "  ReviewCategory  \n",
       "0      NoReviews  \n",
       "1  Less than 10K  \n",
       "2      NoReviews  \n",
       "3      NoReviews  \n",
       "4      NoReviews  "
      ]
     },
     "execution_count": 51,
     "metadata": {},
     "output_type": "execute_result"
    }
   ],
   "source": [
    "df.head()"
   ]
  },
  {
   "cell_type": "code",
   "execution_count": 52,
   "id": "1924ce99",
   "metadata": {},
   "outputs": [
    {
     "data": {
      "text/plain": [
       "array([0, 5, 3, 4, 2, 1])"
      ]
     },
     "execution_count": 52,
     "metadata": {},
     "output_type": "execute_result"
    }
   ],
   "source": [
    "df['Average_User_Rating'].unique()\n"
   ]
  },
  {
   "cell_type": "markdown",
   "id": "fc4798db",
   "metadata": {},
   "source": [
    "# 6.0 Questions:              \n",
    "> We are going to pose following questions against the dataset:\n",
    "1. What are the top 10 Categories that are installed from the Apple Store?\n",
    "2. In which years were the maximum number of apps released?\n",
    "3. What are the top 10 app Developers?\n",
    "4. What is the percentage distribution of Free and Paid Games based on their total number of reviews?\n",
    "5. Provide a year-on-year breakdown of the top 5 genres based on app price.\n",
    "6. Provide a year on year comparison of apps based on Content Rating\n",
    "7. How are app ratings affected by the price of the app?\n",
    "8. How many apps are there for each iOS version?\n",
    "9. What are the Top 5 Paid Apps based with highest ratings?\n",
    "10. What are the Top 5 Free Apps based with highest ratings?\n"
   ]
  },
  {
   "cell_type": "markdown",
   "id": "0a0a77a6",
   "metadata": {},
   "source": [
    "## Question 1. What are the top 10 Categories that are installed from the Apple Store ?"
   ]
  },
  {
   "cell_type": "code",
   "execution_count": 54,
   "id": "5aa06f8f",
   "metadata": {},
   "outputs": [],
   "source": [
    "#Using this library to ignore warnings\n",
    "import warnings\n",
    "warnings.filterwarnings('ignore')"
   ]
  },
  {
   "cell_type": "code",
   "execution_count": 105,
   "id": "a4b54811",
   "metadata": {},
   "outputs": [
    {
     "data": {
      "image/png": "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",
      "text/plain": [
       "<Figure size 1000x600 with 1 Axes>"
      ]
     },
     "metadata": {},
     "output_type": "display_data"
    }
   ],
   "source": [
    "top_10 = df['Primary_Genre'].value_counts().nlargest(10)\n",
    "\n",
    "plt.figure(figsize=(10, 6))\n",
    "sns.set(style=\"white\")  # Set the background style\n",
    "ax = sns.countplot(y='Primary_Genre', data=df,\n",
    "                order=top_10.index, palette='icefire',\n",
    "                edgecolor='black')\n",
    "\n",
    "# Adding annotations with counts in the middle of the bars\n",
    "for p, label in zip(ax.patches, top_10.values):\n",
    "    ax.annotate(f'{label}', (p.get_width() / 2, p.get_y() + p.get_height() / 2),\n",
    "                ha='center', va='center', color='white', fontsize=10, fontweight='bold')\n",
    "\n",
    "plt.title('Top 10 Categories',fontweight='bold',fontsize=18)\n",
    "plt.xlabel('Downloads',fontweight='bold',fontsize=12)\n",
    "plt.ylabel('Category',fontweight='bold',fontsize=12)\n",
    "plt.xticks(fontsize=12)  # Adjust x-axis label font size\n",
    "plt.yticks(fontsize=12)  # Adjust y-axis label font size\n",
    "plt.show()"
   ]
  },
  {
   "cell_type": "markdown",
   "id": "296a5aeb",
   "metadata": {},
   "source": [
    "> **Figure-3:** Shows the Top 10 Categories that are installed from the Apple Store "
   ]
  },
  {
   "cell_type": "markdown",
   "id": "a618f4b4",
   "metadata": {},
   "source": [
    "- **Answer 1:** Gaming Apps are the most downloaded apps from the store"
   ]
  },
  {
   "cell_type": "markdown",
   "id": "21f8fb5d",
   "metadata": {},
   "source": [
    "## Q2. In which years were the maximum number of apps released?"
   ]
  },
  {
   "cell_type": "code",
   "execution_count": 108,
   "id": "47699a93",
   "metadata": {},
   "outputs": [],
   "source": [
    "# df['Released'] = pd.to_datetime(df['Released']) # convert to datetime format\n",
    "# df['Year_Release'] = df['Released'].dt.strftime('%Y')\n",
    "# cnt_year_app_Release = df.groupby(['Year_Release']).size().reset_index(name='Count')\n",
    "# cnt_year_app_Release.head(20).sort_values(by='Count', ascending=False)\n"
   ]
  },
  {
   "cell_type": "code",
   "execution_count": 111,
   "id": "43f4e1bd",
   "metadata": {},
   "outputs": [
    {
     "data": {
      "image/png": "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",
      "text/plain": [
       "<Figure size 1400x800 with 1 Axes>"
      ]
     },
     "metadata": {},
     "output_type": "display_data"
    }
   ],
   "source": [
    "df['Released'] = pd.to_datetime(df['Released']) # convert to datetime format\n",
    "df['Year_Release'] = df['Released'].dt.strftime('%Y')\n",
    "cnt_year_app_Release = df.groupby(['Year_Release']).size().reset_index(name='Count')\n",
    "cnt_year_app_Release.head(20).sort_values(by='Count', ascending=False)\n",
    "\n",
    "plt.figure(figsize=(14, 8))\n",
    "sns.set(style=\"white\")  # Set the background style\n",
    "\n",
    "# Use a color gradient based on the count values\n",
    "colors = sns.color_palette('rocket_r', n_colors=len(cnt_year_app_Release))\n",
    "\n",
    "# Create a bar plot with customized colors\n",
    "ax = sns.barplot(x='Year_Release', y='Count', data=cnt_year_app_Release, palette=colors)\n",
    "\n",
    "# Adding annotations with counts on the bars\n",
    "for p, label in zip(ax.patches, cnt_year_app_Release['Count']):\n",
    "    ax.annotate(f'{label}', (p.get_x() + p.get_width() / 2, p.get_height()),\n",
    "                ha='center', va='bottom', color='black', fontsize=10, fontweight='bold')\n",
    "\n",
    "plt.title('Number of Apps Released Each Year', fontsize=16, fontweight='bold')\n",
    "plt.xlabel('Year of Release', fontsize=14,fontweight='bold')\n",
    "plt.ylabel('Count', fontsize=14,fontweight='bold')\n",
    "plt.xticks(rotation=45, ha='right', fontsize=12)\n",
    "plt.yticks(fontsize=12)\n",
    "plt.show()"
   ]
  },
  {
   "cell_type": "markdown",
   "id": "377926c3",
   "metadata": {},
   "source": [
    "> **Figure 4**: Shows that the maximum number of apps were released on the app store in the year 2020"
   ]
  },
  {
   "cell_type": "markdown",
   "id": "1d01b6b7",
   "metadata": {},
   "source": [
    "- **Answer 2:** In 2020, the app store experienced the highest number of app releases, likely due to the COVID-19 pandemic, which forced more people to stay at home during lockdowns."
   ]
  },
  {
   "cell_type": "markdown",
   "id": "561879e1",
   "metadata": {},
   "source": [
    "## Q3. What are the top 10 app Developers?"
   ]
  },
  {
   "cell_type": "code",
   "execution_count": 83,
   "id": "c4779717",
   "metadata": {},
   "outputs": [
    {
     "data": {
      "application/vnd.plotly.v1+json": {
       "config": {
        "plotlyServerURL": "https://plot.ly"
       },
       "data": [
        {
         "domain": {
          "x": [
           0,
           1
          ],
          "y": [
           0,
           1
          ]
         },
         "hole": 0.3,
         "hovertemplate": "%{label}: %{value} (%{percent})",
         "labels": [
          "ChowNow",
          "Touch2Success",
          "Alexander Velimirovic",
          "MINDBODY, Incorporated",
          "Phorest",
          "OFFLINE MAP TRIP GUIDE LTD",
          "Magzter Inc.",
          "ASK Video",
          "RAPID ACCELERATION INDIA PRIVATE LIMITED",
          "Nonlinear Educating Inc."
         ],
         "legendgroup": "",
         "name": "",
         "showlegend": true,
         "textfont": {
          "color": "white"
         },
         "type": "pie",
         "values": [
          3966,
          1649,
          1506,
          1247,
          1131,
          1022,
          928,
          781,
          733,
          555
         ]
        }
       ],
       "layout": {
        "legend": {
         "tracegroupgap": 0
        },
        "template": {
         "data": {
          "bar": [
           {
            "error_x": {
             "color": "#2a3f5f"
            },
            "error_y": {
             "color": "#2a3f5f"
            },
            "marker": {
             "line": {
              "color": "#E5ECF6",
              "width": 0.5
             },
             "pattern": {
              "fillmode": "overlay",
              "size": 10,
              "solidity": 0.2
             }
            },
            "type": "bar"
           }
          ],
          "barpolar": [
           {
            "marker": {
             "line": {
              "color": "#E5ECF6",
              "width": 0.5
             },
             "pattern": {
              "fillmode": "overlay",
              "size": 10,
              "solidity": 0.2
             }
            },
            "type": "barpolar"
           }
          ],
          "carpet": [
           {
            "aaxis": {
             "endlinecolor": "#2a3f5f",
             "gridcolor": "white",
             "linecolor": "white",
             "minorgridcolor": "white",
             "startlinecolor": "#2a3f5f"
            },
            "baxis": {
             "endlinecolor": "#2a3f5f",
             "gridcolor": "white",
             "linecolor": "white",
             "minorgridcolor": "white",
             "startlinecolor": "#2a3f5f"
            },
            "type": "carpet"
           }
          ],
          "choropleth": [
           {
            "colorbar": {
             "outlinewidth": 0,
             "ticks": ""
            },
            "type": "choropleth"
           }
          ],
          "contour": [
           {
            "colorbar": {
             "outlinewidth": 0,
             "ticks": ""
            },
            "colorscale": [
             [
              0,
              "#0d0887"
             ],
             [
              0.1111111111111111,
              "#46039f"
             ],
             [
              0.2222222222222222,
              "#7201a8"
             ],
             [
              0.3333333333333333,
              "#9c179e"
             ],
             [
              0.4444444444444444,
              "#bd3786"
             ],
             [
              0.5555555555555556,
              "#d8576b"
             ],
             [
              0.6666666666666666,
              "#ed7953"
             ],
             [
              0.7777777777777778,
              "#fb9f3a"
             ],
             [
              0.8888888888888888,
              "#fdca26"
             ],
             [
              1,
              "#f0f921"
             ]
            ],
            "type": "contour"
           }
          ],
          "contourcarpet": [
           {
            "colorbar": {
             "outlinewidth": 0,
             "ticks": ""
            },
            "type": "contourcarpet"
           }
          ],
          "heatmap": [
           {
            "colorbar": {
             "outlinewidth": 0,
             "ticks": ""
            },
            "colorscale": [
             [
              0,
              "#0d0887"
             ],
             [
              0.1111111111111111,
              "#46039f"
             ],
             [
              0.2222222222222222,
              "#7201a8"
             ],
             [
              0.3333333333333333,
              "#9c179e"
             ],
             [
              0.4444444444444444,
              "#bd3786"
             ],
             [
              0.5555555555555556,
              "#d8576b"
             ],
             [
              0.6666666666666666,
              "#ed7953"
             ],
             [
              0.7777777777777778,
              "#fb9f3a"
             ],
             [
              0.8888888888888888,
              "#fdca26"
             ],
             [
              1,
              "#f0f921"
             ]
            ],
            "type": "heatmap"
           }
          ],
          "heatmapgl": [
           {
            "colorbar": {
             "outlinewidth": 0,
             "ticks": ""
            },
            "colorscale": [
             [
              0,
              "#0d0887"
             ],
             [
              0.1111111111111111,
              "#46039f"
             ],
             [
              0.2222222222222222,
              "#7201a8"
             ],
             [
              0.3333333333333333,
              "#9c179e"
             ],
             [
              0.4444444444444444,
              "#bd3786"
             ],
             [
              0.5555555555555556,
              "#d8576b"
             ],
             [
              0.6666666666666666,
              "#ed7953"
             ],
             [
              0.7777777777777778,
              "#fb9f3a"
             ],
             [
              0.8888888888888888,
              "#fdca26"
             ],
             [
              1,
              "#f0f921"
             ]
            ],
            "type": "heatmapgl"
           }
          ],
          "histogram": [
           {
            "marker": {
             "pattern": {
              "fillmode": "overlay",
              "size": 10,
              "solidity": 0.2
             }
            },
            "type": "histogram"
           }
          ],
          "histogram2d": [
           {
            "colorbar": {
             "outlinewidth": 0,
             "ticks": ""
            },
            "colorscale": [
             [
              0,
              "#0d0887"
             ],
             [
              0.1111111111111111,
              "#46039f"
             ],
             [
              0.2222222222222222,
              "#7201a8"
             ],
             [
              0.3333333333333333,
              "#9c179e"
             ],
             [
              0.4444444444444444,
              "#bd3786"
             ],
             [
              0.5555555555555556,
              "#d8576b"
             ],
             [
              0.6666666666666666,
              "#ed7953"
             ],
             [
              0.7777777777777778,
              "#fb9f3a"
             ],
             [
              0.8888888888888888,
              "#fdca26"
             ],
             [
              1,
              "#f0f921"
             ]
            ],
            "type": "histogram2d"
           }
          ],
          "histogram2dcontour": [
           {
            "colorbar": {
             "outlinewidth": 0,
             "ticks": ""
            },
            "colorscale": [
             [
              0,
              "#0d0887"
             ],
             [
              0.1111111111111111,
              "#46039f"
             ],
             [
              0.2222222222222222,
              "#7201a8"
             ],
             [
              0.3333333333333333,
              "#9c179e"
             ],
             [
              0.4444444444444444,
              "#bd3786"
             ],
             [
              0.5555555555555556,
              "#d8576b"
             ],
             [
              0.6666666666666666,
              "#ed7953"
             ],
             [
              0.7777777777777778,
              "#fb9f3a"
             ],
             [
              0.8888888888888888,
              "#fdca26"
             ],
             [
              1,
              "#f0f921"
             ]
            ],
            "type": "histogram2dcontour"
           }
          ],
          "mesh3d": [
           {
            "colorbar": {
             "outlinewidth": 0,
             "ticks": ""
            },
            "type": "mesh3d"
           }
          ],
          "parcoords": [
           {
            "line": {
             "colorbar": {
              "outlinewidth": 0,
              "ticks": ""
             }
            },
            "type": "parcoords"
           }
          ],
          "pie": [
           {
            "automargin": true,
            "type": "pie"
           }
          ],
          "scatter": [
           {
            "fillpattern": {
             "fillmode": "overlay",
             "size": 10,
             "solidity": 0.2
            },
            "type": "scatter"
           }
          ],
          "scatter3d": [
           {
            "line": {
             "colorbar": {
              "outlinewidth": 0,
              "ticks": ""
             }
            },
            "marker": {
             "colorbar": {
              "outlinewidth": 0,
              "ticks": ""
             }
            },
            "type": "scatter3d"
           }
          ],
          "scattercarpet": [
           {
            "marker": {
             "colorbar": {
              "outlinewidth": 0,
              "ticks": ""
             }
            },
            "type": "scattercarpet"
           }
          ],
          "scattergeo": [
           {
            "marker": {
             "colorbar": {
              "outlinewidth": 0,
              "ticks": ""
             }
            },
            "type": "scattergeo"
           }
          ],
          "scattergl": [
           {
            "marker": {
             "colorbar": {
              "outlinewidth": 0,
              "ticks": ""
             }
            },
            "type": "scattergl"
           }
          ],
          "scattermapbox": [
           {
            "marker": {
             "colorbar": {
              "outlinewidth": 0,
              "ticks": ""
             }
            },
            "type": "scattermapbox"
           }
          ],
          "scatterpolar": [
           {
            "marker": {
             "colorbar": {
              "outlinewidth": 0,
              "ticks": ""
             }
            },
            "type": "scatterpolar"
           }
          ],
          "scatterpolargl": [
           {
            "marker": {
             "colorbar": {
              "outlinewidth": 0,
              "ticks": ""
             }
            },
            "type": "scatterpolargl"
           }
          ],
          "scatterternary": [
           {
            "marker": {
             "colorbar": {
              "outlinewidth": 0,
              "ticks": ""
             }
            },
            "type": "scatterternary"
           }
          ],
          "surface": [
           {
            "colorbar": {
             "outlinewidth": 0,
             "ticks": ""
            },
            "colorscale": [
             [
              0,
              "#0d0887"
             ],
             [
              0.1111111111111111,
              "#46039f"
             ],
             [
              0.2222222222222222,
              "#7201a8"
             ],
             [
              0.3333333333333333,
              "#9c179e"
             ],
             [
              0.4444444444444444,
              "#bd3786"
             ],
             [
              0.5555555555555556,
              "#d8576b"
             ],
             [
              0.6666666666666666,
              "#ed7953"
             ],
             [
              0.7777777777777778,
              "#fb9f3a"
             ],
             [
              0.8888888888888888,
              "#fdca26"
             ],
             [
              1,
              "#f0f921"
             ]
            ],
            "type": "surface"
           }
          ],
          "table": [
           {
            "cells": {
             "fill": {
              "color": "#EBF0F8"
             },
             "line": {
              "color": "white"
             }
            },
            "header": {
             "fill": {
              "color": "#C8D4E3"
             },
             "line": {
              "color": "white"
             }
            },
            "type": "table"
           }
          ]
         },
         "layout": {
          "annotationdefaults": {
           "arrowcolor": "#2a3f5f",
           "arrowhead": 0,
           "arrowwidth": 1
          },
          "autotypenumbers": "strict",
          "coloraxis": {
           "colorbar": {
            "outlinewidth": 0,
            "ticks": ""
           }
          },
          "colorscale": {
           "diverging": [
            [
             0,
             "#8e0152"
            ],
            [
             0.1,
             "#c51b7d"
            ],
            [
             0.2,
             "#de77ae"
            ],
            [
             0.3,
             "#f1b6da"
            ],
            [
             0.4,
             "#fde0ef"
            ],
            [
             0.5,
             "#f7f7f7"
            ],
            [
             0.6,
             "#e6f5d0"
            ],
            [
             0.7,
             "#b8e186"
            ],
            [
             0.8,
             "#7fbc41"
            ],
            [
             0.9,
             "#4d9221"
            ],
            [
             1,
             "#276419"
            ]
           ],
           "sequential": [
            [
             0,
             "#0d0887"
            ],
            [
             0.1111111111111111,
             "#46039f"
            ],
            [
             0.2222222222222222,
             "#7201a8"
            ],
            [
             0.3333333333333333,
             "#9c179e"
            ],
            [
             0.4444444444444444,
             "#bd3786"
            ],
            [
             0.5555555555555556,
             "#d8576b"
            ],
            [
             0.6666666666666666,
             "#ed7953"
            ],
            [
             0.7777777777777778,
             "#fb9f3a"
            ],
            [
             0.8888888888888888,
             "#fdca26"
            ],
            [
             1,
             "#f0f921"
            ]
           ],
           "sequentialminus": [
            [
             0,
             "#0d0887"
            ],
            [
             0.1111111111111111,
             "#46039f"
            ],
            [
             0.2222222222222222,
             "#7201a8"
            ],
            [
             0.3333333333333333,
             "#9c179e"
            ],
            [
             0.4444444444444444,
             "#bd3786"
            ],
            [
             0.5555555555555556,
             "#d8576b"
            ],
            [
             0.6666666666666666,
             "#ed7953"
            ],
            [
             0.7777777777777778,
             "#fb9f3a"
            ],
            [
             0.8888888888888888,
             "#fdca26"
            ],
            [
             1,
             "#f0f921"
            ]
           ]
          },
          "colorway": [
           "#636efa",
           "#EF553B",
           "#00cc96",
           "#ab63fa",
           "#FFA15A",
           "#19d3f3",
           "#FF6692",
           "#B6E880",
           "#FF97FF",
           "#FECB52"
          ],
          "font": {
           "color": "#2a3f5f"
          },
          "geo": {
           "bgcolor": "white",
           "lakecolor": "white",
           "landcolor": "#E5ECF6",
           "showlakes": true,
           "showland": true,
           "subunitcolor": "white"
          },
          "hoverlabel": {
           "align": "left"
          },
          "hovermode": "closest",
          "mapbox": {
           "style": "light"
          },
          "paper_bgcolor": "white",
          "plot_bgcolor": "#E5ECF6",
          "polar": {
           "angularaxis": {
            "gridcolor": "white",
            "linecolor": "white",
            "ticks": ""
           },
           "bgcolor": "#E5ECF6",
           "radialaxis": {
            "gridcolor": "white",
            "linecolor": "white",
            "ticks": ""
           }
          },
          "scene": {
           "xaxis": {
            "backgroundcolor": "#E5ECF6",
            "gridcolor": "white",
            "gridwidth": 2,
            "linecolor": "white",
            "showbackground": true,
            "ticks": "",
            "zerolinecolor": "white"
           },
           "yaxis": {
            "backgroundcolor": "#E5ECF6",
            "gridcolor": "white",
            "gridwidth": 2,
            "linecolor": "white",
            "showbackground": true,
            "ticks": "",
            "zerolinecolor": "white"
           },
           "zaxis": {
            "backgroundcolor": "#E5ECF6",
            "gridcolor": "white",
            "gridwidth": 2,
            "linecolor": "white",
            "showbackground": true,
            "ticks": "",
            "zerolinecolor": "white"
           }
          },
          "shapedefaults": {
           "line": {
            "color": "#2a3f5f"
           }
          },
          "ternary": {
           "aaxis": {
            "gridcolor": "white",
            "linecolor": "white",
            "ticks": ""
           },
           "baxis": {
            "gridcolor": "white",
            "linecolor": "white",
            "ticks": ""
           },
           "bgcolor": "#E5ECF6",
           "caxis": {
            "gridcolor": "white",
            "linecolor": "white",
            "ticks": ""
           }
          },
          "title": {
           "x": 0.05
          },
          "xaxis": {
           "automargin": true,
           "gridcolor": "white",
           "linecolor": "white",
           "ticks": "",
           "title": {
            "standoff": 15
           },
           "zerolinecolor": "white",
           "zerolinewidth": 2
          },
          "yaxis": {
           "automargin": true,
           "gridcolor": "white",
           "linecolor": "white",
           "ticks": "",
           "title": {
            "standoff": 15
           },
           "zerolinecolor": "white",
           "zerolinewidth": 2
          }
         }
        },
        "title": {
         "font": {
          "color": "black",
          "family": "Arial",
          "size": 20
         },
         "text": "Top 10 Developers",
         "x": 0.5,
         "y": 0.95
        }
       }
      },
      "text/html": [
       "<div>                            <div id=\"ec125a2e-f93d-443e-ab8d-7e11a78aa546\" class=\"plotly-graph-div\" style=\"height:525px; width:100%;\"></div>            <script type=\"text/javascript\">                require([\"plotly\"], function(Plotly) {                    window.PLOTLYENV=window.PLOTLYENV || {};                                    if (document.getElementById(\"ec125a2e-f93d-443e-ab8d-7e11a78aa546\")) {                    Plotly.newPlot(                        \"ec125a2e-f93d-443e-ab8d-7e11a78aa546\",                        [{\"domain\":{\"x\":[0.0,1.0],\"y\":[0.0,1.0]},\"hole\":0.3,\"hovertemplate\":\"%{label}: %{value} (%{percent})\",\"labels\":[\"ChowNow\",\"Touch2Success\",\"Alexander Velimirovic\",\"MINDBODY, Incorporated\",\"Phorest\",\"OFFLINE MAP TRIP GUIDE LTD\",\"Magzter Inc.\",\"ASK Video\",\"RAPID ACCELERATION INDIA PRIVATE LIMITED\",\"Nonlinear Educating Inc.\"],\"legendgroup\":\"\",\"name\":\"\",\"showlegend\":true,\"values\":[3966,1649,1506,1247,1131,1022,928,781,733,555],\"type\":\"pie\",\"textfont\":{\"color\":\"white\"}}],                        {\"template\":{\"data\":{\"histogram2dcontour\":[{\"type\":\"histogram2dcontour\",\"colorbar\":{\"outlinewidth\":0,\"ticks\":\"\"},\"colorscale\":[[0.0,\"#0d0887\"],[0.1111111111111111,\"#46039f\"],[0.2222222222222222,\"#7201a8\"],[0.3333333333333333,\"#9c179e\"],[0.4444444444444444,\"#bd3786\"],[0.5555555555555556,\"#d8576b\"],[0.6666666666666666,\"#ed7953\"],[0.7777777777777778,\"#fb9f3a\"],[0.8888888888888888,\"#fdca26\"],[1.0,\"#f0f921\"]]}],\"choropleth\":[{\"type\":\"choropleth\",\"colorbar\":{\"outlinewidth\":0,\"ticks\":\"\"}}],\"histogram2d\":[{\"type\":\"histogram2d\",\"colorbar\":{\"outlinewidth\":0,\"ticks\":\"\"},\"colorscale\":[[0.0,\"#0d0887\"],[0.1111111111111111,\"#46039f\"],[0.2222222222222222,\"#7201a8\"],[0.3333333333333333,\"#9c179e\"],[0.4444444444444444,\"#bd3786\"],[0.5555555555555556,\"#d8576b\"],[0.6666666666666666,\"#ed7953\"],[0.7777777777777778,\"#fb9f3a\"],[0.8888888888888888,\"#fdca26\"],[1.0,\"#f0f921\"]]}],\"heatmap\":[{\"type\":\"heatmap\",\"colorbar\":{\"outlinewidth\":0,\"ticks\":\"\"},\"colorscale\":[[0.0,\"#0d0887\"],[0.1111111111111111,\"#46039f\"],[0.2222222222222222,\"#7201a8\"],[0.3333333333333333,\"#9c179e\"],[0.4444444444444444,\"#bd3786\"],[0.5555555555555556,\"#d8576b\"],[0.6666666666666666,\"#ed7953\"],[0.7777777777777778,\"#fb9f3a\"],[0.8888888888888888,\"#fdca26\"],[1.0,\"#f0f921\"]]}],\"heatmapgl\":[{\"type\":\"heatmapgl\",\"colorbar\":{\"outlinewidth\":0,\"ticks\":\"\"},\"colorscale\":[[0.0,\"#0d0887\"],[0.1111111111111111,\"#46039f\"],[0.2222222222222222,\"#7201a8\"],[0.3333333333333333,\"#9c179e\"],[0.4444444444444444,\"#bd3786\"],[0.5555555555555556,\"#d8576b\"],[0.6666666666666666,\"#ed7953\"],[0.7777777777777778,\"#fb9f3a\"],[0.8888888888888888,\"#fdca26\"],[1.0,\"#f0f921\"]]}],\"contourcarpet\":[{\"type\":\"contourcarpet\",\"colorbar\":{\"outlinewidth\":0,\"ticks\":\"\"}}],\"contour\":[{\"type\":\"contour\",\"colorbar\":{\"outlinewidth\":0,\"ticks\":\"\"},\"colorscale\":[[0.0,\"#0d0887\"],[0.1111111111111111,\"#46039f\"],[0.2222222222222222,\"#7201a8\"],[0.3333333333333333,\"#9c179e\"],[0.4444444444444444,\"#bd3786\"],[0.5555555555555556,\"#d8576b\"],[0.6666666666666666,\"#ed7953\"],[0.7777777777777778,\"#fb9f3a\"],[0.8888888888888888,\"#fdca26\"],[1.0,\"#f0f921\"]]}],\"surface\":[{\"type\":\"surface\",\"colorbar\":{\"outlinewidth\":0,\"ticks\":\"\"},\"colorscale\":[[0.0,\"#0d0887\"],[0.1111111111111111,\"#46039f\"],[0.2222222222222222,\"#7201a8\"],[0.3333333333333333,\"#9c179e\"],[0.4444444444444444,\"#bd3786\"],[0.5555555555555556,\"#d8576b\"],[0.6666666666666666,\"#ed7953\"],[0.7777777777777778,\"#fb9f3a\"],[0.8888888888888888,\"#fdca26\"],[1.0,\"#f0f921\"]]}],\"mesh3d\":[{\"type\":\"mesh3d\",\"colorbar\":{\"outlinewidth\":0,\"ticks\":\"\"}}],\"scatter\":[{\"fillpattern\":{\"fillmode\":\"overlay\",\"size\":10,\"solidity\":0.2},\"type\":\"scatter\"}],\"parcoords\":[{\"type\":\"parcoords\",\"line\":{\"colorbar\":{\"outlinewidth\":0,\"ticks\":\"\"}}}],\"scatterpolargl\":[{\"type\":\"scatterpolargl\",\"marker\":{\"colorbar\":{\"outlinewidth\":0,\"ticks\":\"\"}}}],\"bar\":[{\"error_x\":{\"color\":\"#2a3f5f\"},\"error_y\":{\"color\":\"#2a3f5f\"},\"marker\":{\"line\":{\"color\":\"#E5ECF6\",\"width\":0.5},\"pattern\":{\"fillmode\":\"overlay\",\"size\":10,\"solidity\":0.2}},\"type\":\"bar\"}],\"scattergeo\":[{\"type\":\"scattergeo\",\"marker\":{\"colorbar\":{\"outlinewidth\":0,\"ticks\":\"\"}}}],\"scatterpolar\":[{\"type\":\"scatterpolar\",\"marker\":{\"colorbar\":{\"outlinewidth\":0,\"ticks\":\"\"}}}],\"histogram\":[{\"marker\":{\"pattern\":{\"fillmode\":\"overlay\",\"size\":10,\"solidity\":0.2}},\"type\":\"histogram\"}],\"scattergl\":[{\"type\":\"scattergl\",\"marker\":{\"colorbar\":{\"outlinewidth\":0,\"ticks\":\"\"}}}],\"scatter3d\":[{\"type\":\"scatter3d\",\"line\":{\"colorbar\":{\"outlinewidth\":0,\"ticks\":\"\"}},\"marker\":{\"colorbar\":{\"outlinewidth\":0,\"ticks\":\"\"}}}],\"scattermapbox\":[{\"type\":\"scattermapbox\",\"marker\":{\"colorbar\":{\"outlinewidth\":0,\"ticks\":\"\"}}}],\"scatterternary\":[{\"type\":\"scatterternary\",\"marker\":{\"colorbar\":{\"outlinewidth\":0,\"ticks\":\"\"}}}],\"scattercarpet\":[{\"type\":\"scattercarpet\",\"marker\":{\"colorbar\":{\"outlinewidth\":0,\"ticks\":\"\"}}}],\"carpet\":[{\"aaxis\":{\"endlinecolor\":\"#2a3f5f\",\"gridcolor\":\"white\",\"linecolor\":\"white\",\"minorgridcolor\":\"white\",\"startlinecolor\":\"#2a3f5f\"},\"baxis\":{\"endlinecolor\":\"#2a3f5f\",\"gridcolor\":\"white\",\"linecolor\":\"white\",\"minorgridcolor\":\"white\",\"startlinecolor\":\"#2a3f5f\"},\"type\":\"carpet\"}],\"table\":[{\"cells\":{\"fill\":{\"color\":\"#EBF0F8\"},\"line\":{\"color\":\"white\"}},\"header\":{\"fill\":{\"color\":\"#C8D4E3\"},\"line\":{\"color\":\"white\"}},\"type\":\"table\"}],\"barpolar\":[{\"marker\":{\"line\":{\"color\":\"#E5ECF6\",\"width\":0.5},\"pattern\":{\"fillmode\":\"overlay\",\"size\":10,\"solidity\":0.2}},\"type\":\"barpolar\"}],\"pie\":[{\"automargin\":true,\"type\":\"pie\"}]},\"layout\":{\"autotypenumbers\":\"strict\",\"colorway\":[\"#636efa\",\"#EF553B\",\"#00cc96\",\"#ab63fa\",\"#FFA15A\",\"#19d3f3\",\"#FF6692\",\"#B6E880\",\"#FF97FF\",\"#FECB52\"],\"font\":{\"color\":\"#2a3f5f\"},\"hovermode\":\"closest\",\"hoverlabel\":{\"align\":\"left\"},\"paper_bgcolor\":\"white\",\"plot_bgcolor\":\"#E5ECF6\",\"polar\":{\"bgcolor\":\"#E5ECF6\",\"angularaxis\":{\"gridcolor\":\"white\",\"linecolor\":\"white\",\"ticks\":\"\"},\"radialaxis\":{\"gridcolor\":\"white\",\"linecolor\":\"white\",\"ticks\":\"\"}},\"ternary\":{\"bgcolor\":\"#E5ECF6\",\"aaxis\":{\"gridcolor\":\"white\",\"linecolor\":\"white\",\"ticks\":\"\"},\"baxis\":{\"gridcolor\":\"white\",\"linecolor\":\"white\",\"ticks\":\"\"},\"caxis\":{\"gridcolor\":\"white\",\"linecolor\":\"white\",\"ticks\":\"\"}},\"coloraxis\":{\"colorbar\":{\"outlinewidth\":0,\"ticks\":\"\"}},\"colorscale\":{\"sequential\":[[0.0,\"#0d0887\"],[0.1111111111111111,\"#46039f\"],[0.2222222222222222,\"#7201a8\"],[0.3333333333333333,\"#9c179e\"],[0.4444444444444444,\"#bd3786\"],[0.5555555555555556,\"#d8576b\"],[0.6666666666666666,\"#ed7953\"],[0.7777777777777778,\"#fb9f3a\"],[0.8888888888888888,\"#fdca26\"],[1.0,\"#f0f921\"]],\"sequentialminus\":[[0.0,\"#0d0887\"],[0.1111111111111111,\"#46039f\"],[0.2222222222222222,\"#7201a8\"],[0.3333333333333333,\"#9c179e\"],[0.4444444444444444,\"#bd3786\"],[0.5555555555555556,\"#d8576b\"],[0.6666666666666666,\"#ed7953\"],[0.7777777777777778,\"#fb9f3a\"],[0.8888888888888888,\"#fdca26\"],[1.0,\"#f0f921\"]],\"diverging\":[[0,\"#8e0152\"],[0.1,\"#c51b7d\"],[0.2,\"#de77ae\"],[0.3,\"#f1b6da\"],[0.4,\"#fde0ef\"],[0.5,\"#f7f7f7\"],[0.6,\"#e6f5d0\"],[0.7,\"#b8e186\"],[0.8,\"#7fbc41\"],[0.9,\"#4d9221\"],[1,\"#276419\"]]},\"xaxis\":{\"gridcolor\":\"white\",\"linecolor\":\"white\",\"ticks\":\"\",\"title\":{\"standoff\":15},\"zerolinecolor\":\"white\",\"automargin\":true,\"zerolinewidth\":2},\"yaxis\":{\"gridcolor\":\"white\",\"linecolor\":\"white\",\"ticks\":\"\",\"title\":{\"standoff\":15},\"zerolinecolor\":\"white\",\"automargin\":true,\"zerolinewidth\":2},\"scene\":{\"xaxis\":{\"backgroundcolor\":\"#E5ECF6\",\"gridcolor\":\"white\",\"linecolor\":\"white\",\"showbackground\":true,\"ticks\":\"\",\"zerolinecolor\":\"white\",\"gridwidth\":2},\"yaxis\":{\"backgroundcolor\":\"#E5ECF6\",\"gridcolor\":\"white\",\"linecolor\":\"white\",\"showbackground\":true,\"ticks\":\"\",\"zerolinecolor\":\"white\",\"gridwidth\":2},\"zaxis\":{\"backgroundcolor\":\"#E5ECF6\",\"gridcolor\":\"white\",\"linecolor\":\"white\",\"showbackground\":true,\"ticks\":\"\",\"zerolinecolor\":\"white\",\"gridwidth\":2}},\"shapedefaults\":{\"line\":{\"color\":\"#2a3f5f\"}},\"annotationdefaults\":{\"arrowcolor\":\"#2a3f5f\",\"arrowhead\":0,\"arrowwidth\":1},\"geo\":{\"bgcolor\":\"white\",\"landcolor\":\"#E5ECF6\",\"subunitcolor\":\"white\",\"showland\":true,\"showlakes\":true,\"lakecolor\":\"white\"},\"title\":{\"x\":0.05},\"mapbox\":{\"style\":\"light\"}}},\"legend\":{\"tracegroupgap\":0},\"title\":{\"text\":\"Top 10 Developers\",\"font\":{\"size\":20,\"family\":\"Arial\",\"color\":\"black\"},\"x\":0.5,\"y\":0.95}},                        {\"responsive\": true}                    ).then(function(){\n",
       "                            \n",
       "var gd = document.getElementById('ec125a2e-f93d-443e-ab8d-7e11a78aa546');\n",
       "var x = new MutationObserver(function (mutations, observer) {{\n",
       "        var display = window.getComputedStyle(gd).display;\n",
       "        if (!display || display === 'none') {{\n",
       "            console.log([gd, 'removed!']);\n",
       "            Plotly.purge(gd);\n",
       "            observer.disconnect();\n",
       "        }}\n",
       "}});\n",
       "\n",
       "// Listen for the removal of the full notebook cells\n",
       "var notebookContainer = gd.closest('#notebook-container');\n",
       "if (notebookContainer) {{\n",
       "    x.observe(notebookContainer, {childList: true});\n",
       "}}\n",
       "\n",
       "// Listen for the clearing of the current output cell\n",
       "var outputEl = gd.closest('.output');\n",
       "if (outputEl) {{\n",
       "    x.observe(outputEl, {childList: true});\n",
       "}}\n",
       "\n",
       "                        })                };                });            </script>        </div>"
      ]
     },
     "metadata": {},
     "output_type": "display_data"
    }
   ],
   "source": [
    "# Grouping data\n",
    "top_dev_appc = df.groupby([df.Developer])['App_Name'].count().reset_index().sort_values(by='App_Name', ascending=False)\n",
    "top_dev_appc.columns = ['Developer', 'App Count']\n",
    "\n",
    "# Selecting top 10 developers\n",
    "top_dev_appc_top10 = top_dev_appc.head(10)\n",
    "\n",
    "# Creating the pie chart\n",
    "fig = px.pie(top_dev_appc_top10, values='App Count', names='Developer', title='Top 10 Developers', hole=.3)\n",
    "\n",
    "# Customizing hover template\n",
    "fig.update_traces(hovertemplate='%{label}: %{value} (%{percent})')\n",
    "\n",
    "# Set text color to white for all slices\n",
    "fig.update_traces(textfont_color='white')\n",
    "\n",
    "# Adjusting layout to allow more space for text\n",
    "fig.update_layout(\n",
    "    title={'text': 'Top 10 Developers', 'font': {'size': 20, 'family': 'Arial', 'color': 'black'}, 'x': 0.5, 'y': 0.95}\n",
    ")\n",
    "fig.show()\n"
   ]
  },
  {
   "cell_type": "markdown",
   "id": "9a795b39",
   "metadata": {},
   "source": [
    "> **Figure 6:** A pie chart showing which Developer or company has highest app development contribution to the app store"
   ]
  },
  {
   "cell_type": "markdown",
   "id": "a9487ed0",
   "metadata": {},
   "source": [
    "- **Answer 3:** \n",
    "    1. ChowNow\n",
    "    2. Touch2Success\n",
    "    3. Alexander Velimirovic\n",
    "    4. MINDBODY, Incorporated\n",
    "    5. Phorest\n",
    "    6. OFFLINE MAP TRIP GUIDE LTD\n",
    "    7. Magzter Inc.\n",
    "    8. ASK Video\n",
    "    9. RAPID ACCELERATION INDIA PRIVATE LIMITED\n",
    "    10. Nonlinear Educating Inc.\n"
   ]
  },
  {
   "cell_type": "markdown",
   "id": "c3773f95",
   "metadata": {},
   "source": [
    "## Q4. What is the percentage distribution of Free and Paid Games based on their total number of reviews?"
   ]
  },
  {
   "cell_type": "code",
   "execution_count": 121,
   "id": "56b1601e",
   "metadata": {},
   "outputs": [
    {
     "name": "stdout",
     "output_type": "stream",
     "text": [
      "No of Free games: \n",
      " 177827\n",
      "No of Paid games: \n",
      " 15919\n"
     ]
    },
    {
     "data": {
      "image/png": "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",
      "text/plain": [
       "<Figure size 700x700 with 1 Axes>"
      ]
     },
     "metadata": {},
     "output_type": "display_data"
    }
   ],
   "source": [
    "# Top Free games\n",
    "Free_games = df[(df['Primary_Genre'] == 'Games') & (df['Type'] == 'Free')].sort_values(by='Reviews', ascending=False)\n",
    "# Top Paid Games\n",
    "Paid_games = df[(df['Primary_Genre'] == 'Games') & (df['Type'] == 'Paid')].sort_values(by='Reviews', ascending=False)\n",
    "\n",
    "print(\"No of Free games: \\n\",\"177827\" ) #print(df[(df['Primary_Genre'] == 'Games') & (df['Type'] == 'Free')].value_counts())\n",
    "print(\"No of Paid games: \\n\", \"15919\") #print(df[(df['Primary_Genre'] == 'Games') & (df['Type'] == 'Paid')].value_counts())\n",
    "\n",
    "\n",
    "plt.figure(figsize=(7,7))\n",
    "labels = 'Free', 'Paid'\n",
    "sizes = [177827, 15919] \n",
    "colors = [\"#9370DB\", \"#D8BFD8\"]\n",
    "explode = (0.2,0)\n",
    "\n",
    "plt.pie(sizes, \n",
    "        explode=explode, \n",
    "        labels=labels, \n",
    "        colors=colors, \n",
    "        autopct='%1.1f%%', \n",
    "        shadow=True, startangle=45)\n",
    "plt.title('Free Vs Paid Games',size = 15,loc='center')\n",
    "plt.show()"
   ]
  },
  {
   "cell_type": "markdown",
   "id": "d0f1166f",
   "metadata": {},
   "source": [
    "> **Figure 7**: Shows the Distribution of Free & Paid Games."
   ]
  },
  {
   "cell_type": "markdown",
   "id": "5c5005ff",
   "metadata": {},
   "source": [
    "**Answer 4:** Based on the total number of reviews, the distribution of Free and Paid Games is as follows:\n",
    "\n",
    "- Free Games: 91.8%\n",
    "- Paid Games: 8.2%\n",
    "\n",
    "This distribution highlights that the majority of the games in the dataset are free, comprising 91.8% of the total, while paid games account for the remaining 8.2%."
   ]
  },
  {
   "cell_type": "markdown",
   "id": "43b6e809",
   "metadata": {},
   "source": [
    "## Question 5: Provide a year-on-year breakdown of the top 5 genres based on app price."
   ]
  },
  {
   "cell_type": "code",
   "execution_count": 125,
   "id": "a968f7ba",
   "metadata": {},
   "outputs": [
    {
     "data": {
      "image/png": "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",
      "text/plain": [
       "<Figure size 640x480 with 1 Axes>"
      ]
     },
     "metadata": {},
     "output_type": "display_data"
    }
   ],
   "source": [
    "Rev_per_Genre = df.groupby(['Year_Release','Primary_Genre' ])[['Price']].sum()\n",
    "\n",
    "\n",
    "top5_genres = (Rev_per_Genre.sort_values(['Year_Release', 'Price'], ascending=[True, False]).groupby('Year_Release').head())\n",
    "\n",
    "# Define a colormap: To present each category with a different color \n",
    "cmap = plt.get_cmap('rocket_r')\n",
    "\n",
    "\n",
    "# Group by year and primary genre, and plot a stacked bar chart\n",
    "top5_genres.groupby(['Year_Release', 'Primary_Genre'])['Price'].sum().unstack().plot(kind='bar', stacked=True, cmap=cmap)\n",
    "\n",
    "# Customize the plot\n",
    "plt.title('Year on Year break down of top-5 Genre based on App Price')\n",
    "plt.xlabel('Year')\n",
    "plt.ylabel('Total Price')\n",
    "plt.legend(title='Primary Genre', bbox_to_anchor=(1.05, 1), loc='upper left')\n",
    "plt.show()\n"
   ]
  },
  {
   "cell_type": "markdown",
   "id": "8312384e",
   "metadata": {},
   "source": [
    "> **Figure 8:** Shows the Year on Year break down of top-5 Genre based on App Price "
   ]
  },
  {
   "cell_type": "markdown",
   "id": "239dc9a3",
   "metadata": {},
   "source": [
    "- **Answer 5:** Educational apps clearly contribute significantly more revenue in terms of app sales."
   ]
  },
  {
   "cell_type": "markdown",
   "id": "3ce5fe78",
   "metadata": {},
   "source": [
    "## Question 6. Provide a year on year comparison of apps based on Content Rating"
   ]
  },
  {
   "cell_type": "code",
   "execution_count": 67,
   "id": "b8aa89c2",
   "metadata": {},
   "outputs": [
    {
     "data": {
      "text/plain": [
       "<Axes: xlabel='Year_Release'>"
      ]
     },
     "execution_count": 67,
     "metadata": {},
     "output_type": "execute_result"
    },
    {
     "data": {
      "image/png": "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",
      "text/plain": [
       "<Figure size 640x480 with 1 Axes>"
      ]
     },
     "metadata": {},
     "output_type": "display_data"
    }
   ],
   "source": [
    "cnt_YoY = df.groupby(['Year_Release', 'Content_Rating', 'Primary_Genre']).size().reset_index(name='Count')\n",
    "#cnt_year_app_Release.head(10).sort_values(by='Count', ascending=False)\n",
    "\n",
    "cnt_YoY.groupby(['Year_Release', 'Content_Rating'])['Count'].sum().unstack().plot(kind='bar', stacked=True,color=sns.color_palette('rocket_r'))"
   ]
  },
  {
   "cell_type": "markdown",
   "id": "5abf7271",
   "metadata": {},
   "source": [
    "> **Figure 9:** Engagement levels of different age groups as categorized by the App Store."
   ]
  },
  {
   "cell_type": "markdown",
   "id": "932b5f06",
   "metadata": {},
   "source": [
    "- **Answer 6:** Clearly the Children category is taking the lead. However as pointed out earlier the content rating of non-kids app are also rated under children caegories"
   ]
  },
  {
   "cell_type": "markdown",
   "id": "bae8f005",
   "metadata": {},
   "source": [
    "## Question 7.  How are app ratings affected by the price of the app?\n"
   ]
  },
  {
   "cell_type": "code",
   "execution_count": 68,
   "id": "0bf96b4f",
   "metadata": {},
   "outputs": [
    {
     "data": {
      "text/plain": [
       "<Axes: xlabel='Year_Release'>"
      ]
     },
     "execution_count": 68,
     "metadata": {},
     "output_type": "execute_result"
    },
    {
     "data": {
      "image/png": "iVBORw0KGgoAAAANSUhEUgAAAjsAAAHKCAYAAADl8Ip6AAAAOXRFWHRTb2Z0d2FyZQBNYXRwbG90bGliIHZlcnNpb24zLjcuMSwgaHR0cHM6Ly9tYXRwbG90bGliLm9yZy/bCgiHAAAACXBIWXMAAA9hAAAPYQGoP6dpAABfk0lEQVR4nO3deVhU1f8H8PcMOwIKKAypKYKAqKgorrmRoplaYN8sxQW1ME1Swy1XNExF3HNFXBJzwzUplzbNhIRMK8MVUVQcFBBF9rm/P/gxNaHmbMxlfL+ex+dp7r3n3I+Dzby599xzJIIgCCAiIiIyUlJDF0BERESkTww7REREZNQYdoiIiMioMewQERGRUWPYISIiIqPGsENERERGjWGHiIiIjBrDDhERERk1U0MXIAZt2rRBcXEx6tSpY+hSiIiI6DllZWXB3NwcycnJzzxOrSs7SUlJ8PT0fOKfV199FQCQkZGB0NBQ+Pr64pVXXsGyZctQVlam0k9cXBxeffVV+Pj4YNCgQbhw4YLKfl30oY6ioiKUlpZq3J6IiIiqXmlpKYqKiv7zOLWu7LRq1Qo//fSTyrbffvsN48aNw5gxY1BSUoKRI0eiYcOG2LFjB27cuIHp06dDKpUiLCwMALBv3z4sWrQI8+bNg7e3N9avX4+QkBB8/fXXcHBw0Ekf6nJycgIAfPvtt2q3JSIiIsOouNDynwQt5OfnC927dxemTp0qCIIgHDp0SGjWrJmQm5urPGbHjh2Cr6+vUFRUJAiCIAQEBAiLFi1S7i8pKRG6du0qrF27Vmd9qMvf31/w9/fXqC0REREZxvN+f2s1QHnt2rUoKCjAlClTAADJyclo2rQpatasqTymffv2ePToEf766y/cv38f169fR4cOHZT7TU1N0aZNG5w5c0ZnfRARERFV0DjsZGdnY/PmzRg9ejRq1aoFAMjMzIRMJlM5ruIW0Z07d5CZmQkAcHFxqXRMxT5d9EFERERUQeOws337dtja2mLgwIHKbYWFhTA3N1c5zsLCAkD5IOCCggIAeOIxFQOMdNEHERERUQWNw87+/fvx5ptvwtLSUrnN0tISxcXFKsdVBBBra2vlsU86xsrKSmd9EBEREVXQaJ6d1NRU3Lx5E/369VPZLpPJcOnSJZVtcrkcAODs7Ky89SSXy+Hm5qZyjLOzs8760BdBEFBWVsbH1KlaMDMzg4mJiaHLICIyOI3CTnJyMhwdHeHl5aWy3c/PD/v378ejR49gY2MDAEhMTESNGjXg5eUFc3NzuLq6IikpSTnAuLS0FMnJyRg0aJDO+tA1QRCQm5uLrKysSvP9EIlZrVq1IJPJIJFIDF0KEZHBaBR2Lly4AE9Pz0rbe/TogWXLlmH8+PEIDw9HRkYGlixZghEjRijH2IwYMQKRkZFo0KABmjdvjvXr16OwsBBvvfWWzvrQtczMTOTm5sLOzg52dnYwNTXllweJmiAIePz4sfKq6L8H9BMRvUg0CjtZWVnKJ7D+ycLCAjExMYiIiMDbb7+NmjVrYtCgQRgzZozymLfffhsPHz7EsmXLkJubi2bNmmHTpk3KyQB10YculZWV4cGDB6hTpw5q166t8/6J9KViDJtcLoeTkxNvaRHRC0siCIJg6CIMrWIGxifNoFxYWIi0tDQ0bNiQA6Cp2ikoKMD169fh6uqq8jABEZExeNb39z9x1fPnxNtWVB3x3y0REcMOERERGTmGHaIqwjvGRESGwbCjBx9//DE8PT0RGxtr6FIMburUqfD393/q/iFDhmDIkCFVWNGzJSUlwdPTs9KfZs2aoUuXLpg8eTKysrLU6rO4uBjz58/HoUOHlNv+630hIiLd0ehpLHq6hw8f4vjx4/Dw8MDOnTsREhLCcRPV0KxZs9C0aVPl6/z8fKSkpGD9+vVIS0vD7t27n7svuVyOLVu24LPPPlNuGzNmDIYOHarTmomI6MkYdnTsq6++AgBMnz4dw4YNQ2JiosoK7VQ9uLu7o2XLlirbOnXqhOLiYmzYsAFXrlyBu7u7xv2//PLLWlZIRETPi7exdCw+Ph4dOnRA+/bt0aBBA+zYsUO5b8SIEQgKCqrUZsyYMejfv7/ydXJyMoKDg9GiRQu0bdsWU6ZMQXZ2tnL/3r174e3tjd27d6NTp05o27Ytrly5grKyMqxfvx59+/aFj48PWrZsiXfeeQeJiYkq5/vhhx8QFBQEHx8f9OrVC1999RV69uyJlStXKo/Jzc3FrFmz0LFjRzRv3hxvv/02Tp8+rcu36olu3LiB0aNHo127dmjRogUGDhyIH3/8UeWYS5cuITQ0FL6+vvD19cXYsWNx8+ZN5f6KW1E7duxA9+7d4evri1OnTumkPjs7OwCqTzkdP34cgwYNQqtWrdCsWTP07t0bcXFxAICMjAzlo5HTpk1T3rr6920sf39/rFixAgsXLkTHjh3h4+ODkSNH4vr16yrn37dvH/r06YPmzZujf//+OH36NLy9vbF3716d/P2ISDcUCoVB25MqXtnRocuXL+P333/H8uXLAQBvvvkmVq9ejXv37qF27dro378/pkyZgvT0dDRo0AAAkJeXhxMnTmDChAkAgDNnziAkJATt27fHsmXL8ODBAyxfvhxDhw7Fnj17lHOllJWVITY2FpGRkcjJyYGbmxsWLVqEL7/8Ujlm6O7du/j888/x0Ucf4YcffoCVlRUSExMxZswYdO/eHR999BHS09Mxe/ZslRXji4qKMGzYMNy7dw8TJkyAk5MT4uPjMWrUKMTExOjtSpVCoUBoaCicnJywaNEimJqaYuvWrfjggw/w9ddfo0GDBkhLS8M777yDRo0aYeHChSgtLcWaNWvw7rvv4sCBA3B0dFT2t2rVKsyYMQOFhYVo1aqV2rX8cw20R48e4ZdffsHGjRvh4+MDV1dXAOXBcezYsRg6dCjGjRuHwsJCbN++HXPnzkWzZs3QpEkTrFq1Ch9++CE++OADBAQEPPWcW7duRevWrfHZZ5/hwYMHiIyMxJQpU7Bz504A5YvvTp06Ff/73/8wbdo0nD9/HmPGjOESJkQiJJVKcXTnOuTI76jd1t7JBQEDQ/VQ1YuLYUeH4uPjUatWLeVv7IGBgVi5ciX27NmD0aNHIyAgABEREfjqq68wduxYAMDRo0dRVlaGvn37AgCio6Ph6uqKdevWKWe8bdGiBV5//XXEx8dj8ODByvONHj0a3bp1U76Wy+WYMGGCyoBfCwsLjBs3DhcvXkTLli2xcuVKNG7cGKtWrVJenXB0dMTEiROVbQ4cOIDU1FTs2rULLVq0AAB06dIFQ4YMweLFixEfH6+Hdw+4f/8+rl27hjFjxqBr164AAB8fH6xatUq5yv2qVatgZWWFzZs3K9dO69ChA3r06IGYmBhMmTJF2d+gQYPQu3dvjWoZPnx4pW01a9bEq6++ikmTJkEqLb8oeuXKFQQGBmL69OnK41q1aoV27dohKSkJLVq0QJMmTQCU37ry9vZ+6jnt7OywevVq5c/9xo0bWLlyJXJycmBvb4/ly5eje/fu+PTTTwEAnTt3hpmZGaKjozX6OxKRfuXI7yDrdrqhyyDwNpbOlJSU4ODBg+jRowcKCwuRl5eHGjVqoHXr1ti1axcUCgWsra3Ro0cPJCQkKNsdPnwYHTp0gLOzMwoKCnDu3Dl07doVgiCgtLQUpaWlqF+/Ptzc3Crdiqn4Eq0QHR2NYcOGITs7G8nJyYiPj8fBgwcBlD8RVFxcjLNnzyIgIEDlNkzv3r1havp37j19+jTq1KmDpk2bKmsoKytD9+7d8ccff+DBgwfP/b6oMzi7du3acHd3x8yZMzFlyhQcOnQICoUC06ZNQ+PGjQGULwrbtm1bWFpaKmuzsbFBmzZt8PPPPz/z/VFHREQE9uzZg127diE0NBQmJiYYMmQIPvvsM5VlSUaNGoUFCxYgPz8ff/zxBxISErBu3ToAUAa059W8eXOVJR1kMhmA8lmQ09PTcfv27Urh7fXXX9f0r0g6xtsWROLFKzs68sMPP+D+/fvYs2cP9uzZU2n/yZMn0bVrV7zxxhs4ePAgUlNTUbt2bSQlJWH+/PkAym9pKRQKbNiwARs2bKjUh4WFhcpra2trlde///47IiIi8Pvvv8PKygru7u546aWXAPy9cntZWZnKrR4AMDExUVnrrGKF938+jfRPWVlZqFmz5n+/KShfn+lZX/rFxcXKc0skEsTGxmLNmjU4duwY9u/fDzMzM/To0QMRERGoWbMmcnNzkZCQoBIYK/x7bbR/vz/qcHV1RfPmzQGUX1kzMzPDqlWrYGFhgffff195XHZ2NmbPno3jx49DIpGgQYMGaNOmDQD159X593IkFVePFAqFcszWv392XK9NPHjbgki8GHZ0JD4+HvXr10dkZKTKdkEQ8OGHH2LHjh3o2rUrOnTogDp16uDrr79GnTp1YGFhoRzHUaNGDUgkEgwfPvyJv7E/a22uR48eYdSoUfD09MThw4fRqFEjSKVS/Pjjjzhy5AiA8i9KMzMz3Lt3T6WtQqFAbm6u8rWtrS0aNmyIxYsXP/Fc9erVe673BCj/Ms7NzUVxcbFy1fp/yszMVHmqydnZGXPmzMHs2bORmpqKb775Bhs2bIC9vT1mz54NW1tbdOzYESEhIZX6+ufVKV374IMPcPz4caxYsQLdunWDh4cHACA8PBzXrl3D5s2b0apVK5ibm6OgoAC7du3S6fkrrvLcv39fZfu/X5Nh8bYFkTjxNpYOZGVl4eTJk3j99dfRrl07lT/t27dH79698eOPP+Lu3bswMTFBv3798P333+Obb75Bjx49lFcgbGxs4O3tjWvXrqF58+bKP40bN8bKlSuRlJT01BquXbuG3NxcDB06FO7u7sqrAidOnABQHmhMTEzg6+tbacG07777TmUwbtu2bXHnzh04Ojqq1HHq1CnExMSotXp227ZtUVJSgmPHjlXad+7cOWRmZqJ9+/YAgLNnz6Jjx444f/48JBIJmjRpggkTJsDDwwO3b99W9nflyhU0adJEWVezZs2wefPmJ55DV0xNTTFnzhyUlpYqx8wAQEpKCgICAtCuXTtlmPvnew5AJ6uNy2QyvPzyy5X+jkePHtW6byIiY8crOzqwf/9+lJaWPnX8xJtvvondu3dj165dGDduHN544w3ExsZCKpVWul01ceJEvP/++/j444/Rv39/5VNX586dw5gxY55ag6urK2xsbLB27VqYmprC1NQUR44cUd5SKygoAACEhYVhyJAhCAsLw1tvvYXbt28rnx6rGF8TFBSEbdu2ISQkBKNHj4aLiwt+/vlnbNiwAcHBwTAzM3vu96ZNmzbw9/fHJ598gmvXrqFNmzaQSqW4cOECYmJi0Lp1a/Tp0wcA4O3tDUtLS0yePBnjxo1D7dq18fPPP+Ovv/5STsA3ZswYvPPOOwgNDcW7774LCwsL7Ny5U3nVRZ9atWqF/v3748CBA/j666/x2muvwcfHB4cOHULTpk0hk8nw66+/Yv369ZBIJMr33NbWFkD5WCg3NzfloG91SCQShIWFITw8HLNnz0bPnj2RmpqKzz//HMDft7yIiKgyfkLqwN69e9G4cWPlrY1/a926NerVq4fdu3ejrKwMXl5e8PDwgKOjY6XHuF955RVs3LgRmZmZCAsLw+TJk2FiYoJNmzZVmuTun2xtbbF69WoIgoCPPvoIkydPxu3bt7Ft2zbUqFEDycnJAMrDx8qVK5GWloYxY8Zg06ZNmDlzJoDy22hA+ViXuLg4tG7dGlFRUXjvvfdw9OhRfPzxx5g2bZra78+KFSswduxYHD9+HGPHjkVoaCj27NmDQYMGYdOmTcorHxYWFoiNjUXjxo0RGRmJkSNH4ttvv8XcuXOV8xN5eXkhLi4OEokEkydPRlhYGLKysvD5558/87FuXQkPD0eNGjWwaNEiFBQUYMGCBWjRogXmzZuHsWPH4ttvv0VERAReeeUV5XtuY2ODkJAQHD9+HO+99x5KSko0One/fv0wd+5cnD59GqNHj8bhw4eVT4FpMz6JiMjYSQSuTqic9O3ft3cAoLCwEGlpaXB1dVXOcVOdffvtt5DJZCqDjy9fvoy+ffti9erVyveCxOerr76Ct7c3GjVqpNz2ww8/IDQ0FAcOHICXl1elNsb271fsdq6co9GYnTovNcDAcXN0XxAZFP896N+zvr//ibexXjA//fQTEhISEB4eDldXV9y9exdr1qxBo0aN8MorrzxXH4IgPNdEdiYmJqJZF+yfY5KeRiqVivp20MGDB7F06VKMHz8eLi4uSE9Px4oVK9C2bdsnBh0iIirHsPOCmTJlCiwtLbFmzRrI5XLUqlULnTt3xscff1zp0fan2bdv33Pdztq6dSvatWunbck68bTH6P8pMDAQCxYsqIJqNLNw4UJER0cjKioK2dnZqF27Nnr37o2wsDBDl0ZEJGoMOy8YS0tLTJkyRWWmYXV17979iXMJ/VvFkgpi8Dz12tvbV0ElmrO3t1d5EoyIiJ4Pww6pzd7eXvTB4N8qJggkIqIXj3gHKBARERHpAMMOERERGTWGHSIiIjJqDDtERGRUuAI9/RsHKBMRkVHhCvT0bww79EwKhQCptOonBtT0vAqFAqtWrcLu3bvx8OFD+Pn5YdasWahfv74eqiQiseIK9PRPDDv0TFKpBIvjUpBx92GVnbOesy3CB7fWqO3q1auxfft2LFiwADKZDFFRURg1ahQOHTqkXJWciIheLAw79J8y7j7E1VsPDF3GfyouLkZsbCzCw8PRrVs3AMDSpUvRuXNnHD16FH379jVsgUREZBAcoExGIzU1Ffn5+SorydvZ2cHb2xtnzpwxYGVERGRIDDtkNDIzMwEALi4uKtudnJyU+4iI6MXDsENGo6CgAAAqjc2xsLBAUVGRIUoiIiIRYNgho2FpaQmgfOzOPxUVFcHKysoQJRERkQgw7JDRqLh9JZfLVbbL5XI4OzsboiQiIhIBhh0yGl5eXrCxsUFSUpJyW15eHi5cuAA/Pz8DVkZERIbER8/JaJibmyM4OBiLFy+Gg4MD6tati6ioKMhkMgQEBBi6PCIiMhCGHfpP9Zxtq835wsLCUFpaihkzZqCwsBB+fn7YuHEjzMzMdFghERFVJww79EwKhaDxbMbanleT5SJMTEwwadIkTJo0SQ9VERFRdcQxO/RMhlgXy5DnJSIi48OwQ0REREaNYYeIiIiMmkZhZ//+/ejTpw+aN2+O119/HV9//bVyX0ZGBkJDQ+Hr64tXXnkFy5YtQ1lZmUr7uLg4vPrqq/Dx8cGgQYNw4cIFlf266IOIiIgI0CDsHDhwANOnT8fgwYNx+PBh9O3bFxMnTsTZs2dRUlKCkSNHAgB27NiBOXPm4Msvv8Tnn3+ubL9v3z4sWrQIH330Efbu3Yt69eohJCQE2dnZAKCTPoiIiIgqqBV2BEHA8uXLMXToUAwePBgvv/wyPvjgA3Ts2BG//PILjhw5gtu3b2PRokXw8PBAjx49MHHiRGzZskU5hf/atWsRHByM/v37w93dHfPnz4eVlRV2794NADrpg4iIiKiCWmEnLS0Nt27dQr9+/VS2b9y4EaGhoUhOTkbTpk1Rs2ZN5b727dvj0aNH+Ouvv3D//n1cv34dHTp0UO43NTVFmzZtcObMGQDQSR9EREREFdQOOwDw+PFjjBw5Eh06dMD//vc/fPfddwCAzMxMyGQylTZOTk4AgDt37iAzMxPA32sY/fOYin266IOIiIioglph59GjRwCAKVOmoG/fvoiNjUWnTp0wZswYnD59GoWFhTA3N1dpY2FhAaB85emCggIAeOIxRUVFAKCTPoiIiIgqqDWDcsWU+yNHjkRgYCAAoEmTJrhw4QI2bdoES0tL5biaChUBxNraGpaWlgDwxGOsrKwAQCd9EBEREVVQ68qOs7MzAMDDw0Nlu7u7OzIyMiCTySCXy1X2Vbx2dnZW3np60jEVfeuiD9IdQaGotuddt24dhgwZooNqiIioOlPryk7Tpk1Ro0YNnDt3Dm3atFFuv3TpEl5++WX4+flh//79ePToEWxsbAAAiYmJqFGjBry8vGBubg5XV1ckJSUpBxiXlpYiOTkZgwYNAgCd9EG6I5FKId+/DMX3M6rsnOaO9eD05nit+oiLi8OyZctU/p0SEdGLSa2wY2lpiVGjRuHzzz+Hs7MzfHx8cPjwYZw6dQqbN29Gy5YtsWzZMowfPx7h4eHIyMjAkiVLMGLECOUYmxEjRiAyMhINGjRA8+bNsX79ehQWFuKtt94CAPTo0UPrPki3iu9noDgzzdBlPJe7d+9i9uzZSEpKQsOGDQ1dDhERiYDaq56PGTMGVlZWWLp0Ke7evQs3NzesXLkS7dq1AwDExMQgIiICb7/9NmrWrIlBgwZhzJgxyvZvv/02Hj58iGXLliE3NxfNmjXDpk2b4ODgAKB8oLG2fdCL688//4SZmRkOHjyIzz//HLdu3TJ0SUREZGBqhx0ACAkJQUhIyBP3NWjQALGxsc9sP3LkSOUsyfrqg15M/v7+8Pf3N3QZREQkIlwIlIiIdEah5cMF2rYnehKNruwQERE9iVQqxdGd65Ajv6N2W3snFwQMDNVDVYZh7+Ty3wfpsB09HcMOERHpVI78DrJupxu6DINSKBRaBTeFQgGplDdfdIVhh4hIR/ibPFWQSqX4LiEVOdmP1W5r72AN/z5eeqjqxcWwQ0SkA2L4TV7bPng1QbeupMqReStP7XayunYMOzrGsEP/ydyxnlGfj0gXxPCbPMfLED0Zww49k6BQaD2bsabnlWj5G+aCBQt0VA3R8xHDb/IcL0NUGa9X0jNpGziq23mJiMj48BuFiKo9zu1CRM/C21hEVO1xrAoRPQvDDhEZBY5VIaKn4W0sIiIiMmoMO0RERGTUGHaIiIjIqDHsEBERkVFj2CEiIiKjxrBDRERERo1hh55JIRhmsjVNz5ubm4tZs2ahS5cu8PX1xbvvvovk5GQdV0dERNUJ59mhZ5JKpFiRGItbeZlVds66djKEtR+hUduJEyciKysLS5YsgaOjI7744guMHDkS+/btQ6NGjXRcKRERVQcMO/SfbuVlIi3npqHL+E/p6ek4deoUtm/fjtatWwMAZs6ciZMnT+LQoUP46KOPDFwhEREZAm9jkdGwt7fH+vXr0bx5c+U2iUQCiUSCvDz1V6ImIiLjwCs7ZDTs7OzQtWtXlW1HjhxBeno6PvnkEwNVRUSGYO/kUqXtSNwYdsho/frrr5g2bRoCAgLQrVs3Q5dDRFVEoVBotbirQqGAVMobH8aEYYeM0vHjxxEeHg5fX18sXrzY0OUQURWSSqX4LiEVOdmP1W5r72AN/z5eOqmjtrNtlbajp2PYIaOzbds2REZGonfv3li4cCHMzc0NXRIRVbErqXJk3lJ/rJ6srp1Owo5CISBocCut2kulEq3roHIMO2RUtm/fjnnz5mHIkCGYPn06JBJ+WBBR1ZNKJUjfFofCu3K121o6O6FB8GA9VPXiYtih/1TXTlYtzpeWlob58+ejZ8+eCA0Nxb1795T7LC0tYWvLS8NEVHVyUs4i/1qa2u1qNHJl2NExhh16JoWg0HiCP23PK5WoN0DwyJEjKCkpwbFjx3Ds2DGVfYGBgViwYIEuSyQiomqCYYeeSd3AYcjzjh49GqNHj9ZDNUREVJ3x2ToiIiIyaryyQ0REpAfW9etVaTt6OoYdIiIiHRMUCnhMHK9VewknNtQZhh0iIiIdk0il+PL8Acjz7/33wf/iVKM23vV5Qw9VvbgYdoiIiPQg6/F93H54V+12nB9M9xh2iIiIdEyh0G7aDq7PpVsMO0RERDomlUqR/X0cSh6oP4OyWU0nOHTnpIK6xLBDRESkB4+vnUVxpvozKJvLXBl2dIzXyIiIiMio8coOPZOhHn/U9Lz379/HggULcPLkSRQVFcHPzw9TpkyBm5ubHqokUlXbWbP11zRtR0TPh2GHnkkileLSkmV4fDOjys5pXb+exvNTjB07FgqFAuvXr0eNGjWwfPlyDB8+HEePHoWVlZVuCyX6B4VCQNDgVlq1l0r5FA6RPqgddu7evYsuXbpU2v7ZZ58hKCgIf/31FyIjI/HHH3/AwcEBw4cPx9ChQ5XHKRQKrFq1Crt378bDhw/h5+eHWbNmoX79+spjdNEH6c7jmxkardxb1R48eIC6desiNDQUHh4eAIAxY8bgjTfewOXLl+Hj42PgCsmYSaUSpG+LQ+Fd9QekWjo7cZVrI2TuqNlMyJq2o6dTO+ykpqbCwsICx48fV5kLwNbWFjk5OQgJCYG/vz8iIiLw22+/ISIiAjVq1MCAAQMAAKtXr8b27duxYMECyGQyREVFYdSoUTh06BDMzc110ge9mGrWrIno6Gjl6+zsbGzevBkymQzu7u4GrIxeFDkpZzX6xaBGI1eGHSMjKBRwenO8Vu05g7LuqB12Ll26hIYNG8LJyanSvi1btsDMzAxz586Fqakp3NzckJ6ejvXr12PAgAEoLi5GbGwswsPD0a1bNwDA0qVL0blzZxw9ehR9+/bFrl27tO6DaObMmdi1axfMzc2xZs0aWFtbG7okInqBSKRSbE24AHn2Y7XbOjlYY2gfbz1U9eJSO+xcvHjxqYM9k5OT0bZtW5ia/t1t+/btsW7dOty7dw+3b99Gfn4+OnTooNxvZ2cHb29vnDlzBn379tVJH0TDhg3DwIEDERcXh7Fjx2L79u1o2rSpocsiohfIr6lyXL31QO12bnVrMuzomEZXduzt7TF48GCkpaWhQYMG+OCDD9ClSxdkZmYqx0pUqLgCdOfOHWRmZgIAXFxcKh1TsU8XfRBV3LaKjIzEuXPnsG3bNnz22WcGroroxWDv5PLfB+mwHdF/USvslJaW4tq1a3B3d8fUqVNhY2ODw4cP4/3338emTZtQWFhYacyMhYUFAKCoqAgFBQUA8MRjHjwoT7+66INeTNnZ2Th9+jR69eqlvDIolUrh7u4OuVz9QaNUvfALVhwUCgUCBoZq1Z7LJJCuqRV2TE1NkZSUBBMTE1haWgIAmjVrhsuXL2Pjxo2wtLREcXGxSpuioiIAgLW1tbJNcXGx8r8rjql4LFgXfdCL6d69e5g4cSJiYmLQuXNnAEBJSQkuXLgAf39/A1dH+sQv2L8ZOvRJpVJ8l5CKHA3Gqtg7WMO/j5dO6uCcR/RPat/GqlGjRqVtjRs3xk8//QSZTFbpN+iK187OzigtLVVue/nll1WO8fT0BACd9EEvJg8PD3Tp0gWffvopPv30U9SsWRPr1q1DXl4ehg8fbujySI/E8gVraGIJfVdS5ci8lad2O1ldO538LDjnEf2bWmHn8uXLGDhwINasWYN27dopt//xxx9wd3dHkyZNsGPHDpSVlcHExAQAkJiYCFdXVzg6OsLW1hY2NjZISkpSBpW8vDxcuHABwcHBAAA/Pz+t+yDdsq5ftXM+aHO+JUuWIDo6GhMmTMDDhw/Rpk0bxMXF4aWXXtJhhSRGhv6CFQOGvnKc84j+Ta2w4+bmhkaNGmHu3LmIiIiAvb09du3ahd9++w3x8fFwdHRETEwMpk+fjlGjRuH8+fPYvHkzIiIiAJSPswkODsbixYvh4OCAunXrIioqCjKZDAEBAQCAAQMGaN0H6Y6gUGg8m7G259VkjglbW1vMmTMHc+bM0X1RRNUAQ185znlE/6RW2JFKpVi7di2io6Mxfvx45OXlwdvbG5s2bVI+QRUTE4PIyEgEBgaiTp06mDx5MgIDA5V9hIWFobS0FDNmzEBhYSH8/PywceNGmJmZAYAyMGnTB+mOoSa14mRaRESkK2qP2aldu/YzH+H18fHBzp07n7rfxMQEkyZNwqRJk/TaBxFRVdP0FmxV3yometFwIVAiIh3Q9pYvlwcg0h+GHSIiHZBIpfjy/AHI8++p3dapRm286/OGHqoiIoBhh4hIZ37L/BNpOTfVbudqX59hh3RO26kEjGn+KYYdIiIiIySVSnF05zrkyO+o3dbeyUWrOZvEhmGHiIiMDgeLl8uR30HW7XRDl2FwDDtEpDFdXOY2pkvlJA4cLE7/xrBDRBrT5jI5YHyXykkcOFic/o1hh4i0wsvkJEYcLE7/xLBDz2SoBfF0cd60tDQEBQVh5syZCAoK0lFlRFQd1LWTVWk7EjeGHXomqVSCvXFnce/uwyo7Z21nW61WLAaAkpIShIeH4/Fj9RdEJKLqTaFQIKz9CK3acxyZcWHYof907+5DjRYWNKSVK1fCxsbG0GXQC4ZXE8RBKpUi+/s4lDxQf9Vzs5pOcOjOhUCNDcMOGZ0zZ85g586d2L9/P7p162bocugFwasJ4vL42lkUZ6q/6rm5zJVhxwgx7JBRycvLw+TJkzFjxgy4uLgYuhx6gfBqApF4MeyQUZkzZw5atWqFfv36GboUegHxagKRODHskNHYv38/kpOTcejQIUOXQkREIsKwQ0YjPj4e9+/frzROZ/bs2UhISEBMTIxhCiMiIoNi2CGjsXjxYhQWFqpsCwgIQFhYGPr372+gqoiIyNAYdshoODs7P3G7o6PjU/cREZHxY9ih/1Tb2daoz0dEuqXp/8O6/H/f3FGz1cs1bUfixrBDz6RQCFrPZqzpeXWxTMXFixd1UA0RPS9tPzN08f++oFDA6c3xWrXnqufGhWGHnskQ62IZ8rxEpB2pVIL0bXEovKv+fEOWzk5oEKz9I/gSqRRbEy5Anq3+cjFODtYY2sdb6xpIXBh2iIhIp3JSziL/mvrzDdVo5KqTsAMAv6bKcfXWA7XbudWtybBjhHidjoiIiIwaww4REREZNd7GIiLSETE8ASSGJ6GIxIZhh4iMgqG/5MXwBJAYnoQiEiOGHSKq9sTwJS+GJ4DE8CQUkRgx7BBRtSeWL3kxPAEkhiehiMSGYYeIjAK/5InoaRh2iIhIp6zrazbgWtN2RP+FYYeeSaFQQGqAadM1Pe/du3fRpUuXSts/++wzBAUF6aI0InoGQaGAx8TxWrXnUg2kaww79ExSqRRHd65DjvxOlZ3T3skFAQNDNWqbmpoKCwsLHD9+HBLJ3wNObW35WC1RVZBIpfjy/AHI8++p3dapRm286/OGHqqiFx3DDv2nHPkdZN1ON3QZz+XSpUto2LAhnJycDF0K0Qvrt8w/kZZzU+12rvb1GXZILxh2yKhcvHgRbm5uhi6D6IVW105Wpe2I/gvDDhmVS5cuwd7eHoMHD0ZaWhoaNGiADz744InjeIhI9xQKBcLaj9CqvSHGCRoreyeXKm0nVgw7ZDRKS0tx7do1uLu7Y+rUqbCxscHhw4fx/vvvY9OmTejQoYOhSyQyelKpFNnfx6HkgfpzHpnVdIJDd04DoCsKhULj8Y8V7Y0leDLskNEwNTVFUlISTExMYGlpCQBo1qwZLl++jI0bNzLsEFWRx9fOojhT/TmPzGWuDDs6JJVK8V1CKnI0mNXb3sEa/n289FCVYTDskFGpUaNGpW2NGzfGTz/9ZIBqiIgM60qqHJm38tRuJ6trx7BDJEaXL1/GwIEDsWbNGrRr1065/Y8//oC7u7sBKyOqOpzQj6gyhh36T1U9UE3T87m5uaFRo0aYO3cuIiIiYG9vj127duG3335DfHy8TmsUBEFlHh9D9KGLGozpnjxxQj+ip9E47KSlpSEoKAgzZ85Uzkz7119/ITIyEn/88QccHBwwfPhwDB06VNlGoVBg1apV2L17Nx4+fAg/Pz/MmjUL9evXVx6jiz5Id7Qd4KbNedX9EpZKpVi7di2io6Mxfvx45OXlwdvbG5s2bYKHh4dO65NIJHiQnYWykhKN2puYmaGmQx2911BcUor8vFwkbFuFkoJHKvu0mbyRxIkT+hE9mUZhp6SkBOHh4Xj8+O9BTzk5OQgJCYG/vz8iIiLw22+/ISIiAjVq1MCAAQMAAKtXr8b27duxYMECyGQyREVFYdSoUTh06BDMzc110gfplqF+69f0vLVr18Znn32m42qerKykBKUlRVVyLk1rKCstg6KsFNnyWyh8mFt1hZHBcEI/+qfazprNHq9pO7HSKOysXLkSNjY2Ktt27doFMzMzzJ07F6ampnBzc0N6ejrWr1+PAQMGoLi4GLGxsQgPD0e3bt0AAEuXLkXnzp1x9OhR9O3bVyd9EBEREaBQCAga3Eqr9lKpdrfKxULtsHPmzBns3LkT+/fvVwYOAEhOTkbbtm1havp3l+3bt8e6detw79493L59G/n5+SqP/9rZ2cHb2xtnzpxB3759ddIHERERAVKpBOnb4lB4V/05jyydndAg2HimAVAr7OTl5WHy5MmYMWMGXFxUB5FmZmZWGhdRsT7RnTt3kJmZCQCV2jk5OSn36aIPInox8Skk8TB31Ow91bQdPV2RPAsFGbfUbqftww9io1bYmTNnDlq1aoV+/fpV2ldYWFhpzIyFhQUAoKioCAUFBQDwxGMePHigsz6I6MXDp5D+Zuh1qQSFAk5vjteqvbH8LAyN/1/87bnDzv79+5GcnIxDhw49cb+lpSWKi4tVthUVlQ+ctLa2Vs5oW1xcrPzvimOsrKx01oe+CIKg1/6J9EEQBAgAYOT/fPkUUjkxrEslkUqxNeEC5BrM2uvkYI2hfby1Oj/9TQCgzfUZbduLyXOHnfj4eNy/f19lnA4AzJ49GwkJCZDJZJDLVe8LVrx2dnZGaWmpctvLL7+scoynpycA6KQPXTMzM4NEIkF+fr7eAxWRrpX8/9NYxYX5hi5F7/gUknjWpfo1VY6rt9S/2u5WtybDjg6J5d+DGDx32Fm8eDEKCwtVtgUEBCAsLAz9+/fHgQMHsGPHDpSVlcHExAQAkJiYCFdXVzg6OsLW1hY2NjZISkpSBpW8vDxcuHABwcHBAAA/Pz+t+9A1ExMT1KxZE1lZWSgqKoKdnR1MTU2N7n4mqa+4pBRlpWUatVWgtNL/T7qsQRAElJSW4X52NjKvXYCiVLP5gKj64bpU9E+lD7JQcl+DMTtGc02n3HOHHWdn5ydud3R0hLOzMwYMGICYmBhMnz4do0aNwvnz57F582ZEREQAKB9nExwcjMWLF8PBwQF169ZFVFQUZDIZAgICAEAnfeiDTCaDlZUV5HI58vLUX2OEjFN+Xi4UZaUatZWamCLnofZXW55WgwBAUVaKzGsXcCs1WevzPIs2M2xX9ezcRC8Sjp/6m86Wi3B0dERMTAwiIyMRGBiIOnXqYPLkyQgMDFQeExYWhtLSUsyYMQOFhYXw8/PDxo0bYWZmprM+9EEikaBWrVqoWbMmysrKlLfT6MWWsG0VsuXq/8YEAA5OddEn+EP91SAAxYX5er+io4sZtrlkBZF+cPzU37QKOxcvXlR57ePjg507dz71eBMTE0yaNAmTJk166jG66ENfJBIJTE1NVeYBohdXScEjjWclLrGtqTLI3hA16IJUKsV3CanI0eDDFADsHayNamVlIrHh+Kly/NYmIq1cSZUj85Zmt3dlde10FnYM/cg1EYkXww4RVXtieOSaiMSLYYeIqj0+Yvs3zl5MVBnDDhEZBT5yzadviJ6GYYeIyEjw6RuiJ2PYISIyInz6hqgyXq8kIiIio8awQ9WOQqEQRR9ERFQ98DYWVTtSqRRHd65DjvyORu3tnVy0nvWXiIiqD4YdqpZy5HeQdTvd0GUQEVE1wNtYREREZNR4ZYeIjAIn0yOip2HYIaJqj5PpEdGzMOwQUbXHyfSI6FkYdojIKHAyPSJ6Gl63JSIiIqPGsENERERGjWGHiIiIjBrDDhERERk1hh0iIiIyagw7REREZNQYdoiIiMioMewQERGRUWPYISIiIqPGsENERERGjWGHiIiIjBrDDhERERk1hh0iIiIyagw7REREZNRMDV0AEVVvtZ1tDdKWiOh5MewQkcYUCgFBg1tp3YdUKtFRRURElTHsEJHGpFIJ0rfFofCuXKP2ls5OaBA8WMdVERGpYtgh0pC9k4tB2oqthpyUs8i/lqZR2xqNXBl2iEjvGHaINKBQKBAwMFTrPqRSzZ8REEMNRETVAcMOkQakUim+S0hFTvZjjdrbO1jDv49Xta+BiKg6YNgh0tCVVDkyb+Vp1FZW104nQUMMNRARiR2vXxMREZFRY9ghIiIio8awQ0REREaNYYeIiIiMGsMOERERGTW1w879+/cxadIktG/fHq1atcL777+Pq1evKvf/9ddfCA4ORsuWLeHv74+tW7eqtFcoFFixYgU6d+6Mli1b4r333sPNmzdVjtFFH0RERESABmFn7NixSE9Px/r167Fnzx5YWlpi+PDhKCgoQE5ODkJCQvDyyy8jPj4eY8eOxeLFixEfH69sv3r1amzfvh3z5s3Djh07oFAoMGrUKBQXFwOATvogIiIiqqBW2Hnw4AHq1q2LTz/9FD4+PnBzc8OYMWMgl8tx+fJl7Nq1C2ZmZpg7dy7c3NwwYMAADB8+HOvXrwcAFBcXIzY2FmFhYejWrRu8vLywdOlSZGZm4ujRowCgkz6IiIiIKqg1qWDNmjURHR2tfJ2dnY3NmzdDJpPB3d0dK1euRNu2bWFq+ne37du3x7p163Dv3j3cvn0b+fn56NChg3K/nZ0dvL29cebMGfTt2xfJycla90HGTwxrQlE56/r1DNKWiOh5aTyD8syZM7Fr1y6Ym5tjzZo1sLa2RmZmJjw8PFSOc3JyAgDcuXMHmZmZAAAXF5dKx1Ts00UfZNy4JpR4CAoFPCaO17oPCX8WRKRHGoedYcOGYeDAgYiLi8PYsWOxfft2FBYWwtzcXOU4CwsLAEBRUREKCgoA4InHPHjwAAB00gcZN64JJR4SqRRfnj8Aef49jdo71aiNd33e0HFVRESqNA477u7uAIDIyEicO3cO27Ztg6WlZaVBwkVFRQAAa2trWFpaAigfd1Px3xXHWFlZAYBO+iDjxzWhxOO3zD+RlqPZ05Cu9vUZdohI79S6dpydnY3Dhw+jtLT07w6kUri7u0Mul0Mmk0Eul6u0qXjt7OysvPX0pGOcnZ0BQCd9EBEREVVQK+zcu3cPEydOxOnTp5XbSkpKcOHCBbi5ucHPzw8pKSkoKytT7k9MTISrqyscHR3h5eUFGxsbJCUlKffn5eXhwoUL8PPzAwCd9EFERERUQa2w4+HhgS5duuDTTz/FmTNncOnSJUydOhV5eXkYPnw4BgwYgEePHmH69Om4cuUK9u7di82bNyM0tHwwqbm5OYKDg7F48WJ8++23SE1NxYQJEyCTyRAQEAAAOumDiIiIqILaY3aWLFmC6OhoTJgwAQ8fPkSbNm0QFxeHl156CQAQExODyMhIBAYGok6dOpg8eTICAwOV7cPCwlBaWooZM2agsLAQfn5+2LhxI8zMzAAAjo6OWvdBREREVEHtsGNra4s5c+Zgzpw5T9zv4+ODnTt3PrW9iYkJJk2ahEmTJj31GF30QURERARwIVAiIiIycho/ek5EBAB17WQGaUtE9LwYdohIYwqFAmHtR2jdB2ezJiJ9YtghIo1JpVJkfx+Hkgfy/z74CcxqOsGh+2AdV0VEpIphh4i08vjaWRRnpmnU1lzmyrBDRHrHa8dERERk1Bh2iIiIyKgx7BAREZFRY9ghIiIio8awQ0REREaNYYeIiIiMGh89J6rGajvbGqQtEVF1wrBDVE0pFAKCBrfSug+pVKKjioiIxIlhh6iakkolSN8Wh8K7ms1ebOnshAbB2k/oZ+5YzyBtiYieF8MOUTWWk3IW+dc0m724RiNXrcOOoFDA6c3xWvch4dpYRKRHDDtEpDGJVIqtCRcgz36sUXsnB2sM7eOt46qIiFQx7BCRVn5NlePqrQcatXWrW5Nhh4j0jteOiYiIyKgx7BAREZFRY9ghIiIio8YxO0Qa4oR+RETVA8MOkQY4oR8RUfXBsEOkAbFM6EdERP+NYYeqJTHcQjL0hH4AYF1f8xmItWlLRFSdMOxQtcNbSOUEhQIeE8dr3QdnLyYiY8ewQ9UObyGVk0il+PL8Acjz72nU3qlGbbzr84aOqyIiEh+GHaqWxHALSQx+y/wTaTk3NWrral+fYYeIXgi8fk1ERERGjWGHiIiIjBrDDhERERk1hh0iIiIyagw7REREZNT4NBZRNVbXTmaQtkRE1QnDDlE1pVAoENZ+hNZ9SDmpIBEZOYYdIg0ZeqkGqVSK7O/jUPJAs8kVzWo6waG7ccw3RET0LAw7RBoQy1INj6+dRXGmZpMrmstcGXaI6IXAsENq0cVtD2O4dcKlGoiIqg+GHVKLVCrF0Z3rkCO/o1F7eycXBAwM1XFVhsGlGoiIqgeGHVJbjvwOsm6nG7QGQ4+XISKi6oNhh6odsYyXISKi6kHtsJObm4slS5bghx9+wKNHj+Dp6YmPP/4Ybdq0AQCcPn0aUVFRuHr1KlxcXDBu3Di8/vrryvZFRUVYsGABvvnmGxQWFsLf3x/Tp0+Hg4OD8hhd9EHGi+NliIhIHWqHnYkTJyIrKwtLliyBo6MjvvjiC4wcORL79u2DIAgIDQ1FSEgIoqKi8MMPP2Dy5MlwcHBAhw4dAABz5sxBcnIyVq5cCXNzc8yePRthYWHYtm0bAODq1ata90HGj+Nlypk7an5LTpu2RETViVphJz09HadOncL27dvRunVrAMDMmTNx8uRJHDp0CPfv34enpycmTJgAAHBzc8OFCxcQExODDh064O7du9i/fz/Wrl2rvBK0ZMkS9O7dG2fPnkWrVq2wZcsWrfsgehEICgWc3hyvdR+8nUdExk6tsGNvb4/169ejefPmym0SiQQSiQR5eXlITk5Gjx49VNq0b98ekZGREAQBKSkpym0VXF1d4ezsjDNnzqBVq1Y66YOoKhh6qQaJVIqtCRcgz36sUXsnB2sM7eOtdR1ERGKnVtixs7ND165dVbYdOXIE6enp+OSTT7Bv3z7IZKof4k5OTigoKEBOTg7u3r0Le3t7WFhYVDomMzMTAJCZmal1H0T6JpalGn5NlePqrQcatXWrW5Nhh4heCFo9jfXrr79i2rRpCAgIQLdu3VBYWAhzc3OVYypeFxcXo6CgoNJ+ALCwsEBRUREA6KQPIn3jUg1ERNWHxmHn+PHjCA8Ph6+vLxYvXgygPHAUFxerHFfx2srKCpaWlpX2A+VPV1lZWemsDzJ+hr6FBHCpBiKi6kKjsLNt2zZERkaid+/eWLhwofJKi4uLC+Ry1d905XI5rK2tYWtrC5lMhtzcXBQXF6tcnZHL5XB2dtZZH2TcxHILiYiIqge1w8727dsxb948DBkyBNOnT4dEIlHua9OmDX755ReV4xMTE+Hr6wupVIrWrVtDoVAgJSVF+Rh5Wloa7t69Cz8/P531QcaNt5CIiEgdaoWdtLQ0zJ8/Hz179kRoaCju3ft7UjdLS0sMGTIEgYGBWLx4MQIDA/Hjjz/im2++QUxMDADA2dkZr7/+OmbMmIH58+fDysoKs2fPRtu2bdGyZUsA0EkfZPx4C4mIiJ6XWmHnyJEjKCkpwbFjx3Ds2DGVfYGBgViwYAFWr16NqKgobNmyBfXq1UNUVJTyCgwAzJs3D/Pnz8eHH34IAOjSpQtmzJih3N+4cWOt+yAiIiKqoFbYGT16NEaPHv3MY7p06YIuXbo8db+1tTU+/fRTfPrpp3rtg4iIiAjgQqBEGuNSDURE1QPDDpEGuFQDEVH1wbBD1ZKhr6pwqQYiouqDYYeqHbFcVeFSDURE1QPDDlU7vKpCRETqYNihaolXVYiI6HlxdCQREREZNYYdIiIiMmoMO0RERGTUGHaIiIjIqDHsEBERkVFj2CEiIiKjxrBDRERERo3z7JDa7J1cDNKWiIhIEww7pBaFQoGAgaFa9yHlAphERFRFGHZILVKpFN8lpCJHw6Ua7B2s4d/HS8dVERERPR3DDqntSqocmbfyNGorq2vHsENERFWK9xKIiIjIqDHsEBERkVFj2CEiIiKjxrBDRERERo1hh4iIiIwaww4REREZNYYdIiIiMmoMO0RERGTUGHaIiIjIqDHsEBERkVFj2CEiIiKjxrBDRERERo1hh4iIiIwaww4REREZNYYdIiIiMmoMO0RERGTUGHaIiIjIqDHsEBERkVFj2CEiIiKjxrBDRERERo1hh4iIiIwaww4REREZNYYdIiIiMmpahZ1169ZhyJAhKtv++usvBAcHo2XLlvD398fWrVtV9isUCqxYsQKdO3dGy5Yt8d577+HmzZs674OIiIgI0CLsxMXFYdmyZSrbcnJyEBISgpdffhnx8fEYO3YsFi9ejPj4eOUxq1evxvbt2zFv3jzs2LEDCoUCo0aNQnFxsc76ICIiIqpgqm6Du3fvYvbs2UhKSkLDhg1V9u3atQtmZmaYO3cuTE1N4ebmhvT0dKxfvx4DBgxAcXExYmNjER4ejm7dugEAli5dis6dO+Po0aPo27evTvog/artbGuQtkRERJpQO+z8+eefMDMzw8GDB/H555/j1q1byn3Jyclo27YtTE3/7rZ9+/ZYt24d7t27h9u3byM/Px8dOnRQ7rezs4O3tzfOnDmDvn376qQP0h+FQkDQ4FZa9yGVSnRUERER0bOpHXb8/f3h7+//xH2ZmZnw8PBQ2ebk5AQAuHPnDjIzMwEALi4ulY6p2KeLPkh/pFIJ0rfFofCuXKP2ls5OaBA8WMdVERERPZ3aYedZCgsLYW5urrLNwsICAFBUVISCggIAeOIxDx480FkfpF85KWeRfy1No7Y1Grky7BARUZXS6aPnlpaWlQYJFxUVAQCsra1haWkJAE88xsrKSmd9EBEREVXQadiRyWSQy1Vvb1S8dnZ2Vt56etIxzs7OOuuDiIiIqIJOw46fnx9SUlJQVlam3JaYmAhXV1c4OjrCy8sLNjY2SEpKUu7Py8vDhQsX4Ofnp7M+iIiIiCroNOwMGDAAjx49wvTp03HlyhXs3bsXmzdvRmhoKIDycTbBwcFYvHgxvv32W6SmpmLChAmQyWQICAjQWR9EREREFXQ6QNnR0RExMTGIjIxEYGAg6tSpg8mTJyMwMFB5TFhYGEpLSzFjxgwUFhbCz88PGzduhJmZmc76ICIiIqqgVdhZsGBBpW0+Pj7YuXPnU9uYmJhg0qRJmDRp0lOP0UUfRERERAAXAiUiIiIjx7BDRERERo1hh4iIiIwaw041olAoRNEHERFRdaLTp7FIv6RSKY7uXIcc+R2N2ts7uSBgYKjWdVjXr2eQtkRERJpg2KlmcuR3kHU73WDnFxQKeEwcr3UfEikvKhIRUdVg2CG1SKRSfHn+AOT59zRq71SjNt71eUPHVRERET0dww6p7bfMP5GWc1Ojtq729Rl2iIioSvFeAhERERk1hh0iIiIyaryNRWqrayczSFsiIiJNMOyQWhQKBcLaj9C6DymfxiIioirCsENqkUqlyP4+DiUP5Bq1N6vpBIfug3VcFRER0dMx7JDaHl87i+LMNI3amstcGXaIiKhK8V4CERERGTWGHSIiIjJqDDtERERk1Dhmp5qxd3IxSNt/MnfUfDFPbdoSERFpgmGnGlEoFFqvWq7tY9+CQgGnN8drVQMXAiUioqrEsFONSKVSfJeQipzsxxq1t3ewhn8fL61qkEil2JpwAXINa3BysMbQPt5a1UBERKQOhp1q5kqqHJm38jRqK6trp3XYAYBfU+W4euuBRm3d6tZk2CEioirFewlERERk1Bh2iIiIyKgx7BAREZFRY9ghIiIio8awQ0REREaNYYeIiIiMGsMOERERGTWGHSIiIjJqnFSwmqntbGuQtkRERNUVw041olAICBrcSus+pFKJjioiIiISP4adakQqlSB9WxwK78o1am/p7IQGwYN1XBUREZG4MexUMzkpZ5F/LU2jtjUauTLsEBHRC4cDlImIiMioMewQERGRUeNtrGrGun49g7QlIiKqrhh2npNCoYBUqt2FMG37EBQKeEwcr1UNgkIBiZZ/DyIiouqEYec5SaVSHN25DjnyOxq1t3dyQcDAUK1qkEil+PL8Acjz72nU3qlGbbzr84ZWNRAREVU3DDvVzG+ZfyIt56ZGbV3t6zPsEBHRC4dh5zkpFAqtr8zo4lZYXTuZQdoSERFVV9U27CgUCqxatQq7d+/Gw4cP4efnh1mzZqF+/fp6OZ9UKsWviel4lFekUXsbOwv4tm+gVQ0KhQJh7Udo3Ye2gYuIiKg6qbZhZ/Xq1di+fTsWLFgAmUyGqKgojBo1CocOHYK5ubnOz6dQCDoIK9ot1SCVSpF39hjKHuVo1N7Exh52rXpqfH4iIqLqqFqGneLiYsTGxiI8PBzdunUDACxduhSdO3fG0aNH0bdvX52fUwIBgHZrSmnbh6BQaB1W+DQWERG9aKpl2ElNTUV+fj46dOig3GZnZwdvb2+cOXNGP2FHKsWJsxnIyy/WqL1dDXN0aaXdPDcSqRRbEy5Anv1Yo/ZODtYY2sdbqxqIiIiqG4kgCIKhi1DX0aNHMW7cOJw7dw6WlpbK7R999BEKCwuxbt06tfpr3rw5ysrK4OLi8szjHjwqQmmZZm+XqYkENW0sNGrLGlgDa9BfHayBNbAG/dagT3fu3IGJiQl+//33Zx5XLa/sFBQUAEClsTkWFhZ48OCB2v1ZWFiguPi/r9iI4QfPGlgDa3gyMdTBGlgDa6hapqamzzVOt1qGnYqrOcXFxSpXdoqKimBlZaV2f8nJyTqrjYiIiMSlWo5UrbjdJJfLVbbL5XI4OzsboiQiIiISqWoZdry8vGBjY4OkpCTltry8PFy4cAF+fn4GrIyIiIjEplrexjI3N0dwcDAWL14MBwcH1K1bF1FRUZDJZAgICDB0eURERCQi1TLsAEBYWBhKS0sxY8YMFBYWws/PDxs3boSZmZmhSyMiIiIRqZaPnhMRERE9r2o5ZoeIiIjoeTHsEBERkVFj2CEiIiKjxrBDRERERo1hh4iIiIwaww4REREZNYYdIiIiMmoMO0RERGTUGHZ0ICcnB3/88QcePnxYpedVKBTIzc1FVlYWCgsLq/Tc/5Sbm4u7d+9W+d+fnq60tBT37t0zdBnIzMyEQqEw2Pmzs7Nx4cIF5OfnG6wGKmeoz0lAPJ+VZDicQVlNX375JU6ePImWLVvi/fffx8qVK7Fu3TqUlpZCKpVi0KBBmDZtGkxMTPRWw5kzZ7Bq1SqcPXsWJSUlyu2Ojo545ZVXMHr0aDRs2FBv5weAxMRExMTEICUlReXDw9raGr6+vnjvvffQtm1bvdZgaAqFAmvXrsWePXvw4MEDdOnSBZMmTcJLL72kPObevXvo3Lkz/vrrL73V8d133+HUqVPo1KkT/P39ER0dja1bt6K4uBi1atXCuHHjMGjQIL2d/1l8fX1x4MAB1K9fX6/nGTp0KFatWgU7OzsAQHFxMWbNmoUDBw5AEASYm5tj5MiR+Oijj/Rax5NkZ2fj1q1bqFevHuzt7fV6ruTkZPj6+kIqNezvsWL4nATE8Vl57do1bNmyBcnJybhz5w6Ki4thZWUFZ2dntGnTBsOGDYOrq6teaxCDAwcOqHxWjh49GjY2Nsr92dnZ+N///odvv/1WL+evtmtjGUJsbCxWrFiBzp07Y/Pmzbhy5Qp++OEHzJkzBy1btkRqaioWLFiAOnXqIDQ0VC81/Pzzz/jggw/Qv39/9OrVCxkZGdi7dy/ef/99WFpa4ujRoxgwYAC2bt2Kpk2b6qWGhIQETJ48Gb169cInn3wCJycnWFhYoKioCHK5HImJiRgxYgSio6PRq1cvvdQgBjExMYiNjcWIESMgkUiwY8cOBAUFITY2Ft7e3srj9Pn7xN69ezFz5kx4eHhgz5496NevHxISEjB27Fh4enrit99+w6JFi2BhYYEBAwbopYahQ4c+dV9hYSHCw8NhYWEBANi6dateavjll19UvszWrFmDn376CdHR0fDw8MD58+cRFRUFKysrvP/++3qpoaioCAsXLsS5c+cQHx+P4uJizJw5EwcPHoQgCDA1NcWbb76J2bNn620Nv+DgYHTs2BFLly5FzZo19XKO/yKGz0lAHJ+Vp0+fRmhoKLy9vdGzZ88nflYGBQVh3bp1Rv3L4e7duxEREYE33ngDUqkUcXFxOHbsGDZt2qT85VChUOD27dv6K0Kg59azZ08hISFBEARBSE1NFTw9PYX4+HiVY44dOyb06tVLbzW8/fbbQlxcnMq206dPC/3791e+/vTTT4UhQ4borYbXXntN2Lhx4zOP2bhxo9CnTx+91dCkSRPBy8vruf7oS0BAgPD1118rX+fl5QnBwcFC27ZthStXrgiCIAhZWVl6raFv377Crl27BEEQhMOHDwteXl7Cnj17VI7ZuXOn0Lt3b73VMGLECMHT01MYOHCgMHXqVJU/TZs2FcaNG6d8rS+enp7CvXv3lK979+4tHDx4UOWYw4cPC6+++qreapg7d67QuXNnYffu3YIgCMKiRYuEzp07C19//bVw5coV4fDhw0LXrl2FqKgovdXg6ekpBAQECB07dhQOHTqkt/M8ixg+JwVBHJ+VgYGBwsKFC595zMKFC4WgoCC91SCGz8q+ffsKO3fuVL6+deuW0KdPH8Hf31+Qy+WCIOj/s5JhRw0tW7YUbt68qXzt7e0t/PXXXyrH3Lx5U2jZsqVea7h+/brKtrKyMsHb21vIysoSBEEQbty4IbRq1UpvNbRo0UK4du3aM4+5evWq4OPjo7cakpOThbZt2wpBQUHC3r17n/lHX1q2bCncuHFDZVt+fr4QGBgodO/eXcjMzNT7/8DNmzcXMjIyBEEQhJKSEqFJkyZCamqqyjHp6el6/VkIgiBs2rRJ8PPzE7Zt26ay/UnvkT78O+x06dJFuHz5ssoxN27c0Ov70KlTJ+Hnn39Wvu7Zs6dw7NgxlWNOnDghdOrUSW81eHl5Cbdu3RIWLFggNG3aVAgMDKxUg76J4XOyog5Df1b6+Pg812dlixYt9FaDWD8rs7KyhFdffVXo37+/8PDhQ71/VnKAshrc3Nxw6NAhAMDhw4chCAJOnDihcsz333+v13vA9erVw5EjR1S2/fzzz5BKpahVqxYA4OrVq3q9hP3P9+Fp9u3bp9f3oXXr1li9ejUuXryIevXqITAw8Kl/9KVevXpITExU2WZtbY1169ZBEASMGjUK9+/f19v5AcDFxQXnzp0DAJiammLr1q2oU6eOyjEnT57Eyy+/rNc6hg8fji+++AI7duzAe++9Z5DB0d9++y1SU1NRVFSEjh074tdff1XZf+rUKb2OHcrPz4ezs7PydUlJicr4LQCoX78+Hj16pLcaBEGAhYUFpkyZgv3796NevXoICwtDly5dsHDhQpw4cQJyuRzFxcV6q0EMn5OAOD4r69Wrh59//vmZx5w4cULl342uieGz0snJCX/++afKttq1a2P9+vXIzMzEBx98oPeB4xyzo4aJEydi9OjR2LJlCx48eIC33noLiYmJuHHjBpo3b46LFy9i165diIyM1FsNo0aNwtSpU3Hx4kW0bt0ad+7cwfbt2zFw4ECYmppi7dq12LBhg17vhYeHh2P06NE4deoU2rdvDxcXF5ibm6O4uBhyuRy//PILzp07hzVr1uitBqD8f+LBgwdj4cKF2LNnj17P9STDhw/H7Nmz8fvvv2PkyJFo0KABAKBOnTqIiYnBsGHDnjmeRReCg4Mxffp05OTkYPDgwWjTpo1y39WrV7F69Wp8/fXXWLhwoV7rAABPT0/Ex8dj0aJF6NevH+bMmQOJRKL38wJAhw4dsHz5cty/fx9SqRQ2Njb4+uuv8dprr8HW1haffPIJDh48iOnTp+utBj8/PyxduhRLliyBmZkZevXqhT179mDWrFnKYzZv3ozmzZvrrYZ/cnd3x4oVK5CRkYEDBw7g22+/xebNmyEIAiQSid4GzYvhcxIQx2flhx9+iEmTJiElJQUdOnSATCar9Fl5+PBhzJ8/X281AIb/rPzf//6H2bNn48aNG3jjjTeU4a5Ro0ZYvXo13nvvPYwYMUKvNfBpLDWlpaXhxIkTcHR0xGuvvYZ79+5h+vTpSElJgUwmQ0hICN5++2291vDVV18hJiYG6enpcHJyQv/+/fH+++/DzMwMy5YtQ/369fU2GLXC1atXsWXLFqSkpCAzMxOFhYWwsLCAi4sL2rRpgyFDhsDd3V2vNQBAWVkZHj9+DFtbW72f60kOHjyIHTt2YNKkSWjVqpXKvoyMDEybNg3Jycl6fRpr586dePToEUaOHKmy/eTJk1i2bBlGjhyJPn366O38T3LixAl88sknuH//Po4ePar3p7EqZGdn4+LFi7h48SIuX76MefPmQSqVYsiQIejduzcGDx6st3Nfv34dwcHBMDMzUw5G3bBhA1xdXdG4cWOcP38eN27cwBdffIFmzZrppQYvLy+cOnUKjo6OT9z/6NEjpKamIisrC6+99ppeagCe/Dk5Y8YMJCcnV9nnJPDkz8rQ0FCYmppW2WdlYmIiNmzYgF9//RUFBQXK7VZWVmjdujVCQkLQqVMnvdYAGPazUhAErF27Fjt27MDChQvRvn17lf3nz59HeHg4bt68qbfPSoYdIj2Ty+VwcnIydBlVLjs7GydOnEBAQACsra0NXU6VyM3NxRdffIFTp04hLS0Njx49gqmpKWQyGfz8/DBy5Ei9Pmbs7++P+Ph4vT/iTuoTBAF5eXnKXwwrbqVRubKyMpw/f77SL426wrCjgXPnzuHMmTPIzMxEUVERrKysIJPJ0KZNG/j4+BisBmdnZ/j5+VVZDURE9Gw5OTn4/vvvkZeXh1deeaXSFe/Hjx8jNjYWH374YZXU0KlTJzRu3PiFq4FhRw05OTkICwvDmTNn4OzsXGnOhLt376J9+/ZYvny53ga9iaEGMZg2bdpzH/vZZ5/psRIioie7cuUKhg0bhsePHwMon4tp+PDhmDx5svIYfU88yhrKcYCyGj799FPk5+fjm2++eeKTBGlpafj444/x6aefIioqymhrEEPQMDMzw65du/DSSy+hbt26ejnHfxHD+8AaxFMDlRPLz0IMdSxYsACtW7fG4sWLIZVKsXXrVixZsgS5ubl6H5TMGlQx7Kjh+++/x5YtW576yKSrqyvmzJmD9957z6hrEEPQmDt3LmrVqoX4+HgsX74cDg4OVV6DGN4H1iCeGsTw5SqGGsTwsxBLHefPn8eXX34Jc3NzAMCIESNQv359jB8/HrVq1VK5ssEa9IthRw2WlpYqU9I/ib7nChBDDWIIGgAwYcIEnDlzBkuXLsW8efOq/PxieB9Yg3hqEMOXqxhqEMPPQix1mJubo6ioSGVbz549MWPGDERERMDJyQl9+/ZlDVVQA2dQVsOcOXOEgIAA4eTJk0JRUZHKvpKSEuH06dNCjx49hJkzZxp1DYIgCAqFQnjnnXeEGTNm6PU8/+XKlSuVpoSvSmJ4H1iDeGqIjo4WOnbsKNy/f/+FrkEMPwsx1DFhwgRhyJAhyiUR/mnRokWCl5eXEBkZqdeZg1lDOYYdNRQVFQlTp04VmjRpInh7ewudOnUSunfvLnTq1Elo2rSp0KRJE+Hjjz8WCgoKjLqGCoYOGmIhhveBNYijBkN/uYqlBkEw/M9CDHXcuXNH6Nu3r+Dl5SWcOHGi0v5FixYJnp6eev2SZw3l+DSWBu7evYuUlBTI5XIUFBTA0tISMpkMrVu3rrL5VMRQg5jk5uaiqKgI1tbWBptgkAgon3AzKSkJgwYNeqFroHLFxcVISUlB48aNUbt27Ur7k5KScPjwYcydO5c16LEGhh0tiOEL9kWuITExETExMUhJSVEZp2RtbQ1fX1+89957aNu2bZXV8yL/LFgDPY1YfhZiqIM1GK4Ghh01ieELljUACQkJmDx5Mnr16oX27dtXmm8oMTERR44cQXR0NHr16qW3Ogz9PrAGcdXwTy/qlwognp+FGOpgDeKogWFHDWL4gmUN5fr06YO33nrrmYvHxcbGIj4+HocPH9ZLDWJ4H1iDeGoADP+BLoYaxPKzEEMdrEE8NXCAshpee+01YePGjc88ZuPGjUKfPn1Yg55raNGihXDt2rVnHnP16lXBx8dHbzWI4X1gDeKp4fDhw0LTpk2FiRMnCrt27RJ++OEH4fTp08IPP/wg7Nq1S5g4caLQtGlT4ZtvvjHqGsTwsxBLHaxBPDUw7KhBDF+wrKFcUFCQsHz58mces3jxYqF///56q0EM7wNrEE8NYvhAF0MNYvhZiKUO1iCeGqT6uV5knNzc3HDo0KFnHrNv376nzm7MGnQnPDwcGzduxMCBA7F06VLs2LEDe/fuxY4dO7BixQoEBwdj8+bNmDRpkt5qEMP7wBrEU8Pt27fRvXv3Zx7TrVs3ZGRkGHUNYvhZiKUO1iCeGjhmRw2nT5/G6NGj4eXlhfbt28PFxQXm5uYoLi6GXC7HL7/8gnPnzmHNmjV45ZVXWIMeawDKH6/dsmULUlJSkJmZicLCQlhYWMDFxQVt2rTBkCFDKq0wrEtieB9Yg3hqGDBgALp27YqwsLCnHhMdHY0TJ07gwIEDRluDGH4WYqmDNYinBoYdNRn6C5Y1/O369es4dOgQHjx4gM6dO6Nr164q+x89eoTIyEi9LjYohveBNYijBjF8oIuhBsDwPwsx1cEaxFED18ZSk4mJCerUqYMOHTo89Qt22rRpev2CZQ1ASkoKRo4cCScnJ0gkEsTFxSEgIABRUVHKxeYKCwuxf/9+o34fWIN4aujQoQP27t2LLVu24Pjx40/8QJ8zZ45eP9DFUANg+J+FmOpgDSKpQW+jgYxQcnKy0KJFC6Fnz55CQECA4OXlJYSFhamsUZWVlaXXKa9ZQ7l3331XmDt3rvL1N998I/j6+gojR44USkpKqqQGMbwPrEE8NQiCIKSlpQkrVqwQ5s2bJ/zwww+V9j98+FCYOnWqUdcglp+FGOpgDeKpgWFHDWL4gmUN5Xx9fYXr16+rbEtJSRFatmwpTJw4sUpqEMP7wBrEU4MYPtDFUIMYfhZiqYM1iKcGhh01iOELljWU69Kli5CSklJp+7Fjx4QmTZoI8+fPfyHeB9YgnhrE8IEuhhrE8LMQSx2sQTw18NFzNdjY2OD+/fsq23x9fREVFYWvv/5a7/efWcPfunbtioiICPz2228oKSlRbu/Rowc++eQTbNmyRa+L2gHieB9Yg3hquHjxIoYOHap83atXL2zYsAEpKSmYMmWK3s8vlhrE8LMQSx2sQTw18MqOGmbOnCn0799fOHv2rFBcXKyy74svvhA8PT2FcePG6TWdsoZyubm5QkhIiODl5SX8+OOPlfbHxcUJTZs2Nfr3gTWIpwYxXG0UQw1i+FmIpQ7WIJ4aGHbUIIYvWNagKj09XcjLy3vivmvXrglr167V27nF8D6wBvHUIIYPdDHUIIafhVjqYA3iqYFhRwOG/IJlDeIjhveBNRi+BjF8oIuhhgpi+PcgljpYg+Fr4KSCREQ6dOPGDdjb28PW1rbSvrS0NBw9ehShoaFGXwORmDDsEBERkVHj01hERERk1Bh2iIiIyKgx7BAREZFRY9ghokqmTZsGT09P/PTTT0/cf/LkSXh6emLx4sVVXFll/v7+8PT0VPnTpEkT+Pn5YdCgQThx4oTafXp6emLlypV6qJaIDIEDlImokry8PLz++uswMzPDV199BWtra+W+R48eoV+/frC1tcWePXuUq8wbir+/P9zd3TFmzBjlttLSUty4cQPr169HRkYG9uzZAy8vr+fu09PTEx9++CHGjRunj5KJqIrxyg4RVWJnZ4eIiAjcunULS5cuVdkXHR2NrKwsLFq0yOBBp4KDgwNatmyp/NOmTRsEBQXh888/R0lJCQ4ePGjoEonIgBh2iOiJ/P390a9fP2zbtg3nzp0DAKSkpODLL79EWFgYvLy8cPv2bUycOBFt27ZFixYtMGzYMFy4cEGln4yMDEyePBmvvPIKmjZtig4dOmDy5MnIyclROdf8+fMxbNgw+Pj4YPr06Tr5O9jZ2QEAJBKJcltRUREWLVqErl27olmzZujXrx8SEhKe2U9ubi5mzZqFjh07onnz5nj77bdx+vRplWOys7MRERGB7t27o1mzZmjbti3Gjh2LjIwM5TE3btzA6NGj0a5dO7Ro0QIDBw7Ejz/+qNLPpUuXEBoaCl9fX/j6+mLs2LG4efOmtm8F0QuNYYeInmrGjBlwcHDAvHnzUFxcjDlz5qBly5YYOXIksrOz8c477+DPP//EzJkzER0dDYVCgcGDB+Pq1asAgIKCAgwdOhRXr17F7NmzsXHjRgwdOhSHDx+udMUoLi4OzZs3x+rVq/HWW2+pVacgCCgtLVX+KSgoQGpqKqZMmQIzMzP07dtXedzYsWOxY8cOhISEYM2aNWjVqhUmTJiA/fv3P7HvoqIiDBs2DN9++y0mTJiAVatWQSaTYdSoUcrAIwgCQkNDcerUKYSHh2Pjxo348MMPcfr0acyePRsAoFAoEBoaioKCAixatAirV69GrVq18MEHHyA9PR1A+YR/77zzDu7fv4+FCxciMjISN2/exLvvvltpIUUiUoPe5mYmIqNw9OhRwcPDQxg8eLDQsmVL4fr164IgCMKSJUuE5s2bCxkZGcpji4qKhFdffVUYN26cIAiCcOHCBeHdd98Vbty4odJnaGio0KtXL+Xr7t27Cz169NCovu7duwseHh6V/nh7ewtvv/22kJiYqDz2p59+Ejw8PITDhw+r9BEeHi506tRJKCkpEQRBEDw8PIQVK1YIgiAIO3fuFDw8PITffvtNebxCoRAGDx4sBAUFCYIgCJmZmcKQIUOEM2fOqPQ7b948oVmzZoIgCIJcLhc8PDyEgwcPKvfn5eUJ8+fPFy5duiQIgiBMnDhR6Nixo/Dw4UPlMTk5OULr1q2FBQsWaPT+EJEgmBo6bBGRuPXs2RN9+vRBQkICZs2ahQYNGgAATp8+jSZNmsDZ2RmlpaUAAKlUii5duijHyDRp0gTbt2+HQqHA9evXkZ6ejitXruDatWvKNhWaNGmicY3du3fH2LFjAZTfKoqKioKzszNWrVqFOnXqKI87ffo0JBIJunbtqnJ+f39/HDx4EJcvX65Ux+nTp1GnTh00bdpUpU337t2xaNEiPHjwAM7Ozti6dSsEQUBGRgbS09Nx7do1/PrrryguLgYA1K5dG+7u7pg5cyZ++uknvPLKK+jSpQumTZum7DMxMRFt27aFpaWl8lw2NjZo06YNfv75Z43fH6IXHcMOEf2nzp07IyEhAV27dlVuy83NRXp6Opo2bfrENgUFBbCyssKmTZuwdu1a5Obmonbt2mjWrBmsrKzw8OFDleP/+cSXumrVqoXmzZsDAJo3bw5PT08MGDAA7733Hnbt2qUcSJ2bmwtBEODr6/vEfuRyeaWwk5ubi6ysrKf+PbOyslCzZk0cPHgQS5YswZ07d1CrVi00adIElpaWyuMkEgliY2OxZs0aHDt2DPv374eZmRl69OiBiIgI1KxZE7m5uUhISHjiGCIHBweN3hsiYtghIg3Z2tqibdu2mDx58hP3m5ub49ChQ1iwYAEmTZqEoKAg5Rf2Rx99hN9//11vtbm7uyMsLAyLFi3CqlWrMHHiRGXN1tbW2Lp16xPbVVy1+idbW1s0bNjwqXMK1atXD8nJyZgyZQqGDBmCkSNHwtnZGQCwaNEipKSkKI91dnbGnDlzMHv2bKSmpuKbb77Bhg0bYG9vj9mzZ8PW1hYdO3ZESEhIpfOYmvLjmkhTHKBMRBpp27Yt0tLS4OrqiubNmyv/HDhwAHv27IGJiQlSUlJgZ2eHUaNGKYNOfn4+UlJSoFAo9FrfsGHD4OHhgdjYWFy/fl1Z8+PHjyEIgkrNly5dwueff17p1lpFmzt37sDR0VGlzalTpxATEwMTExOcPXsWCoUC48aNUwadsrIy5a0nhUKBs2fPomPHjjh//jwkEgmaNGmCCRMmwMPDA7dv31ae68qVK2jSpInyPM2aNcPmzZtx7Ngxvb5fRMaMYYeINDJ8+HAoFAoMHz4cCQkJOH36NGbOnIkvvvgCrq6uAAAfHx/k5eVhwYIFSEpKwqFDhzB48GDcu3cPBQUFeq3P1NQUn3zyCUpKSjB//nwAQNeuXeHn54cxY8Zg+/btSEpKwoYNGzBnzhxIpdIn3ioKCgrCSy+9hJCQEOzbtw+JiYlYsmQJli9fDicnJ5iZmcHHxwcAMHfuXCQmJuLIkSMICQlBamoqAODx48fw9vaGpaUlJk+ejMOHDyMpKQlLly7FX3/9hV69egEAxowZgxs3biA0NBTHjx/HyZMnMW7cOBw+fFitSRGJSBWvixKRRpydnbFjxw5ER0djzpw5KCoqQsOGDREZGal8dDwwMBAZGRmIj4/H9u3b4ezsjK5du2LQoEGYOXMmrl69Cjc3N73V2KFDB/Tq1QtHjhzB999/j+7du2P9+vVYvnw51q1bh/v378PZ2RkhISHKAc7/Zm1tjbi4OERHRyMqKgoPHz5E3bp18fHHH2PEiBEAgHbt2mHWrFnYtGkTvvnmG9SuXRvt2rXDqlWrMHbsWKSkpKBr166IjY1FdHQ0IiMjkZeXh4YNG2Lu3LkICgoCAHh5eSEuLg5Lly7F5MmTIQgCPDw88Pnnn+PVV1/V2/tEZOy4XAQREREZNV7ZISLRUSgUzzWmh4N2ieh58MoOEYnO1KlTsW/fvv887uLFi1VQDRFVdww7RCQ6GRkZKmtnPU3F3DpERM/CsENERERGjY+eExERkVFj2CEiIiKjxrBDRERERo1hh4iIiIwaww4REREZNYYdIiIiMmoMO0RERGTUGHaIiIjIqP0f5qy59hkFUIkAAAAASUVORK5CYII=",
      "text/plain": [
       "<Figure size 640x480 with 1 Axes>"
      ]
     },
     "metadata": {},
     "output_type": "display_data"
    }
   ],
   "source": [
    "usr_Rat_Pri = df.groupby(['Average_User_Rating', 'Year_Release'])[['Price']].sum()\n",
    "\n",
    "\n",
    "usr_Rat_Pri.groupby(['Year_Release', 'Average_User_Rating'])['Price'].sum().unstack().plot(kind='bar', stacked=True)"
   ]
  },
  {
   "cell_type": "markdown",
   "id": "b434114a",
   "metadata": {},
   "source": [
    "> **Figure 10:** User rating vs Price"
   ]
  },
  {
   "cell_type": "markdown",
   "id": "d530e4a9",
   "metadata": {},
   "source": [
    "**Answer 7:** The higher the rating, the higher the price of the app."
   ]
  },
  {
   "cell_type": "markdown",
   "id": "8ac31da9",
   "metadata": {},
   "source": [
    "## Question 8.  How many apps are there for each iOS version?"
   ]
  },
  {
   "cell_type": "code",
   "execution_count": 69,
   "id": "3ed40ffc",
   "metadata": {},
   "outputs": [
    {
     "data": {
      "text/plain": [
       "<Axes: xlabel='Required_IOS_Version', ylabel='Count'>"
      ]
     },
     "execution_count": 69,
     "metadata": {},
     "output_type": "execute_result"
    },
    {
     "data": {
      "image/png": "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",
      "text/plain": [
       "<Figure size 640x480 with 1 Axes>"
      ]
     },
     "metadata": {},
     "output_type": "display_data"
    }
   ],
   "source": [
    "\n",
    "# group the dataset by Primary_Genre and Type, and count the number of apps in each group\n",
    "Ver_counts = df.groupby(['Required_IOS_Version']).size().reset_index(name='Count')\n",
    "\n",
    "\n",
    "\n",
    "# ##load top 10 free apps\n",
    "top_10_Ver_counts = Ver_counts.sort_values(by='Count', ascending=False).head(10)\n",
    "\n",
    "sns.barplot(top_10_Ver_counts , x='Required_IOS_Version', y='Count', palette='rocket')\n"
   ]
  },
  {
   "cell_type": "markdown",
   "id": "0657b1a3",
   "metadata": {},
   "source": [
    "> **Figure 11:** Top IOS Versions Vs Count of app"
   ]
  },
  {
   "cell_type": "markdown",
   "id": "a41718fa",
   "metadata": {},
   "source": [
    "**Answer 8:** Top IOS Versions Vs Count of app"
   ]
  },
  {
   "cell_type": "markdown",
   "id": "69b2779e",
   "metadata": {},
   "source": [
    "## Q9. What are the Top 5 Paid Apps based with highest ratings?"
   ]
  },
  {
   "cell_type": "code",
   "execution_count": 62,
   "id": "ce7603ca",
   "metadata": {},
   "outputs": [
    {
     "data": {
      "text/html": [
       "<div>\n",
       "<style scoped>\n",
       "    .dataframe tbody tr th:only-of-type {\n",
       "        vertical-align: middle;\n",
       "    }\n",
       "\n",
       "    .dataframe tbody tr th {\n",
       "        vertical-align: top;\n",
       "    }\n",
       "\n",
       "    .dataframe thead th {\n",
       "        text-align: right;\n",
       "    }\n",
       "</style>\n",
       "<table border=\"1\" class=\"dataframe\">\n",
       "  <thead>\n",
       "    <tr style=\"text-align: right;\">\n",
       "      <th></th>\n",
       "      <th>App_Name</th>\n",
       "      <th>Average_User_Rating</th>\n",
       "    </tr>\n",
       "  </thead>\n",
       "  <tbody>\n",
       "    <tr>\n",
       "      <th>545133</th>\n",
       "      <td>Super Nano Trucks</td>\n",
       "      <td>5</td>\n",
       "    </tr>\n",
       "    <tr>\n",
       "      <th>186395</th>\n",
       "      <td>FarRock Dodgeball</td>\n",
       "      <td>5</td>\n",
       "    </tr>\n",
       "    <tr>\n",
       "      <th>466479</th>\n",
       "      <td>Money Easy - Expense Tracker</td>\n",
       "      <td>5</td>\n",
       "    </tr>\n",
       "    <tr>\n",
       "      <th>466486</th>\n",
       "      <td>Money Flow - Expense Tracker</td>\n",
       "      <td>5</td>\n",
       "    </tr>\n",
       "    <tr>\n",
       "      <th>466487</th>\n",
       "      <td>Sketch Ideas</td>\n",
       "      <td>5</td>\n",
       "    </tr>\n",
       "  </tbody>\n",
       "</table>\n",
       "</div>"
      ],
      "text/plain": [
       "                            App_Name  Average_User_Rating\n",
       "545133             Super Nano Trucks                    5\n",
       "186395             FarRock Dodgeball                    5\n",
       "466479  Money Easy - Expense Tracker                    5\n",
       "466486  Money Flow - Expense Tracker                    5\n",
       "466487                  Sketch Ideas                    5"
      ]
     },
     "execution_count": 62,
     "metadata": {},
     "output_type": "execute_result"
    }
   ],
   "source": [
    "# sort the paid apps by rating in descending order and select the top 5\n",
    "top5_paid = df[df['Type']=='Paid'].sort_values('Average_User_Rating',ascending=False).head()[['App_Name', 'Average_User_Rating']]\n",
    "\n",
    "top5_paid"
   ]
  },
  {
   "cell_type": "markdown",
   "id": "3ef2b5a7",
   "metadata": {},
   "source": [
    "**Answer 9:** Top 5 Paid Apps are: \n",
    "1. Super Nano Trucks\n",
    "2. FarRock Dodgeball\n",
    "3. Money Easy - Expense Tracker\n",
    "4. Money Flow - Expense Tracker\n",
    "5. Sketch Ideas"
   ]
  },
  {
   "cell_type": "markdown",
   "id": "ffa61ab9",
   "metadata": {},
   "source": [
    "## Q10. What are the top 5 free Apps based with highest ratings?"
   ]
  },
  {
   "cell_type": "code",
   "execution_count": 63,
   "id": "5c2c6725",
   "metadata": {},
   "outputs": [
    {
     "data": {
      "text/html": [
       "<div>\n",
       "<style scoped>\n",
       "    .dataframe tbody tr th:only-of-type {\n",
       "        vertical-align: middle;\n",
       "    }\n",
       "\n",
       "    .dataframe tbody tr th {\n",
       "        vertical-align: top;\n",
       "    }\n",
       "\n",
       "    .dataframe thead th {\n",
       "        text-align: right;\n",
       "    }\n",
       "</style>\n",
       "<table border=\"1\" class=\"dataframe\">\n",
       "  <thead>\n",
       "    <tr style=\"text-align: right;\">\n",
       "      <th></th>\n",
       "      <th>App_Name</th>\n",
       "      <th>Average_User_Rating</th>\n",
       "    </tr>\n",
       "  </thead>\n",
       "  <tbody>\n",
       "    <tr>\n",
       "      <th>403942</th>\n",
       "      <td>Rise of Zombie - City Defense</td>\n",
       "      <td>5</td>\n",
       "    </tr>\n",
       "    <tr>\n",
       "      <th>1102121</th>\n",
       "      <td>Dog Wheelchairs</td>\n",
       "      <td>5</td>\n",
       "    </tr>\n",
       "    <tr>\n",
       "      <th>1102118</th>\n",
       "      <td>Dog App - Breed Scanner</td>\n",
       "      <td>5</td>\n",
       "    </tr>\n",
       "    <tr>\n",
       "      <th>223230</th>\n",
       "      <td>Dojo Login 2</td>\n",
       "      <td>5</td>\n",
       "    </tr>\n",
       "    <tr>\n",
       "      <th>223229</th>\n",
       "      <td>Dojo Hero</td>\n",
       "      <td>5</td>\n",
       "    </tr>\n",
       "  </tbody>\n",
       "</table>\n",
       "</div>"
      ],
      "text/plain": [
       "                              App_Name  Average_User_Rating\n",
       "403942   Rise of Zombie - City Defense                    5\n",
       "1102121                Dog Wheelchairs                    5\n",
       "1102118        Dog App - Breed Scanner                    5\n",
       "223230                    Dojo Login 2                    5\n",
       "223229                       Dojo Hero                    5"
      ]
     },
     "execution_count": 63,
     "metadata": {},
     "output_type": "execute_result"
    }
   ],
   "source": [
    "# sort the free apps by rating in descending order and select the top 5\n",
    "top5_free_apps = df[df['Type'] == 'Free'].sort_values('Average_User_Rating', ascending=False).head(5)[['App_Name', 'Average_User_Rating']]\n",
    "\n",
    "# display the top 5 free apps and their ratings\n",
    "top5_free_apps"
   ]
  },
  {
   "cell_type": "markdown",
   "id": "79d9d24b",
   "metadata": {},
   "source": [
    "**Answer 10:** Top 5 Free Apps are:\n",
    "1. Rise of Zombie - City Defense\n",
    "2. Dog Wheelchairs\n",
    "3. Dog App - Breed Scanner\n",
    "4. Dojo Login \n",
    "5. Dojo Hero\n",
    "    "
   ]
  },
  {
   "cell_type": "markdown",
   "id": "004e476f",
   "metadata": {},
   "source": [
    "# 7.0 Summary\n",
    "\n",
    "**The EDA exercise conducted on the Apple App Store dataset has yielded numerous interesting insights. The dataset was found to be relatively clean and consistent throughout the analysis. We posed several questions to the dataset and provided detailed answers and findings as follows:**\n",
    "\n",
    "Q1. What are the top 10 Categories that are installed from the Apple Store?\\\n",
    "A1. The top 10 categories are : Games, Business, Education, Utilities, Lifestyle, Food & Drink, Health & Fitness, Productivity, Entertainment, Shopping.            \n",
    "\n",
    "Q2. In which years were the maximum number of apps released?\\\n",
    "A2.  In 2020, the app store experienced the highest number of app releases, likely due to the COVID-19 pandemic, which forced more people to stay at home during lockdowns.\n",
    "\n",
    "Q3. What are the top 10 app Developers?\\\n",
    "A3.The top 10 app-producing developers are ChowNow, Touch2Success, Alexander Velimirovic, MINDBODY, Incorporated, Phorest, OFFLINE MAP TRIP GUIDE LTD, Magzter Inc., ASK Video, RAPID ACCELERATION INDIA PRIVATE LIMITED, and Nonlinear Educating Inc.\n",
    "\n",
    "Q4. What is the percentage distribution of Free and Paid Games based on their total number of reviews?\\\n",
    "A4. Based on the total number of reviews, the distribution of Free and Paid Games is as follows:\n",
    "\n",
    "- Free Games: 91.8%\n",
    "- Paid Games: 8.2%\n",
    "This distribution highlights that the majority of the games in the dataset are free, comprising 91.8% of the total, while paid games account for the remaining 8.2%. \n",
    "\n",
    "Q5. Provide a year-on-year breakdown of the top 5 genres based on app price.\\\n",
    "A5. Educational apps contribute significantly more revenue in terms of app sales.\n",
    "\n",
    "Q6. Provide a year on year comparison of apps based on Content Rating\\\n",
    "A6. The Children category is taking the lead. However as pointed out earlier the content rating of non-kids app are also rated under children caegories\n",
    "\n",
    "Q7. How are app ratings affected by the price of the app?\\\n",
    "A7. The higher the rating, the higher the price of the app.\n",
    "\n",
    "Q8. How many apps are there for each iOS version?\\\n",
    "A8. IOS 11.0 version has highest number of apps.\n",
    "\n",
    "Q9. What are the Top 5 Paid Apps based with highest ratings?\\\n",
    "A9. Top 5 Paid Apps are: Super Nano Trucks, FarRock Dodgeball, Money Easy - Expense Tracker, Money Flow - Expense Tracker, Sketch Ideas.\n",
    "\n",
    "Q10. What are the Top 5 Free Apps based with highest ratings?\\\n",
    "A10.  Top 5 Free Apps are: Rise of Zombie - City Defense, Dog Wheelchairs, Dog App - Breed Scanner, Dojo Login, Dojo Hero.\n",
    "\n"
   ]
  },
  {
   "cell_type": "markdown",
   "id": "eaacdd41",
   "metadata": {},
   "source": [
    "### Conclusion & Findings\n",
    "\n",
    "#### The primary goal of this project is to analyze the Apple App Store dataset and identify insights based on the data. By doing so, we aim to project customer dynamics and demands to developers and relevant stakeholders, helping them generate more business for their upcoming applications.\n",
    "\n",
    "\n",
    "> During this EDA exercise, we have achieved several milestones:\n",
    "\n",
    "- We have cleaned the dataset from null values.\n",
    "- No duplications have been found. Although the app names have duplications, they are unique records with different versions, AppIds, and release dates."
   ]
  },
  {
   "cell_type": "markdown",
   "id": "8bb33c91",
   "metadata": {},
   "source": [
    "# Contact Details:\n",
    "Click on the links below to contact me:\n",
    "\n",
    "[Email](zahidali852004@gmail.com)\\\n",
    "[Github](https://github.com/ZahidforAI)\\\n",
    "[kaggle](https://www.kaggle.com/zahidaliai)\\\n",
    "[Linkedin](https://www.linkedin.com/in/zahidaliai/)"
   ]
  }
 ],
 "metadata": {
  "kernelspec": {
   "display_name": "Python 3 (ipykernel)",
   "language": "python",
   "name": "python3"
  },
  "language_info": {
   "codemirror_mode": {
    "name": "ipython",
    "version": 3
   },
   "file_extension": ".py",
   "mimetype": "text/x-python",
   "name": "python",
   "nbconvert_exporter": "python",
   "pygments_lexer": "ipython3",
   "version": "3.11.4"
  }
 },
 "nbformat": 4,
 "nbformat_minor": 5
}
